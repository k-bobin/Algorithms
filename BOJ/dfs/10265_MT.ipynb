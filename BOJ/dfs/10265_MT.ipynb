{
 "cells": [
  {
   "cell_type": "code",
   "execution_count": 29,
   "metadata": {},
   "outputs": [
    {
     "name": "stdout",
     "output_type": "stream",
     "text": [
      "0\n"
     ]
    }
   ],
   "source": [
    "import sys\n",
    "sys.setrecursionlimit(10**6)\n",
    "\n",
    "\n",
    "n, k = list(map(int, input().split()))\n",
    "_list =  [0 for _ in range(n+1)]\n",
    "\n",
    "temp = list(map(int, input().split()))\n",
    "for i in range(1, n+1):\n",
    "    _list[i]= temp[i-1]\n",
    "\n",
    "ans = 0 \n",
    "\n",
    "# dfs 정의\n",
    "def dfs(first, second, num):\n",
    "    first.add(num)  # 첫 번째 줄 집합에 num 추가\n",
    "    second.add(_list[num])  # 두 번째 줄 집합에 arr[num] 추가\n",
    "\n",
    "    if _list[num] in first:  # arr[num]이 첫 번째 줄 집합에 있을 때\n",
    "        if first == second:  # 첫 번째 줄 집합과 두 번째 줄 집합이 같다면             \n",
    "            return len(first)\n",
    "    else:\n",
    "        dfs(first, second, _list[num])  # 재귀 호출\n",
    "\n",
    "# dfs 실행\n",
    "\n",
    "for i in range(1, n+1):\n",
    "    temp = dfs(set(), set(), i) \n",
    "    if temp != None and 0 < temp <= k:\n",
    "        ans = max(ans,temp)\n",
    "\n",
    "print(ans)\n",
    "\n",
    "    \n"
   ]
  },
  {
   "cell_type": "code",
   "execution_count": null,
   "metadata": {},
   "outputs": [],
   "source": [
    "1 2 3 4\n",
    "1 2 3 4 \n",
    "\n",
    "\n",
    "1 2 3 4 5 6 7 8 9 10 11 12\n",
    "2 3 4 5 6 7 4 7 8 8  12 12"
   ]
  }
 ],
 "metadata": {
  "kernelspec": {
   "display_name": "base",
   "language": "python",
   "name": "python3"
  },
  "language_info": {
   "codemirror_mode": {
    "name": "ipython",
    "version": 3
   },
   "file_extension": ".py",
   "mimetype": "text/x-python",
   "name": "python",
   "nbconvert_exporter": "python",
   "pygments_lexer": "ipython3",
   "version": "3.11.4"
  },
  "orig_nbformat": 4
 },
 "nbformat": 4,
 "nbformat_minor": 2
}
