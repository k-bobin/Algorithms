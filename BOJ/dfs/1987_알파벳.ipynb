{
 "cells": [
  {
   "cell_type": "code",
   "execution_count": 57,
   "metadata": {},
   "outputs": [
    {
     "name": "stdout",
     "output_type": "stream",
     "text": [
      "4\n"
     ]
    }
   ],
   "source": [
    "import sys\n",
    "sys.setrecursionlimit(10**9)\n",
    "                      \n",
    "r, c = map(int, input().split())\n",
    "maps = []\n",
    "for _ in range(r):\n",
    "    maps.append(list(input()))\n",
    "ans = 0\n",
    "alphas = set()\n",
    "dx = [-1, 1, 0, 0]\n",
    "dy = [0, 0, -1, 1]\n",
    "\n",
    "def dfs(x, y, count):\n",
    "    global ans\n",
    "    ans = max(ans, count)\n",
    "    for i in range(4):\n",
    "        nx = x + dx[i]\n",
    "        ny = y + dy[i]\n",
    "        if 0 <= nx < r and 0 <= ny < c and not maps[nx][ny] in alphas:\n",
    "            alphas.add(maps[nx][ny])\n",
    "            dfs(nx, ny, count+1)\n",
    "            alphas.remove(maps[nx][ny])\n",
    "\n",
    "alphas.add(maps[0][0])\n",
    "dfs(0, 0, 1)\n",
    "print(ans)"
   ]
  },
  {
   "cell_type": "code",
   "execution_count": null,
   "metadata": {},
   "outputs": [],
   "source": []
  }
 ],
 "metadata": {
  "kernelspec": {
   "display_name": "base",
   "language": "python",
   "name": "python3"
  },
  "language_info": {
   "codemirror_mode": {
    "name": "ipython",
    "version": 3
   },
   "file_extension": ".py",
   "mimetype": "text/x-python",
   "name": "python",
   "nbconvert_exporter": "python",
   "pygments_lexer": "ipython3",
   "version": "3.11.4"
  },
  "orig_nbformat": 4
 },
 "nbformat": 4,
 "nbformat_minor": 2
}
