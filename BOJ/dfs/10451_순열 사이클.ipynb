{
 "cells": [
  {
   "cell_type": "code",
   "execution_count": 39,
   "metadata": {},
   "outputs": [
    {
     "name": "stdout",
     "output_type": "stream",
     "text": [
      "3\n",
      "7\n"
     ]
    }
   ],
   "source": [
    "#10:43 \n",
    "import sys\n",
    "sys.setrecursionlimit(10000)\n",
    "from collections import deque\n",
    "def solution():\n",
    "    #graph 만들기 \n",
    "    n = int(input())\n",
    "    test = list(map(int,input().split()))\n",
    "    _list= [[i] for i in range(n+1)]\n",
    "    chk = [False] * (n+1)\n",
    "    cnt = 0\n",
    "\n",
    "    for t in range(len(test)):\n",
    "        _list[t+1].append(test[t])\n",
    "\n",
    "\n",
    "\n",
    "    def dfs(num):\n",
    "        chk[num] = True\n",
    "        next = _list[num][1]\n",
    "        if chk[next] == False:\n",
    "            dfs(next)\n",
    "        return \n",
    "\n",
    "\n",
    "\n",
    "    for i in range(1,len(_list)):\n",
    "        if chk[i] == False:\n",
    "            dfs(i)\n",
    "            cnt +=1 \n",
    "\n",
    "    print(cnt)\n",
    "               \n",
    "\n",
    "T = int(input())\n",
    "for _ in range(T):\n",
    "    solution()\n",
    "\n",
    "    \n",
    "\n"
   ]
  },
  {
   "cell_type": "code",
   "execution_count": null,
   "metadata": {},
   "outputs": [],
   "source": []
  }
 ],
 "metadata": {
  "kernelspec": {
   "display_name": "base",
   "language": "python",
   "name": "python3"
  },
  "language_info": {
   "codemirror_mode": {
    "name": "ipython",
    "version": 3
   },
   "file_extension": ".py",
   "mimetype": "text/x-python",
   "name": "python",
   "nbconvert_exporter": "python",
   "pygments_lexer": "ipython3",
   "version": "3.11.4"
  },
  "orig_nbformat": 4
 },
 "nbformat": 4,
 "nbformat_minor": 2
}
