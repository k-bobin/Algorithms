{
 "cells": [
  {
   "cell_type": "code",
   "execution_count": 46,
   "metadata": {},
   "outputs": [
    {
     "name": "stdout",
     "output_type": "stream",
     "text": [
      "4 3\n"
     ]
    }
   ],
   "source": [
    "import sys\n",
    "import copy\n",
    "\n",
    "# 원하는 재귀 깊이로 설정\n",
    "sys.setrecursionlimit(10000)\n",
    "\n",
    "n = int(input())\n",
    "color_1 = {'R':0,'B':0, 'G':0}\n",
    "color_2 = {'R':0, 'B':0}\n",
    "\n",
    "maps = [list(input()) for _ in range(n)]\n",
    "chk = [[False]*n for _ in range(n)]\n",
    "\n",
    "maps_2 = [[char.replace('G', 'R') for char in row] for row in maps]\n",
    "chk_2 = chk_2 = copy.deepcopy(chk)\n",
    "\n",
    "\n",
    "dy=[1,0,-1,0]\n",
    "dx=[0,1,0,-1]\n",
    "def dfs(y,x,c,cnt,board,visited):\n",
    "    for k in range(4):\n",
    "        ny = y + dy[k]\n",
    "        nx = x + dx[k]\n",
    "        if 0<=ny<n and 0<=nx<n:\n",
    "            if board[ny][nx] == c and visited[ny][nx] == False:\n",
    "                visited[ny][nx] = True\n",
    "                dfs(ny,nx,c,cnt,board,visited)\n",
    "\n",
    "#case_1       \n",
    "for c in color_1:\n",
    "    cnt = 0\n",
    "    for i in range(n):\n",
    "        for j in range(n):\n",
    "            if maps[i][j] == c and chk[i][j] == False:\n",
    "                chk[i][j] = True\n",
    "                dfs(i,j,c,cnt, maps,chk)\n",
    "                color_1[c] += 1\n",
    "\n",
    "\n",
    "#case_2       \n",
    "for cc in color_2:\n",
    "    cnt_2 = 0\n",
    "    for i in range(n):\n",
    "        for j in range(n):\n",
    "            if maps_2[i][j] == cc and chk_2[i][j] == False:\n",
    "                chk_2[i][j] = True\n",
    "                dfs(i,j,cc,cnt_2,maps_2,chk_2)\n",
    "                color_2[cc] += 1\n",
    "\n",
    "\n",
    "print(sum(color_1.values()), sum(color_2.values()))\n"
   ]
  },
  {
   "cell_type": "code",
   "execution_count": null,
   "metadata": {},
   "outputs": [],
   "source": []
  }
 ],
 "metadata": {
  "kernelspec": {
   "display_name": "base",
   "language": "python",
   "name": "python3"
  },
  "language_info": {
   "codemirror_mode": {
    "name": "ipython",
    "version": 3
   },
   "file_extension": ".py",
   "mimetype": "text/x-python",
   "name": "python",
   "nbconvert_exporter": "python",
   "pygments_lexer": "ipython3",
   "version": "3.11.4"
  },
  "orig_nbformat": 4
 },
 "nbformat": 4,
 "nbformat_minor": 2
}
