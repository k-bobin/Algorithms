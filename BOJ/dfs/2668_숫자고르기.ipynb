{
 "cells": [
  {
   "cell_type": "code",
   "execution_count": 2,
   "metadata": {},
   "outputs": [
    {
     "ename": "KeyboardInterrupt",
     "evalue": "",
     "output_type": "error",
     "traceback": [
      "\u001b[0;31m---------------------------------------------------------------------------\u001b[0m",
      "\u001b[0;31mKeyboardInterrupt\u001b[0m                         Traceback (most recent call last)",
      "Cell \u001b[0;32mIn[2], line 13\u001b[0m\n\u001b[1;32m     10\u001b[0m         \u001b[39mif\u001b[39;00m chk[i] \u001b[39m==\u001b[39m \u001b[39mFalse\u001b[39;00m:\n\u001b[1;32m     11\u001b[0m             dfs(i)\n\u001b[0;32m---> 13\u001b[0m n, m \u001b[39m=\u001b[39m \u001b[39mmap\u001b[39m(\u001b[39mint\u001b[39m, \u001b[39minput\u001b[39;49m()\u001b[39m.\u001b[39msplit()) \u001b[39m# 정점의 개수, 간선의 개수\u001b[39;00m\n\u001b[1;32m     14\u001b[0m graph \u001b[39m=\u001b[39m [[] \u001b[39mfor\u001b[39;00m _ \u001b[39min\u001b[39;00m \u001b[39mrange\u001b[39m(n\u001b[39m+\u001b[39m\u001b[39m1\u001b[39m)]\n\u001b[1;32m     15\u001b[0m \u001b[39mfor\u001b[39;00m i \u001b[39min\u001b[39;00m \u001b[39mrange\u001b[39m(m):\n",
      "\u001b[0;31mKeyboardInterrupt\u001b[0m: "
     ]
    }
   ],
   "source": [
    "import sys\n",
    "from collections import defaultdict\n",
    "sys.setrecursionlimit(10**6)\n",
    "\n",
    "def dfs(u, visited):\n",
    "    visited.add(u)\n",
    "    checked[u] = 1\n",
    "    for v in g[u]:\n",
    "        if v not in visited:\n",
    "            dfs(v, visited.copy())\n",
    "        else: # 사이클이 생기면 뽑는다.\n",
    "            result.extend(list(visited))\n",
    "            return\n",
    "\n",
    "n = int(sys.stdin.readline().strip())\n",
    "g = defaultdict(list)\n",
    "for i in range(1, n+1):\n",
    "    v = int(sys.stdin.readline().strip())\n",
    "    g[v].append(i)\n",
    "\n",
    "checked = [0 for _ in range(n+1)]\n",
    "result = []\n",
    "for i in range(1, n+1):\n",
    "    if not checked[i]:\n",
    "        dfs(i, set([]))\n",
    "\n",
    "result.sort()\n",
    "print(len(result)) \n",
    "for x in result:\n",
    "    print(x)"
   ]
  },
  {
   "cell_type": "code",
   "execution_count": null,
   "metadata": {},
   "outputs": [],
   "source": []
  }
 ],
 "metadata": {
  "kernelspec": {
   "display_name": "base",
   "language": "python",
   "name": "python3"
  },
  "language_info": {
   "codemirror_mode": {
    "name": "ipython",
    "version": 3
   },
   "file_extension": ".py",
   "mimetype": "text/x-python",
   "name": "python",
   "nbconvert_exporter": "python",
   "pygments_lexer": "ipython3",
   "version": "3.11.4"
  },
  "orig_nbformat": 4
 },
 "nbformat": 4,
 "nbformat_minor": 2
}
