{
 "cells": [
  {
   "cell_type": "code",
   "execution_count": 10,
   "metadata": {},
   "outputs": [
    {
     "name": "stdout",
     "output_type": "stream",
     "text": [
      "3\n",
      "1\n",
      "3\n",
      "5\n"
     ]
    }
   ],
   "source": [
    "N = int(input())  # 입력 받기\n",
    "arr = [0]  # 두 번째 줄 숫자를 담을 리스트 초기화\n",
    "\n",
    "for _ in range(N):\n",
    "    arr.append(int(input()))\n",
    "\n",
    "answer = set()  # 결과를 담을 set 초기화\n",
    "\n",
    "# dfs 정의\n",
    "def dfs(first, second, num):\n",
    "    first.add(num)  # 첫 번째 줄 집합에 num 추가\n",
    "    second.add(arr[num])  # 두 번째 줄 집합에 arr[num] 추가\n",
    "\n",
    "    if arr[num] in first:  # arr[num]이 첫 번째 줄 집합에 있을 때\n",
    "        if first == second:  # 첫 번째 줄 집합과 두 번째 줄 집합이 같다면\n",
    "            answer.update(first)  # 결과 업데이트\n",
    "        return\n",
    "    else:\n",
    "        dfs(first, second, arr[num])  # 재귀 호출\n",
    "\n",
    "# dfs 실행\n",
    "for i in range(1, N+1):\n",
    "    if i not in answer:  # i가 결과 집합 안에 없는 경우만 실행\n",
    "        dfs(set(), set(), i)\n",
    "\n",
    "# 결과 출력\n",
    "print(len(answer))\n",
    "print(*sorted(list(answer)), sep='\\n')\n",
    "\n",
    "\n",
    "\n",
    "\n",
    "\n"
   ]
  },
  {
   "cell_type": "code",
   "execution_count": null,
   "metadata": {},
   "outputs": [],
   "source": []
  }
 ],
 "metadata": {
  "kernelspec": {
   "display_name": "base",
   "language": "python",
   "name": "python3"
  },
  "language_info": {
   "codemirror_mode": {
    "name": "ipython",
    "version": 3
   },
   "file_extension": ".py",
   "mimetype": "text/x-python",
   "name": "python",
   "nbconvert_exporter": "python",
   "pygments_lexer": "ipython3",
   "version": "3.11.4"
  },
  "orig_nbformat": 4
 },
 "nbformat": 4,
 "nbformat_minor": 2
}
