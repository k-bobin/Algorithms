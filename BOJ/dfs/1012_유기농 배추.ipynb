{
 "cells": [
  {
   "cell_type": "code",
   "execution_count": 2,
   "metadata": {},
   "outputs": [
    {
     "name": "stdout",
     "output_type": "stream",
     "text": [
      "1\n",
      "5\n"
     ]
    }
   ],
   "source": [
    "#3:30\n",
    "import sys\n",
    "sys.setrecursionlimit(10000)\n",
    "\n",
    "#함수 생성\n",
    "def dfs(y,x): \n",
    "    for k in range(4):\n",
    "        ny = y + dy[k]\n",
    "        nx = x + dx[k]\n",
    "        if 0<=ny<N and 0<=nx<M:\n",
    "            if graph[ny][nx] == 1 and chk[ny][nx] == False:\n",
    "                chk[ny][nx] = True\n",
    "                dfs(ny,nx)\n",
    "\n",
    "\n",
    "\n",
    "\n",
    "T = int(input())\n",
    "\n",
    "for _ in range(T):\n",
    "    M,N,K = map(int, input().split())   #가로, 세로, 위치개수\n",
    "    graph = [[0]* M for _ in range(N)]\n",
    "    chk = [[False]* M for _ in range(N)]\n",
    "    cnt = 0\n",
    "\n",
    "    dy = [1,0, -1, 0]\n",
    "    dx = [0,1,0,-1]\n",
    "\n",
    "    #배추심은곳 1로 변경\n",
    "    for _ in range(K):\n",
    "        a,b = map(int, input().split())\n",
    "        graph[b][a] = 1 \n",
    "\n",
    "    # 탐색\n",
    "    for i in range(N):\n",
    "        for j in range(M):\n",
    "            if graph[i][j] == 1 and chk[i][j] == False:\n",
    "                chk[i][j] =True\n",
    "                dfs(i,j)\n",
    "                cnt +=1\n",
    "\n",
    "    print(cnt)"
   ]
  },
  {
   "cell_type": "code",
   "execution_count": null,
   "metadata": {},
   "outputs": [],
   "source": []
  }
 ],
 "metadata": {
  "kernelspec": {
   "display_name": "base",
   "language": "python",
   "name": "python3"
  },
  "language_info": {
   "codemirror_mode": {
    "name": "ipython",
    "version": 3
   },
   "file_extension": ".py",
   "mimetype": "text/x-python",
   "name": "python",
   "nbconvert_exporter": "python",
   "pygments_lexer": "ipython3",
   "version": "3.11.4"
  },
  "orig_nbformat": 4
 },
 "nbformat": 4,
 "nbformat_minor": 2
}
