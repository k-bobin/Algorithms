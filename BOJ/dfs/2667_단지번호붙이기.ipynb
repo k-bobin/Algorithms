{
 "cells": [
  {
   "cell_type": "code",
   "execution_count": null,
   "metadata": {},
   "outputs": [],
   "source": [
    "# 2667 단지번호 붙이기\n",
    "import sys\n",
    "input = sys.stdin.readline\n",
    "\n",
    "N = int(input())\n",
    "map = [list(map(int, input().strip())) for _ in range(N)]\n",
    "chk = [[False] * N for _ in range(N)]\n",
    "result = []\n",
    "each = 0\n",
    "dy = [0,1,0,-1]\n",
    "dx = [1,0,-1,0]\n",
    "\n",
    "def dfs(y, x):\n",
    "    global each\n",
    "    each += 1\n",
    "    for k in range(4):\n",
    "        ny = y + dy[k]\n",
    "        nx = x + dx[k]\n",
    "        if 0<=ny<N and 0<=nx<N:\n",
    "            if map[ny][nx] == 1 and chk[ny][nx] == False:\n",
    "                chk[ny][nx] = True\n",
    "                dfs(ny, nx)\n",
    "\n",
    "for j in range(N):\n",
    "    for i in range(N):\n",
    "        if map[j][i] == 1 and chk[j][i] == False:\n",
    "            chk[j][i] = True\n",
    "            each = 0\n",
    "            dfs(j,i)\n",
    "            result.append(each)\n",
    "\n",
    "result.sort()\n",
    "print(len(result))\n",
    "for i in result:\n",
    "    print(i)"
   ]
  }
 ],
 "metadata": {
  "kernelspec": {
   "display_name": "base",
   "language": "python",
   "name": "python3"
  },
  "language_info": {
   "codemirror_mode": {
    "name": "ipython",
    "version": 3
   },
   "file_extension": ".py",
   "mimetype": "text/x-python",
   "name": "python",
   "nbconvert_exporter": "python",
   "pygments_lexer": "ipython3",
   "version": "3.11.4"
  },
  "orig_nbformat": 4
 },
 "nbformat": 4,
 "nbformat_minor": 2
}
