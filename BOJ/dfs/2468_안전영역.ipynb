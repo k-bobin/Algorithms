{
 "cells": [
  {
   "cell_type": "code",
   "execution_count": null,
   "metadata": {},
   "outputs": [],
   "source": [
    "# 2468 안전영역\n",
    "import sys\n",
    "input = sys.stdin.readline\n",
    "sys.setrecursionlimit(100000)\n",
    "\n",
    "dx = [-1, 0, 1, 0]\n",
    "dy = [0, -1, 0, 1]\n",
    "\n",
    "def dfs(y, x, h):\n",
    "    for k in range(4):  # 수정: k를 4로 변경\n",
    "        ny = y + dy[k]\n",
    "        nx = x + dx[k]\n",
    "\n",
    "        if (0 <= nx < N) and (0 <= ny < N):\n",
    "            if map_data[ny][nx] > h and chk[ny][nx] == False:\n",
    "                chk[ny][nx] = True\n",
    "                dfs(ny, nx, h)\n",
    "\n",
    "N = int(input())\n",
    "map_data = [list(map(int, input().strip().split())) for _ in range(N)]  # 수정: 공백을 기준으로 split\n",
    "num = 1\n",
    "\n",
    "for p in range(1, 101):\n",
    "    chk = [[False] * N for _ in range(N)]\n",
    "    cnt = 0\n",
    "    for j in range(N):\n",
    "        for i in range(N):\n",
    "            if map_data[j][i] > p and chk[j][i] == False:\n",
    "                chk[j][i] = True\n",
    "                dfs(j, i, p)\n",
    "                cnt += 1  \n",
    "    num = max(num, cnt)\n",
    "\n",
    "print(num)"
   ]
  }
 ],
 "metadata": {
  "kernelspec": {
   "display_name": "base",
   "language": "python",
   "name": "python3"
  },
  "language_info": {
   "codemirror_mode": {
    "name": "ipython",
    "version": 3
   },
   "file_extension": ".py",
   "mimetype": "text/x-python",
   "name": "python",
   "nbconvert_exporter": "python",
   "pygments_lexer": "ipython3",
   "version": "3.11.4"
  },
  "orig_nbformat": 4
 },
 "nbformat": 4,
 "nbformat_minor": 2
}
