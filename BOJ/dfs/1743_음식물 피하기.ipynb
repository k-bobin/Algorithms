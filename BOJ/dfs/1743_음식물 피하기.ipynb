{
 "cells": [
  {
   "cell_type": "code",
   "execution_count": null,
   "metadata": {},
   "outputs": [],
   "source": [
    "# 1743 음식물 피하기\n",
    "import sys\n",
    "sys.setrecursionlimit(10000)\n",
    "\n",
    "dx = [-1, 0, 1, 0]\n",
    "dy = [0, -1, 0, 1]\n",
    "\n",
    "def dfs(y, x):\n",
    "    global each\n",
    "    each += 1\n",
    "    for k in range(4):\n",
    "        ny = y + dy[k]\n",
    "        nx = x + dx[k]\n",
    "        if 0 <= nx < m+1 and 0 <= ny < n+1:\n",
    "            if chk[ny][nx] == False and maps[ny][nx] == 1:\n",
    "                chk[ny][nx] = True\n",
    "                dfs(ny, nx)\n",
    "\n",
    "n, m, k = map(int, sys.stdin.readline().split())\n",
    "chk = [[False] * (m + 1) for _ in range(n + 1)]\n",
    "maps = [[0] * (m + 1) for _ in range(n + 1)]\n",
    "\n",
    "for _ in range(k):\n",
    "    r, c = map(int, sys.stdin.readline().split())\n",
    "    maps[r][c] = 1\n",
    "\n",
    "num = 1\n",
    "for j in range(1, n + 1):\n",
    "    for i in range(1, m + 1):\n",
    "        if maps[j][i] == 1 and chk[j][i] == False:\n",
    "            chk[j][i] = True\n",
    "            each = 0\n",
    "            dfs(j, i)\n",
    "            num = max(num, each)\n",
    "\n",
    "print(num)"
   ]
  }
 ],
 "metadata": {
  "kernelspec": {
   "display_name": "base",
   "language": "python",
   "name": "python3"
  },
  "language_info": {
   "codemirror_mode": {
    "name": "ipython",
    "version": 3
   },
   "file_extension": ".py",
   "mimetype": "text/x-python",
   "name": "python",
   "nbconvert_exporter": "python",
   "pygments_lexer": "ipython3",
   "version": "3.11.4"
  },
  "orig_nbformat": 4
 },
 "nbformat": 4,
 "nbformat_minor": 2
}
