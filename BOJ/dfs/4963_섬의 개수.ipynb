{
 "cells": [
  {
   "cell_type": "code",
   "execution_count": 2,
   "metadata": {},
   "outputs": [
    {
     "name": "stdout",
     "output_type": "stream",
     "text": [
      "0\n",
      "1\n",
      "1\n",
      "3\n",
      "1\n",
      "9\n"
     ]
    }
   ],
   "source": [
    "import sys\n",
    "sys.setrecursionlimit(10000)\n",
    "\n",
    "dy = [1, 1, 1, 0, 0, -1, -1, -1]\n",
    "dx = [-1, 0, 1, -1, 1, -1, 0, 1]\n",
    "\n",
    "def dfs(y, x):\n",
    "    for k in range(8):\n",
    "        ny = y + dy[k]\n",
    "        nx = x + dx[k]\n",
    "        if 0 <= nx < n and 0 <= ny < m:\n",
    "            if chk[ny][nx] == False and graph[ny][nx] == 1:\n",
    "                chk[ny][nx] = True\n",
    "                dfs(ny, nx)\n",
    "while True:\n",
    "    n,m = map(int,input().split())\n",
    "    if n == 0 and m ==0: \n",
    "        break\n",
    "    else: \n",
    "        graph = []\n",
    "        for i in range(m):\n",
    "            graph.append(list(map(int,input().split())))\n",
    "\n",
    "        chk = [[False] * n for _ in range(m)]\n",
    "        cnt = 0\n",
    "        # print(graph)\n",
    "        # print(chk)\n",
    "\n",
    "        for i in range(m):\n",
    "            for j in range(n):\n",
    "                if chk[i][j] == False and graph[i][j] == 1:\n",
    "                    dfs(i, j)\n",
    "                    cnt += 1\n",
    "\n",
    "        print(cnt)\n"
   ]
  },
  {
   "cell_type": "code",
   "execution_count": null,
   "metadata": {},
   "outputs": [],
   "source": []
  }
 ],
 "metadata": {
  "kernelspec": {
   "display_name": "base",
   "language": "python",
   "name": "python3"
  },
  "language_info": {
   "codemirror_mode": {
    "name": "ipython",
    "version": 3
   },
   "file_extension": ".py",
   "mimetype": "text/x-python",
   "name": "python",
   "nbconvert_exporter": "python",
   "pygments_lexer": "ipython3",
   "version": "3.11.4"
  },
  "orig_nbformat": 4
 },
 "nbformat": 4,
 "nbformat_minor": 2
}
