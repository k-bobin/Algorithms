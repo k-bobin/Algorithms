{
 "cells": [
  {
   "cell_type": "code",
   "execution_count": 19,
   "metadata": {},
   "outputs": [
    {
     "name": "stdout",
     "output_type": "stream",
     "text": [
      "3\n",
      "0\n"
     ]
    }
   ],
   "source": [
    "import sys\n",
    "sys.setrecursionlimit(10**6)\n",
    "\n",
    "times = int(input())\n",
    "for _ in range(times):\n",
    "    n = int(input())\n",
    "    _list =  [0 for _ in range(n+1)]\n",
    "\n",
    "    temp = list(map(int, input().split()))\n",
    "    for i in range(1, n+1):\n",
    "        _list[i]= temp[i-1]\n",
    "\n",
    "    answer = set()\n",
    "\n",
    "    # dfs 정의\n",
    "    def dfs(first, second, num):\n",
    "        first.add(num)  # 첫 번째 줄 집합에 num 추가\n",
    "        second.add(_list[num])  # 두 번째 줄 집합에 arr[num] 추가\n",
    "\n",
    "        if _list[num] in first:  # arr[num]이 첫 번째 줄 집합에 있을 때\n",
    "            if first == second:  # 첫 번째 줄 집합과 두 번째 줄 집합이 같다면\n",
    "                answer.update(first)  # 결과 업데이트\n",
    "            return\n",
    "        else:\n",
    "            dfs(first, second, _list[num])  # 재귀 호출\n",
    "\n",
    "    # dfs 실행\n",
    "    for i in range(1, n+1):\n",
    "        if i not in answer:  # i가 결과 집합 안에 없는 경우만 실행\n",
    "            dfs(set(), set(), i)\n",
    "    \n",
    "    print(n - len(answer))\n",
    "\n",
    "\n"
   ]
  },
  {
   "cell_type": "code",
   "execution_count": 20,
   "metadata": {},
   "outputs": [
    {
     "name": "stdout",
     "output_type": "stream",
     "text": [
      "3\n",
      "0\n"
     ]
    }
   ],
   "source": [
    "import sys\n",
    "\n",
    "sys.setrecursionlimit(10**6)\n",
    "\n",
    "times = int(input())\n",
    "for _ in range(times):\n",
    "    n = int(input())\n",
    "    _list = [0] + list(map(int, input().split()))\n",
    "    answer = set()\n",
    "\n",
    "    visited = [False] * (n + 1)\n",
    "\n",
    "    for i in range(1, n + 1):\n",
    "        if not visited[i]:\n",
    "            stack = []\n",
    "            while not visited[i]:\n",
    "                stack.append(i)\n",
    "                visited[i] = True\n",
    "                i = _list[i]\n",
    "\n",
    "            if i in stack:\n",
    "                answer.update(stack[stack.index(i):])\n",
    "\n",
    "    print(n - len(answer))\n"
   ]
  },
  {
   "cell_type": "code",
   "execution_count": null,
   "metadata": {},
   "outputs": [],
   "source": []
  }
 ],
 "metadata": {
  "kernelspec": {
   "display_name": "base",
   "language": "python",
   "name": "python3"
  },
  "language_info": {
   "codemirror_mode": {
    "name": "ipython",
    "version": 3
   },
   "file_extension": ".py",
   "mimetype": "text/x-python",
   "name": "python",
   "nbconvert_exporter": "python",
   "pygments_lexer": "ipython3",
   "version": "3.11.4"
  },
  "orig_nbformat": 4
 },
 "nbformat": 4,
 "nbformat_minor": 2
}
