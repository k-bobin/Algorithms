{
 "cells": [
  {
   "cell_type": "code",
   "execution_count": 2,
   "metadata": {},
   "outputs": [
    {
     "ename": "KeyboardInterrupt",
     "evalue": "",
     "output_type": "error",
     "traceback": [
      "\u001b[0;31m---------------------------------------------------------------------------\u001b[0m",
      "\u001b[0;31mKeyboardInterrupt\u001b[0m                         Traceback (most recent call last)",
      "Cell \u001b[0;32mIn[2], line 13\u001b[0m\n\u001b[1;32m     10\u001b[0m         \u001b[39mif\u001b[39;00m chk[i] \u001b[39m==\u001b[39m \u001b[39mFalse\u001b[39;00m:\n\u001b[1;32m     11\u001b[0m             dfs(i)\n\u001b[0;32m---> 13\u001b[0m n, m \u001b[39m=\u001b[39m \u001b[39mmap\u001b[39m(\u001b[39mint\u001b[39m, \u001b[39minput\u001b[39;49m()\u001b[39m.\u001b[39msplit()) \u001b[39m# 정점의 개수, 간선의 개수\u001b[39;00m\n\u001b[1;32m     14\u001b[0m graph \u001b[39m=\u001b[39m [[] \u001b[39mfor\u001b[39;00m _ \u001b[39min\u001b[39;00m \u001b[39mrange\u001b[39m(n\u001b[39m+\u001b[39m\u001b[39m1\u001b[39m)]\n\u001b[1;32m     15\u001b[0m \u001b[39mfor\u001b[39;00m i \u001b[39min\u001b[39;00m \u001b[39mrange\u001b[39m(m):\n",
      "\u001b[0;31mKeyboardInterrupt\u001b[0m: "
     ]
    }
   ],
   "source": [
    "import sys\n",
    "sys.setrecursionlimit(111111) #충분한 재귀 깊이를 주어 오류를 예방\n",
    "\n",
    "\n",
    "def dfs(x):\n",
    "    global result\n",
    "    visited[x] = True\n",
    "    cycle.append(x) #사이클을 이루는 팀을 확인하기 위함\n",
    "    number = numbers[x]\n",
    "    \n",
    "    if visited[number]: #방문가능한 곳이 끝났는지\n",
    "        if number in cycle: #사이클 가능 여부\n",
    "            result += cycle[cycle.index(number):] #사이클 되는 구간 부터만 팀을 이룸\n",
    "        return\n",
    "    else:\n",
    "        dfs(number)\n",
    "\n",
    "\n",
    "for _ in range(int(input())):\n",
    "    N = int(input())\n",
    "    numbers = [0] + list(map(int, input().split()))\n",
    "    visited = [True] + [False] * N #방문 여부\n",
    "    result = []\n",
    "    \n",
    "    for i in range(1, N+1):\n",
    "        if not visited[i]: #방문 안한 곳이라면\n",
    "            cycle = []\n",
    "            dfs(i) #DFS 함수 돌림\n",
    "            \n",
    "    print(N - len(result)) #팀에 없는 사람 수\n"
   ]
  },
  {
   "cell_type": "code",
   "execution_count": null,
   "metadata": {},
   "outputs": [],
   "source": []
  }
 ],
 "metadata": {
  "kernelspec": {
   "display_name": "base",
   "language": "python",
   "name": "python3"
  },
  "language_info": {
   "codemirror_mode": {
    "name": "ipython",
    "version": 3
   },
   "file_extension": ".py",
   "mimetype": "text/x-python",
   "name": "python",
   "nbconvert_exporter": "python",
   "pygments_lexer": "ipython3",
   "version": "3.11.4"
  },
  "orig_nbformat": 4
 },
 "nbformat": 4,
 "nbformat_minor": 2
}
