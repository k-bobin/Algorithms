{
 "cells": [
  {
   "cell_type": "code",
   "execution_count": 20,
   "metadata": {},
   "outputs": [
    {
     "name": "stdout",
     "output_type": "stream",
     "text": [
      "16\n"
     ]
    },
    {
     "ename": "ValueError",
     "evalue": "not enough values to unpack (expected 3, got 2)",
     "output_type": "error",
     "traceback": [
      "\u001b[0;31m---------------------------------------------------------------------------\u001b[0m",
      "\u001b[0;31mValueError\u001b[0m                                Traceback (most recent call last)",
      "Cell \u001b[0;32mIn[20], line 25\u001b[0m\n\u001b[1;32m     22\u001b[0m T \u001b[39m=\u001b[39m \u001b[39mint\u001b[39m(\u001b[39minput\u001b[39m())\n\u001b[1;32m     24\u001b[0m \u001b[39mfor\u001b[39;00m _ \u001b[39min\u001b[39;00m \u001b[39mrange\u001b[39m(T):\n\u001b[0;32m---> 25\u001b[0m     M,N,K \u001b[39m=\u001b[39m \u001b[39mmap\u001b[39m(\u001b[39mint\u001b[39m, \u001b[39minput\u001b[39m()\u001b[39m.\u001b[39msplit())   \u001b[39m#가로, 세로, 위치개수\u001b[39;00m\n\u001b[1;32m     26\u001b[0m     graph \u001b[39m=\u001b[39m [[\u001b[39m0\u001b[39m]\u001b[39m*\u001b[39m M \u001b[39mfor\u001b[39;00m _ \u001b[39min\u001b[39;00m \u001b[39mrange\u001b[39m(N)]\n\u001b[1;32m     27\u001b[0m     chk \u001b[39m=\u001b[39m [[\u001b[39mFalse\u001b[39;00m]\u001b[39m*\u001b[39m M \u001b[39mfor\u001b[39;00m _ \u001b[39min\u001b[39;00m \u001b[39mrange\u001b[39m(N)]\n",
      "\u001b[0;31mValueError\u001b[0m: not enough values to unpack (expected 3, got 2)"
     ]
    }
   ],
   "source": [
    "#2:40\n",
    "import sys\n",
    "sys.setrecursionlimit(10000)\n",
    "from collections import deque\n",
    "\n",
    "#함수 생성\n",
    "def bfs(y,x): \n",
    "    q = deque()\n",
    "    q.append((y,x))\n",
    "    while q: \n",
    "        y,x = q.popleft()\n",
    "        for k in range(4):\n",
    "            ny = y + dy[k]\n",
    "            nx = x + dx[k]\n",
    "            if 0<=ny<N and 0<=nx<M:\n",
    "                if graph[ny][nx] == 1 and chk[ny][nx] == False:\n",
    "                    chk[ny][nx] = True\n",
    "                    q.append((ny,nx))\n",
    "\n",
    "\n",
    "\n",
    "T = int(input())\n",
    "\n",
    "for _ in range(T):\n",
    "    M,N,K = map(int, input().split())   #가로, 세로, 위치개수\n",
    "    graph = [[0]* M for _ in range(N)]\n",
    "    chk = [[False]* M for _ in range(N)]\n",
    "    cnt = 0\n",
    "\n",
    "    dy = [1,0, -1, 0]\n",
    "    dx = [0,1,0,-1]\n",
    "\n",
    "    #배추심은곳 1로 변경\n",
    "    for _ in range(K):\n",
    "        a,b = map(int, input().split())\n",
    "        graph[b][a] = 1 \n",
    "\n",
    "    # 탐색\n",
    "    for i in range(N):\n",
    "        for j in range(M):\n",
    "            if graph[i][j] == 1 and chk[i][j] == False:\n",
    "                chk[i][j] =True\n",
    "                bfs(i,j)\n",
    "                cnt +=1\n",
    "\n",
    "    print(cnt)"
   ]
  },
  {
   "cell_type": "code",
   "execution_count": null,
   "metadata": {},
   "outputs": [],
   "source": []
  }
 ],
 "metadata": {
  "kernelspec": {
   "display_name": "base",
   "language": "python",
   "name": "python3"
  },
  "language_info": {
   "codemirror_mode": {
    "name": "ipython",
    "version": 3
   },
   "file_extension": ".py",
   "mimetype": "text/x-python",
   "name": "python",
   "nbconvert_exporter": "python",
   "pygments_lexer": "ipython3",
   "version": "3.11.4"
  },
  "orig_nbformat": 4
 },
 "nbformat": 4,
 "nbformat_minor": 2
}
