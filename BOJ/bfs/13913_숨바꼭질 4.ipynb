{
 "cells": [
  {
   "cell_type": "code",
   "execution_count": 2,
   "metadata": {},
   "outputs": [
    {
     "name": "stdout",
     "output_type": "stream",
     "text": [
      "0\n",
      "1\n",
      "1\n",
      "2\n",
      "1\n",
      "9\n"
     ]
    }
   ],
   "source": [
    "import sys\n",
    "sys.setrecursionlimit(10000)\n",
    "from collections import deque\n",
    "\n",
    "def bfs(v):\n",
    "    q = deque()\n",
    "    q.append(v)\n",
    "\n",
    "    while q:\n",
    "        v = q.popleft()\n",
    "        if v == k:\n",
    "            return visited[k]\n",
    "\n",
    "        for i in range(v-1, v+1, 2*v):  #4 5 10 \n",
    "            if 0<=i<=100000 and visited[i] == -1:\n",
    "                visited[i] = visited[v] + 1 \n",
    "                q.append(i)\n",
    "\n",
    "\n",
    "n,k = map(int,input().split())\n",
    "visited = [-1] * 100001\n",
    "visited[0] = 0\n",
    "\n",
    "bfs(n)\n",
    "\n"
   ]
  },
  {
   "cell_type": "code",
   "execution_count": null,
   "metadata": {},
   "outputs": [],
   "source": []
  }
 ],
 "metadata": {
  "kernelspec": {
   "display_name": "base",
   "language": "python",
   "name": "python3"
  },
  "language_info": {
   "codemirror_mode": {
    "name": "ipython",
    "version": 3
   },
   "file_extension": ".py",
   "mimetype": "text/x-python",
   "name": "python",
   "nbconvert_exporter": "python",
   "pygments_lexer": "ipython3",
   "version": "3.11.4"
  },
  "orig_nbformat": 4
 },
 "nbformat": 4,
 "nbformat_minor": 2
}
