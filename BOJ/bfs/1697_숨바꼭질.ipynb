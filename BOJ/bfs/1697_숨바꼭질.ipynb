{
 "cells": [
  {
   "cell_type": "code",
   "execution_count": 1,
   "metadata": {},
   "outputs": [],
   "source": [
    "import sys\n",
    "from collections import deque\n",
    "\n",
    "def bfs(v):\n",
    "    q = deque([v]) #큐 구현을 위해 deque 사용\n",
    "    while q:\n",
    "        v = q.popleft()\n",
    "        if v == k:\n",
    "            return visited[v]\n",
    "        for i in (v-1, v+1, 2*v):\n",
    "            if 0 <= i <= 100000 and not visited[i]:\n",
    "                visited[i] = visited[v] + 1\n",
    "                q.append(i)\n",
    "\n",
    "n, k = map(int, sys.stdin.readline().split())\n",
    "visited = [0 for i in range(100001)]\n",
    "print(bfs(n))"
   ]
  },
  {
   "cell_type": "code",
   "execution_count": null,
   "metadata": {},
   "outputs": [],
   "source": []
  }
 ],
 "metadata": {
  "kernelspec": {
   "display_name": "base",
   "language": "python",
   "name": "python3"
  },
  "language_info": {
   "codemirror_mode": {
    "name": "ipython",
    "version": 3
   },
   "file_extension": ".py",
   "mimetype": "text/x-python",
   "name": "python",
   "nbconvert_exporter": "python",
   "pygments_lexer": "ipython3",
   "version": "3.11.4"
  },
  "orig_nbformat": 4
 },
 "nbformat": 4,
 "nbformat_minor": 2
}
