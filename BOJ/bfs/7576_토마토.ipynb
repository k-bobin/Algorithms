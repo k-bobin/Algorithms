{
 "cells": [
  {
   "cell_type": "code",
   "execution_count": 7,
   "metadata": {},
   "outputs": [
    {
     "name": "stdout",
     "output_type": "stream",
     "text": [
      "9\n"
     ]
    }
   ],
   "source": [
    "from collections import deque\n",
    "\n",
    "m, n = map(int, input().split())\n",
    "maps = [ list(map(int,input().split())) for _ in range(n)]\n",
    "ans = 0\n",
    "\n",
    "dy = [1,0,-1,0]\n",
    "dx = [0,1,0,-1]\n",
    "\n",
    "def bfs(y, x):\n",
    "    q = deque()\n",
    "    q.append((y, x))\n",
    "\n",
    "    while q:\n",
    "        y, x = q.popleft()\n",
    "        for k in range(4):\n",
    "            ny = y + dy[k]\n",
    "            nx = x + dx[k]\n",
    "\n",
    "            if 0 <= ny < n and 0 <= nx < m:\n",
    "                if maps[ny][nx] == 0:\n",
    "                    maps[ny][nx] = maps[y][x] + 1\n",
    "                    q.append((ny, nx))\n",
    "\n",
    "\n",
    "for i in range(n):\n",
    "    for j in range(m):\n",
    "        if maps[i][j] == 1:\n",
    "            bfs(i,j)\n",
    "\n",
    "ans = 0\n",
    "for i in maps:\n",
    "    for j in i:\n",
    "        if j == 0:\n",
    "            ans = -1\n",
    "            break\n",
    "        else:\n",
    "            ans = max(j, ans)\n",
    "\n",
    "print(ans-1)\n",
    "\n"
   ]
  },
  {
   "cell_type": "code",
   "execution_count": null,
   "metadata": {},
   "outputs": [],
   "source": []
  }
 ],
 "metadata": {
  "kernelspec": {
   "display_name": "base",
   "language": "python",
   "name": "python3"
  },
  "language_info": {
   "codemirror_mode": {
    "name": "ipython",
    "version": 3
   },
   "file_extension": ".py",
   "mimetype": "text/x-python",
   "name": "python",
   "nbconvert_exporter": "python",
   "pygments_lexer": "ipython3",
   "version": "3.11.4"
  },
  "orig_nbformat": 4
 },
 "nbformat": 4,
 "nbformat_minor": 2
}
