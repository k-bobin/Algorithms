{
 "cells": [
  {
   "cell_type": "code",
   "execution_count": 19,
   "metadata": {},
   "outputs": [
    {
     "ename": "SyntaxError",
     "evalue": "invalid syntax (3888426752.py, line 18)",
     "output_type": "error",
     "traceback": [
      "\u001b[0;36m  Cell \u001b[0;32mIn[19], line 18\u001b[0;36m\u001b[0m\n\u001b[0;31m    if (visited[i] == -1:\u001b[0m\n\u001b[0m                        ^\u001b[0m\n\u001b[0;31mSyntaxError\u001b[0m\u001b[0;31m:\u001b[0m invalid syntax\n"
     ]
    }
   ],
   "source": [
    "from collections import deque\n",
    "import sys\n",
    "\n",
    "input = sys.stdin.readline\n",
    "dx = [1, -1, 0, 0, 0, 0]\n",
    "dy = [0, 0, 1, -1, 0, 0]\n",
    "dz = [0, 0, 0, 0, 1, -1]\n",
    "\n",
    "def bfs(x, y, z):\n",
    "    q.append([x, y, z])\n",
    "    d[x][y][z] = 1\n",
    "    while q:\n",
    "        x, y, z = q.popleft()\n",
    "        for i in range(6):\n",
    "            nx = x + dx[i]\n",
    "            ny = y + dy[i]\n",
    "            nz = z + dz[i]\n",
    "            if 0 <= nx < l and 0 <= ny < r and 0 <= nz < c:\n",
    "                if a[nx][ny][nz] == 'E':\n",
    "                    print(\"Escaped in {0} minute(s).\".format(d[x][y][z]))\n",
    "                    return\n",
    "                if a[nx][ny][nz] == '.' and d[nx][ny][nz] == 0:\n",
    "                    d[nx][ny][nz] = d[x][y][z] + 1\n",
    "                    q.append([nx, ny, nz])\n",
    "    print(\"Trapped!\")\n",
    "\n",
    "while True:\n",
    "    l, r, c = map(int, input().split())\n",
    "    if l == 0 and r == 0 and c == 0:\n",
    "        break\n",
    "    a = [[[]*c for _ in range(r)] for _ in range(l)]\n",
    "    d = [[[0]*c for _ in range(r)] for _ in range(l)]\n",
    "    q = deque()\n",
    "    for i in range(l):\n",
    "        a[i] = [list(map(str, input().strip())) for _ in range(r)]\n",
    "        input()\n",
    "    for i in range(l):\n",
    "        for j in range(r):\n",
    "            for k in range(c):\n",
    "                if a[i][j][k] == 'S':\n",
    "                    bfs(i, j, k)"
   ]
  }
 ],
 "metadata": {
  "kernelspec": {
   "display_name": "base",
   "language": "python",
   "name": "python3"
  },
  "language_info": {
   "codemirror_mode": {
    "name": "ipython",
    "version": 3
   },
   "file_extension": ".py",
   "mimetype": "text/x-python",
   "name": "python",
   "nbconvert_exporter": "python",
   "pygments_lexer": "ipython3",
   "version": "3.11.4"
  },
  "orig_nbformat": 4
 },
 "nbformat": 4,
 "nbformat_minor": 2
}
