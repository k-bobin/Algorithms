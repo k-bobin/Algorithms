{
 "cells": [
  {
   "cell_type": "code",
   "execution_count": null,
   "metadata": {},
   "outputs": [],
   "source": [
    "# 2583 영역 구하기\n",
    "import sys\n",
    "sys.setrecursionlimit(100000)\n",
    "\n",
    "def dfs(r, c):\n",
    "    global cnt\n",
    "    visit[r][c] = 1\n",
    "    for i in range(4):\n",
    "        nr = r + dr[i]\n",
    "        nc = c + dc[i]\n",
    "        if 0 <= nr < M and 0 <= nc < N and visit[nr][nc] == 0:\n",
    "            cnt += 1\n",
    "            dfs(nr, nc)\n",
    "\n",
    "M, N, K = map(int, input().split())\n",
    "\n",
    "visit = [[0] * N for _ in range(M)]\n",
    "\n",
    "for _ in range(K):\n",
    "    sc, sr, ec, er = map(int, input().split())\n",
    "    for i in range(sr, er):\n",
    "        for j in range(sc, ec):\n",
    "            visit[i][j] = 1\n",
    "\n",
    "# 12시부터 시계방향\n",
    "dr = [-1, 0, 1, 0]\n",
    "dc = [0, 1, 0, -1]\n",
    "area = 0  # 영역의 갯수\n",
    "ans = []\n",
    "\n",
    "for i in range(M):\n",
    "    for j in range(N):\n",
    "        if visit[i][j] == 0:\n",
    "            cnt = 1  # 넓이 초기화\n",
    "            area += 1\n",
    "            dfs(i, j)\n",
    "            ans.append(cnt)\n",
    "\n",
    "ans.sort()\n",
    "print(area)\n",
    "print(' '.join(map(str, ans)))"
   ]
  }
 ],
 "metadata": {
  "kernelspec": {
   "display_name": "base",
   "language": "python",
   "name": "python3"
  },
  "language_info": {
   "codemirror_mode": {
    "name": "ipython",
    "version": 3
   },
   "file_extension": ".py",
   "mimetype": "text/x-python",
   "name": "python",
   "nbconvert_exporter": "python",
   "pygments_lexer": "ipython3",
   "version": "3.11.4"
  },
  "orig_nbformat": 4
 },
 "nbformat": 4,
 "nbformat_minor": 2
}
