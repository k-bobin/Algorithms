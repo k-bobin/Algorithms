{
 "cells": [
  {
   "cell_type": "code",
   "execution_count": null,
   "metadata": {},
   "outputs": [],
   "source": [
    "#1260 dfs와 bfs\n",
    "\n",
    "def dfs(v):\n",
    "    print(v, end=' ')\n",
    "    # 방문 노드 체크\n",
    "    visit[v] = 1\n",
    "    for i in range(1, n + 1):\n",
    "    \t# 방문한적 없는 인접 노드 방문\n",
    "        if visit[i] == 0 and s[v][i] == 1:\n",
    "            dfs(i)\n",
    "\n",
    "\n",
    "def bfs(v):\n",
    "\t# 시작 노드 큐에 추가\n",
    "    queue = [v]\n",
    "    # 방문 노드 체크\n",
    "    visit[v] = 0\n",
    "    # 큐가 빌때까지 반복\n",
    "    while (queue):\n",
    "    \t# 시작 노드 추출\n",
    "        v = queue[0]\n",
    "        print(v, end=' ')\n",
    "        # 시작 노드 제거\n",
    "        del queue[0]\n",
    "        for i in range(1, n + 1):\n",
    "        \t# 방문한적 없는 인접 노드 방문\n",
    "            if visit[i] == 1 and s[v][i] == 1:\n",
    "                queue.append(i)\n",
    "                visit[i] = 0\n",
    "\n",
    "\n",
    "n, m, v = map(int, input().split())\n",
    "# 행 열 번호를 사용하기위해 0번째 인덱스 0으로 초기화\n",
    "s = [[0] * (n + 1) for i in range(n + 1)]\n",
    "# 방문 체크 리스트\n",
    "visit = [0 for i in range(n + 1)]\n",
    "for i in range(m):\n",
    "    x, y = map(int, input().split())\n",
    "    s[x][y] = 1\n",
    "    s[y][x] = 1\n",
    "\n",
    "dfs(v)\n",
    "print()\n",
    "bfs(v)"
   ]
  }
 ],
 "metadata": {
  "kernelspec": {
   "display_name": "base",
   "language": "python",
   "name": "python3"
  },
  "language_info": {
   "codemirror_mode": {
    "name": "ipython",
    "version": 3
   },
   "file_extension": ".py",
   "mimetype": "text/x-python",
   "name": "python",
   "nbconvert_exporter": "python",
   "pygments_lexer": "ipython3",
   "version": "3.11.4"
  },
  "orig_nbformat": 4
 },
 "nbformat": 4,
 "nbformat_minor": 2
}
