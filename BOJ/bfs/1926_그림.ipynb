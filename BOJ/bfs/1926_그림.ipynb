{
 "cells": [
  {
   "cell_type": "code",
   "execution_count": null,
   "metadata": {},
   "outputs": [],
   "source": [
    "# 1926 그림\n",
    "\n",
    "from collections import deque\n",
    "\n",
    "import sys\n",
    "input = sys.stdin.readline\n",
    "\n",
    "n,m = map(int, input().split())\n",
    "map = [list(map(int, input().split())) for _ in range(n)]\n",
    "chk = [[False] * m for _ in range(n)]\n",
    "\n",
    "dy = [0,1,0,-1]\n",
    "dx = [1,0,-1,0]\n",
    "\n",
    "def bfs(y, x):\n",
    "    rs = 1\n",
    "    q = deque()\n",
    "    q.append((y, x))\n",
    "    while q:\n",
    "        ey, ex = q.popleft()\n",
    "        for k in range(4):\n",
    "            ny = ey + dy[k]\n",
    "            nx = ex + dx[k]\n",
    "            if 0<=ny<n and 0<=nx<m:\n",
    "                if map[ny][nx] == 1 and chk[ny][nx] == False:\n",
    "                    rs += 1\n",
    "                    chk[ny][nx] = True\n",
    "                    q.append((ny,nx))\n",
    "    return rs\n",
    "\n",
    "cnt = 0\n",
    "maxv = 0\n",
    "for j in range(n):\n",
    "    for i in range(m):\n",
    "        if map[j][i] == 1 and chk[j][i] == False:\n",
    "            chk[j][i] = True\n",
    "            cnt += 1\n",
    "            maxv = max(maxv, bfs(j,i))\n",
    "\n",
    "print(cnt)\n",
    "print(maxv)"
   ]
  }
 ],
 "metadata": {
  "kernelspec": {
   "display_name": "base",
   "language": "python",
   "name": "python3"
  },
  "language_info": {
   "codemirror_mode": {
    "name": "ipython",
    "version": 3
   },
   "file_extension": ".py",
   "mimetype": "text/x-python",
   "name": "python",
   "nbconvert_exporter": "python",
   "pygments_lexer": "ipython3",
   "version": "3.11.4"
  },
  "orig_nbformat": 4
 },
 "nbformat": 4,
 "nbformat_minor": 2
}
