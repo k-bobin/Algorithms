{
 "cells": [
  {
   "cell_type": "code",
   "execution_count": 19,
   "metadata": {},
   "outputs": [
    {
     "ename": "SyntaxError",
     "evalue": "invalid syntax (3888426752.py, line 18)",
     "output_type": "error",
     "traceback": [
      "\u001b[0;36m  Cell \u001b[0;32mIn[19], line 18\u001b[0;36m\u001b[0m\n\u001b[0;31m    if (visited[i] == -1:\u001b[0m\n\u001b[0m                        ^\u001b[0m\n\u001b[0;31mSyntaxError\u001b[0m\u001b[0;31m:\u001b[0m invalid syntax\n"
     ]
    }
   ],
   "source": [
    "from collections import deque\n",
    "\n",
    "def bfs(v):\n",
    "    global cnt\n",
    "    q = deque()\n",
    "    q.append(v)\n",
    "\n",
    "    while q:\n",
    "        v = q.popleft()\n",
    "        if v == k:\n",
    "            cnt += 1 \n",
    "            continue\n",
    "        \n",
    "        for i in (v-1, v+1, 2*v):\n",
    "            # 범위 안에있고 \n",
    "            if 0 <= i <= 100000:\n",
    "                # 방문하지 않았거나, 다음 방문이 이전 방문+1이면\n",
    "                if (visited[i] == -1 or visited[i] == visited[v] + 1):\n",
    "                    visited[i] = visited[v] + 1\n",
    "                    q.append(i)\n",
    "\n",
    "n, k = map(int, input().split()) \n",
    "#수빈이가 동생을 찾는 가장 빠른 시간을 출력/ 점별 가장 빠른 시간 저장 \n",
    "visited = [-1 for _ in range(100001)]\n",
    "#가장 빠른 시간으로 수빈이가 동생을 찾는 방법의 수를 출력\n",
    "cnt = 0\n",
    "\n",
    "visited[n] = 0\n",
    "bfs(n)\n",
    "\n",
    "print(visited[k])\n",
    "print(cnt)"
   ]
  },
  {
   "cell_type": "code",
   "execution_count": null,
   "metadata": {},
   "outputs": [],
   "source": []
  }
 ],
 "metadata": {
  "kernelspec": {
   "display_name": "base",
   "language": "python",
   "name": "python3"
  },
  "language_info": {
   "codemirror_mode": {
    "name": "ipython",
    "version": 3
   },
   "file_extension": ".py",
   "mimetype": "text/x-python",
   "name": "python",
   "nbconvert_exporter": "python",
   "pygments_lexer": "ipython3",
   "version": "3.11.4"
  },
  "orig_nbformat": 4
 },
 "nbformat": 4,
 "nbformat_minor": 2
}
