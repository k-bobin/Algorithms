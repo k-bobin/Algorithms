{
 "cells": [
  {
   "cell_type": "code",
   "execution_count": 7,
   "metadata": {},
   "outputs": [
    {
     "ename": "KeyboardInterrupt",
     "evalue": "",
     "output_type": "error",
     "traceback": [
      "\u001b[0;31m---------------------------------------------------------------------------\u001b[0m",
      "\u001b[0;31mKeyboardInterrupt\u001b[0m                         Traceback (most recent call last)",
      "Cell \u001b[0;32mIn[7], line 25\u001b[0m\n\u001b[1;32m     21\u001b[0m                     chk[ny][nx] \u001b[39m=\u001b[39m \u001b[39mTrue\u001b[39;00m\n\u001b[1;32m     22\u001b[0m                     q\u001b[39m.\u001b[39mappend((ny,nx))\n\u001b[0;32m---> 25\u001b[0m n, m \u001b[39m=\u001b[39m \u001b[39mmap\u001b[39m(\u001b[39mint\u001b[39m, \u001b[39minput\u001b[39;49m()\u001b[39m.\u001b[39msplit())\n\u001b[1;32m     26\u001b[0m graph \u001b[39m=\u001b[39m []\n\u001b[1;32m     28\u001b[0m \u001b[39mfor\u001b[39;00m _ \u001b[39min\u001b[39;00m \u001b[39mrange\u001b[39m(n):\n",
      "\u001b[0;31mKeyboardInterrupt\u001b[0m: "
     ]
    }
   ],
   "source": [
    "#2606 바이러스 \n",
    "from collections import deque\n",
    " \n",
    "N = int(input())\n",
    "check = [0] * (N+1)\n",
    "Computer = [[] for _ in range(N+1)]\n",
    " \n",
    "for i in range(int(input())):\n",
    "    a, b = map(int, input().split())\n",
    "    Computer[a].append(b)\n",
    "    Computer[b].append(a)\n",
    " \n",
    "check[1] = 1\n",
    "q = deque([1])\n",
    "while q:\n",
    "    x = q.popleft()\n",
    "    for i in range(len(Computer[x])):\n",
    "        if check[Computer[x][i]] == 0:\n",
    "            check[Computer[x][i]] = 1\n",
    "            q.append(Computer[x][i])\n",
    " \n",
    "print(sum(check) - 1)\n",
    "\n",
    "\n"
   ]
  },
  {
   "cell_type": "code",
   "execution_count": null,
   "metadata": {},
   "outputs": [],
   "source": []
  }
 ],
 "metadata": {
  "kernelspec": {
   "display_name": "base",
   "language": "python",
   "name": "python3"
  },
  "language_info": {
   "codemirror_mode": {
    "name": "ipython",
    "version": 3
   },
   "file_extension": ".py",
   "mimetype": "text/x-python",
   "name": "python",
   "nbconvert_exporter": "python",
   "pygments_lexer": "ipython3",
   "version": "3.11.4"
  },
  "orig_nbformat": 4
 },
 "nbformat": 4,
 "nbformat_minor": 2
}
