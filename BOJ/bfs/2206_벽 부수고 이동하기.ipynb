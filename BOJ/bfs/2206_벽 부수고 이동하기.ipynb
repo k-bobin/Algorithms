{
 "cells": [
  {
   "cell_type": "code",
   "execution_count": 35,
   "metadata": {},
   "outputs": [
    {
     "ename": "IndexError",
     "evalue": "list index out of range",
     "output_type": "error",
     "traceback": [
      "\u001b[0;31m---------------------------------------------------------------------------\u001b[0m",
      "\u001b[0;31mIndexError\u001b[0m                                Traceback (most recent call last)",
      "Cell \u001b[0;32mIn[35], line 36\u001b[0m\n\u001b[1;32m     31\u001b[0m                     chk[ny][nx] \u001b[39m=\u001b[39m chk[y][x] \u001b[39m+\u001b[39m \u001b[39m1\u001b[39m \n\u001b[1;32m     33\u001b[0m     \u001b[39mreturn\u001b[39;00m \u001b[39m-\u001b[39m\u001b[39m1\u001b[39m\n\u001b[0;32m---> 36\u001b[0m \u001b[39mprint\u001b[39m(bfs(\u001b[39m0\u001b[39;49m,\u001b[39m0\u001b[39;49m))\n",
      "Cell \u001b[0;32mIn[35], line 28\u001b[0m, in \u001b[0;36mbfs\u001b[0;34m(y, x)\u001b[0m\n\u001b[1;32m     26\u001b[0m nx \u001b[39m=\u001b[39m x \u001b[39m+\u001b[39m dx[k]\n\u001b[1;32m     27\u001b[0m \u001b[39mif\u001b[39;00m \u001b[39m0\u001b[39m\u001b[39m<\u001b[39m\u001b[39m=\u001b[39mny\u001b[39m<\u001b[39mm \u001b[39mand\u001b[39;00m \u001b[39m0\u001b[39m\u001b[39m<\u001b[39m\u001b[39m=\u001b[39mnx\u001b[39m<\u001b[39mn:\n\u001b[0;32m---> 28\u001b[0m     \u001b[39mif\u001b[39;00m maps[ny][nx] \u001b[39m==\u001b[39m \u001b[39m'\u001b[39m\u001b[39m0\u001b[39m\u001b[39m'\u001b[39m \u001b[39mand\u001b[39;00m chk[ny][nx] \u001b[39m==\u001b[39m \u001b[39m-\u001b[39m\u001b[39m1\u001b[39m:\n\u001b[1;32m     29\u001b[0m         chk[ny][nx] \u001b[39m=\u001b[39m \u001b[39m0\u001b[39m\n\u001b[1;32m     30\u001b[0m         q\u001b[39m.\u001b[39mappend((ny,nx))\n",
      "\u001b[0;31mIndexError\u001b[0m: list index out of range"
     ]
    }
   ],
   "source": [
    "# 9:25\n",
    "# import sys\n",
    "# sys.setrecursionlimit(10**6)\n",
    "# input = sys.stdin.readline\n",
    "from collections import deque\n",
    "\n",
    "n, m = map(int, input().split())\n",
    "maps= [list(input()) for _ in range(n)]\n",
    "chk = [[-1]*m for _ in range(n)]\n",
    "\n",
    "dy = [1,0,-1,0]\n",
    "dx = [0,1,0,-1]\n",
    "\n",
    "def bfs(y,x):\n",
    "    q = deque()\n",
    "    q.append((y,x))\n",
    "    chk[y][x] = 1\n",
    "\n",
    "    while q:\n",
    "        y,x = q.popleft()\n",
    "        if y == n-1 and x == m-1:\n",
    "            return chk[n-1][m-1]\n",
    "        \n",
    "        for k in range(4):\n",
    "            ny = y + dy[k]\n",
    "            nx = x + dx[k]\n",
    "            if 0<=ny<m and 0<=nx<n:\n",
    "                if maps[ny][nx] == '0' and chk[ny][nx] == -1:\n",
    "                    chk[ny][nx] = 0\n",
    "                    q.append((ny,nx))\n",
    "                    chk[ny][nx] = chk[y][x] + 1 \n",
    "\n",
    "    return -1\n",
    "    \n",
    "\n",
    "print(bfs(0,0))\n",
    "\n",
    "\n",
    "           "
   ]
  },
  {
   "cell_type": "code",
   "execution_count": 36,
   "metadata": {},
   "outputs": [
    {
     "name": "stdout",
     "output_type": "stream",
     "text": [
      "-1\n"
     ]
    }
   ],
   "source": [
    "from collections import deque\n",
    "\n",
    "n, m = map(int, input().split())\n",
    "maps = [list(input()) for _ in range(n)]\n",
    "chk = [[-1] * m for _ in range(n)]\n",
    "\n",
    "dy = [1, 0, -1, 0]\n",
    "dx = [0, 1, 0, -1]\n",
    "\n",
    "def bfs(y, x):\n",
    "    q = deque()\n",
    "    q.append((y, x))\n",
    "    chk[y][x] = 1\n",
    "\n",
    "    while q:\n",
    "        y, x = q.popleft()\n",
    "        if y == n - 1 and x == m - 1:\n",
    "            return chk[n - 1][m - 1]\n",
    "\n",
    "        for k in range(4):\n",
    "            ny = y + dy[k]\n",
    "            nx = x + dx[k]\n",
    "            if 0 <= ny < n and 0 <= nx < m:\n",
    "                if maps[ny][nx] == '0' and chk[ny][nx] == -1:\n",
    "                    chk[ny][nx] = 0\n",
    "                    q.append((ny, nx))\n",
    "                    chk[ny][nx] = chk[y][x] + 1\n",
    "\n",
    "    return -1\n",
    "\n",
    "print(bfs(0, 0))\n"
   ]
  },
  {
   "cell_type": "code",
   "execution_count": null,
   "metadata": {},
   "outputs": [],
   "source": [
    "import sys\n",
    "from collections import deque\n",
    "\n",
    "input = sys.stdin.readline\n",
    "N, M = map(int, input().split())\n",
    "board = [list(map(int, input().rstrip())) for _ in range(N)]\n",
    "visited = [[[0] * 2 for _ in range(M)] for _ in range(N)]\n",
    "dir = [[-1, 0], [1, 0], [0, -1], [0, 1]]\n",
    "ans = 0\n",
    "\n",
    "\n",
    "def bfs():\n",
    "    # (0, 0) 출발, 벽 안부순 상태 시작\n",
    "    q = deque([(0, 0, 0)])\n",
    "    visited[0][0][0] = 1\n",
    "\n",
    "    while q:\n",
    "        r, c, wall = q.popleft()\n",
    "        if r == N - 1 and c == M - 1:\n",
    "            return visited[r][c][wall]\n",
    "\n",
    "        for i in range(4):\n",
    "            nr = r + dir[i][0]\n",
    "            nc = c + dir[i][1]\n",
    "            # 맵 범위 안에 있고, 한 번도 방문하지 않았으면\n",
    "            if 0 <= nr < N and 0 <= nc < M and visited[nr][nc][wall] == 0:\n",
    "                # 벽이 아니라면 이동하고, 이전경로 + 1 visited 배열에 저장\n",
    "                if board[nr][nc] == 0:\n",
    "                    q.append((nr, nc, wall))\n",
    "                    visited[nr][nc][wall] = visited[r][c][wall] + 1\n",
    "                \n",
    "                # 벽 1번도 안 부쉈고, 다음 이동할 곳이 벽이라면\n",
    "                if wall == 0 and board[nr][nc] == 1:\n",
    "                    # 벽을 부순 상태를 1로 표현\n",
    "                    q.append((nr, nc, 1))\n",
    "                    # 벽 부순 상태의 visited[nr][nc][1]에 이전경로 + 1 저장\n",
    "                    visited[nr][nc][1] = visited[r][c][wall] + 1\n",
    "\n",
    "    return -1\n",
    "\n",
    "\n",
    "print(bfs())"
   ]
  }
 ],
 "metadata": {
  "kernelspec": {
   "display_name": "base",
   "language": "python",
   "name": "python3"
  },
  "language_info": {
   "codemirror_mode": {
    "name": "ipython",
    "version": 3
   },
   "file_extension": ".py",
   "mimetype": "text/x-python",
   "name": "python",
   "nbconvert_exporter": "python",
   "pygments_lexer": "ipython3",
   "version": "3.11.4"
  },
  "orig_nbformat": 4
 },
 "nbformat": 4,
 "nbformat_minor": 2
}
