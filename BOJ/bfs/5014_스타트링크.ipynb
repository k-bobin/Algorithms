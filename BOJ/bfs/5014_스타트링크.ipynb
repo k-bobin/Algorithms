{
 "cells": [
  {
   "cell_type": "code",
   "execution_count": 21,
   "metadata": {},
   "outputs": [
    {
     "name": "stdout",
     "output_type": "stream",
     "text": [
      "6\n"
     ]
    }
   ],
   "source": [
    "import sys\n",
    "sys.setrecursionlimit(1000000)\n",
    "from collections import deque\n",
    "\n",
    "def bfs(v):\n",
    "    q = deque()\n",
    "    q.append(v)\n",
    "    \n",
    "    while q:\n",
    "        v= q.popleft()\n",
    "        if v == g:\n",
    "            return visited[v]\n",
    "\n",
    "        for i in (v+u, v-d):\n",
    "            if 0 < i <= f and visited[i] == -1:\n",
    "                    visited[i] = visited[v] + 1\n",
    "                    q.append(i)\n",
    "\n",
    "\n",
    "f, s, g, u, d = map(int,input().split())\n",
    "visited = [-1] * (f+1)\n",
    "visited[s] = 0\n",
    "\n",
    "\n",
    "result = bfs(s)\n",
    "\n",
    "if result is None:\n",
    "     print('use the stairs')\n",
    "else:\n",
    "     print(result)\n",
    "\n"
   ]
  }
 ],
 "metadata": {
  "kernelspec": {
   "display_name": "base",
   "language": "python",
   "name": "python3"
  },
  "language_info": {
   "codemirror_mode": {
    "name": "ipython",
    "version": 3
   },
   "file_extension": ".py",
   "mimetype": "text/x-python",
   "name": "python",
   "nbconvert_exporter": "python",
   "pygments_lexer": "ipython3",
   "version": "3.11.4"
  },
  "orig_nbformat": 4
 },
 "nbformat": 4,
 "nbformat_minor": 2
}
