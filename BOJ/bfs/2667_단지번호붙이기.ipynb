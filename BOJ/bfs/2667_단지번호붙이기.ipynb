{
 "cells": [
  {
   "cell_type": "code",
   "execution_count": 13,
   "metadata": {},
   "outputs": [
    {
     "name": "stdout",
     "output_type": "stream",
     "text": [
      "3\n",
      "7\n",
      "8\n",
      "9\n"
     ]
    }
   ],
   "source": [
    "#3:30\n",
    "import sys\n",
    "sys.setrecursionlimit(10000)\n",
    "from collections import deque\n",
    "\n",
    "N = int(input())\n",
    "graph = [list(map(int,input().strip())) for _ in range(N)]\n",
    "chk = [[False] * N for _ in range(N)]\n",
    "\n",
    "village_cnt = [] \n",
    "house_cnt = 0 \n",
    "\n",
    "dy = [1,0,-1,0]\n",
    "dx = [0,-1,0,1]\n",
    "def bfs(y,x):\n",
    "    rs = 1 \n",
    "    q = deque()\n",
    "    q.append((y,x))\n",
    "    while q:\n",
    "        y,x = q.popleft()\n",
    "        for k in range(4):\n",
    "            ny = y + dy[k]\n",
    "            nx = x + dx[k]\n",
    "            if 0<=ny<N and 0<=nx<N:\n",
    "                if graph[ny][nx] == 1 and chk[ny][nx] == False:\n",
    "                    chk[ny][nx] = True\n",
    "                    rs +=1\n",
    "                    q.append((ny,nx))\n",
    "    return rs\n",
    "\n",
    "\n",
    "for i in range(N):\n",
    "    for j in range(N):\n",
    "        if graph[i][j] == 1 and chk[i][j] == False:\n",
    "            chk[i][j] = True\n",
    "            village_cnt.append(bfs(i,j))\n",
    "            house_cnt += 1 \n",
    "            \n",
    "village_cnt.sort()  # 오름차순 정렬\n",
    "\n",
    "print(house_cnt)\n",
    "for i in village_cnt:\n",
    "    print(i)\n",
    "\n"
   ]
  },
  {
   "cell_type": "code",
   "execution_count": null,
   "metadata": {},
   "outputs": [],
   "source": []
  },
  {
   "cell_type": "code",
   "execution_count": null,
   "metadata": {},
   "outputs": [],
   "source": []
  }
 ],
 "metadata": {
  "kernelspec": {
   "display_name": "base",
   "language": "python",
   "name": "python3"
  },
  "language_info": {
   "codemirror_mode": {
    "name": "ipython",
    "version": 3
   },
   "file_extension": ".py",
   "mimetype": "text/x-python",
   "name": "python",
   "nbconvert_exporter": "python",
   "pygments_lexer": "ipython3",
   "version": "3.11.4"
  },
  "orig_nbformat": 4
 },
 "nbformat": 4,
 "nbformat_minor": 2
}
