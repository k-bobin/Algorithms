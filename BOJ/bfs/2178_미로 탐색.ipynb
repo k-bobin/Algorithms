{
 "cells": [
  {
   "cell_type": "code",
   "execution_count": 7,
   "metadata": {},
   "outputs": [
    {
     "ename": "KeyboardInterrupt",
     "evalue": "",
     "output_type": "error",
     "traceback": [
      "\u001b[0;31m---------------------------------------------------------------------------\u001b[0m",
      "\u001b[0;31mKeyboardInterrupt\u001b[0m                         Traceback (most recent call last)",
      "Cell \u001b[0;32mIn[7], line 25\u001b[0m\n\u001b[1;32m     21\u001b[0m                     chk[ny][nx] \u001b[39m=\u001b[39m \u001b[39mTrue\u001b[39;00m\n\u001b[1;32m     22\u001b[0m                     q\u001b[39m.\u001b[39mappend((ny,nx))\n\u001b[0;32m---> 25\u001b[0m n, m \u001b[39m=\u001b[39m \u001b[39mmap\u001b[39m(\u001b[39mint\u001b[39m, \u001b[39minput\u001b[39;49m()\u001b[39m.\u001b[39msplit())\n\u001b[1;32m     26\u001b[0m graph \u001b[39m=\u001b[39m []\n\u001b[1;32m     28\u001b[0m \u001b[39mfor\u001b[39;00m _ \u001b[39min\u001b[39;00m \u001b[39mrange\u001b[39m(n):\n",
      "\u001b[0;31mKeyboardInterrupt\u001b[0m: "
     ]
    }
   ],
   "source": [
    "import sys\n",
    "from collections import deque\n",
    "\n",
    "input = sys.stdin.readline\n",
    "\n",
    "n, m = map(int, input().split())\n",
    "graph = []\n",
    "\n",
    "for _ in range(n):\n",
    "    graph.append(list(map(int, input().rstrip()))) # readline의 경우 맨 뒤에 '\\n'까지 입력받으므로 제거해줘야 함\n",
    "\n",
    "# 상하좌우\n",
    "dx = [-1, 1, 0, 0] \n",
    "dy = [0, 0, -1, 1]\n",
    "\n",
    "def bfs(x, y):\n",
    "    \n",
    "    queue = deque()\n",
    "    queue.append((x,y))\n",
    "\n",
    "    while queue:\n",
    "        x, y = queue.popleft()\n",
    "\n",
    "        for i in range(4):\n",
    "            nx = x + dx[i]\n",
    "            ny = y + dy[i]\n",
    "\n",
    "            if 0 <= nx < n and 0 <= ny < m and graph[nx][ny] == 1:\n",
    "                queue.append((nx, ny))\n",
    "                graph[nx][ny] = graph[x][y] + 1\n",
    "    \n",
    "    return graph[n-1][m-1]\n",
    "\n",
    "print(bfs(0,0))\n",
    "\n"
   ]
  },
  {
   "cell_type": "code",
   "execution_count": null,
   "metadata": {},
   "outputs": [],
   "source": []
  }
 ],
 "metadata": {
  "kernelspec": {
   "display_name": "base",
   "language": "python",
   "name": "python3"
  },
  "language_info": {
   "codemirror_mode": {
    "name": "ipython",
    "version": 3
   },
   "file_extension": ".py",
   "mimetype": "text/x-python",
   "name": "python",
   "nbconvert_exporter": "python",
   "pygments_lexer": "ipython3",
   "version": "3.11.4"
  },
  "orig_nbformat": 4
 },
 "nbformat": 4,
 "nbformat_minor": 2
}
