{
 "cells": [
  {
   "cell_type": "code",
   "execution_count": 8,
   "metadata": {},
   "outputs": [
    {
     "name": "stdout",
     "output_type": "stream",
     "text": [
      "2\n"
     ]
    }
   ],
   "source": [
    "import sys\n",
    "from collections import deque\n",
    "\n",
    "def bfs(v):\n",
    "    q = deque()\n",
    "    q.append(v)\n",
    "\n",
    "    while q:\n",
    "        v = q.popleft()\n",
    "        if v == k:\n",
    "            return visited[k]\n",
    "        \n",
    "        for i in (v-1, v+1, 2*v):    #4, 6, 10 \n",
    "            # 범위 안에있고, 순간이동이라면 \n",
    "            if 0 <= i <= 100000 and visited[i]== -1:\n",
    "                # 순간이동한다면 초 추가 없이 큐에 넣어준다.\n",
    "                if i==2*v:\n",
    "                    visited[i] = visited[v]\n",
    "                    q.append(i)\n",
    "                # 순간이동아니라면 \n",
    "                else:\n",
    "                    visited[i] = visited[v] + 1 \n",
    "                    q.append(i)\n",
    "\n",
    "\n",
    "n, k = map(int, sys.stdin.readline().split())\n",
    "#수빈이가 동생을 찾는 가장 빠른 시간을 출력/ 점별 가장 빠른 시간 저장 \n",
    "visited = [-1 for _ in range(100001)]\n",
    "visited[n] = 0\n",
    "\n",
    "result = bfs(n)\n",
    "print(result)\n",
    "\n",
    "\n"
   ]
  },
  {
   "cell_type": "code",
   "execution_count": null,
   "metadata": {},
   "outputs": [],
   "source": []
  }
 ],
 "metadata": {
  "kernelspec": {
   "display_name": "base",
   "language": "python",
   "name": "python3"
  },
  "language_info": {
   "codemirror_mode": {
    "name": "ipython",
    "version": 3
   },
   "file_extension": ".py",
   "mimetype": "text/x-python",
   "name": "python",
   "nbconvert_exporter": "python",
   "pygments_lexer": "ipython3",
   "version": "3.11.4"
  },
  "orig_nbformat": 4
 },
 "nbformat": 4,
 "nbformat_minor": 2
}
