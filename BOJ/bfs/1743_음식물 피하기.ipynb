{
 "cells": [
  {
   "cell_type": "code",
   "execution_count": 1,
   "metadata": {},
   "outputs": [
    {
     "name": "stdout",
     "output_type": "stream",
     "text": [
      "4\n"
     ]
    }
   ],
   "source": [
    "import sys\n",
    "from collections import deque\n",
    "\n",
    "\n",
    "n, m, v = map(int, input().split())\n",
    "map = [[0] * m for _ in range(n)]\n",
    "chk = [[False] * m for _ in range(n)]\n",
    "\n",
    "for _ in range(v):\n",
    "    a,b = input().split()\n",
    "    a= int(a)\n",
    "    b= int(b)\n",
    "    map[a-1][b-1] =1\n",
    "\n",
    "dy=[1,0,-1,0]\n",
    "dx=[0,-1,0,1]\n",
    "\n",
    "def bfs(y,x):\n",
    "    rs = 1\n",
    "    q= deque()\n",
    "    q.append((y,x))\n",
    "    \n",
    "    while q: \n",
    "        y,x = q.popleft()\n",
    "        for i in range(4):\n",
    "            ny= y+ dy[i] \n",
    "            nx= x+ dx[i]\n",
    "            if 0<=ny<n and 0<=nx<m:\n",
    "                if map[ny][nx] == 1 and chk[ny][nx] == False:\n",
    "                    chk[ny][nx] = True\n",
    "                    rs+=1\n",
    "                    q.append((ny,nx))\n",
    "    return rs\n",
    "\n",
    "maxv= 0\n",
    "for i in range(n):\n",
    "    for j in range(m):\n",
    "        if map[i][j] == 1 and chk[i][j] == False:\n",
    "            chk[i][j] =True\n",
    "            maxv = max(maxv, bfs(i,j))\n",
    "\n",
    "\n",
    "print(maxv)\n"
   ]
  },
  {
   "cell_type": "code",
   "execution_count": null,
   "metadata": {},
   "outputs": [],
   "source": []
  },
  {
   "cell_type": "code",
   "execution_count": null,
   "metadata": {},
   "outputs": [],
   "source": []
  }
 ],
 "metadata": {
  "kernelspec": {
   "display_name": "base",
   "language": "python",
   "name": "python3"
  },
  "language_info": {
   "codemirror_mode": {
    "name": "ipython",
    "version": 3
   },
   "file_extension": ".py",
   "mimetype": "text/x-python",
   "name": "python",
   "nbconvert_exporter": "python",
   "pygments_lexer": "ipython3",
   "version": "3.11.4"
  },
  "orig_nbformat": 4
 },
 "nbformat": 4,
 "nbformat_minor": 2
}
