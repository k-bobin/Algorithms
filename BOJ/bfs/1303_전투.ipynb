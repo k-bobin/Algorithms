{
 "cells": [
  {
   "cell_type": "code",
   "execution_count": 3,
   "metadata": {},
   "outputs": [
    {
     "ename": "TypeError",
     "evalue": "'list' object is not callable",
     "output_type": "error",
     "traceback": [
      "\u001b[0;31m---------------------------------------------------------------------------\u001b[0m",
      "\u001b[0;31mTypeError\u001b[0m                                 Traceback (most recent call last)",
      "Cell \u001b[0;32mIn[3], line 28\u001b[0m\n\u001b[1;32m     24\u001b[0m     \u001b[39mreturn\u001b[39;00m rs\n\u001b[1;32m     27\u001b[0m \u001b[39m#map, chk 만들기 \u001b[39;00m\n\u001b[0;32m---> 28\u001b[0m n,m\u001b[39m=\u001b[39m \u001b[39mmap\u001b[39;49m(\u001b[39mint\u001b[39;49m, \u001b[39minput\u001b[39;49m()\u001b[39m.\u001b[39;49msplit())\n\u001b[1;32m     29\u001b[0m \u001b[39mmap\u001b[39m\u001b[39m=\u001b[39m []\n\u001b[1;32m     30\u001b[0m \u001b[39mfor\u001b[39;00m _ \u001b[39min\u001b[39;00m \u001b[39mrange\u001b[39m(m):\n",
      "\u001b[0;31mTypeError\u001b[0m: 'list' object is not callable"
     ]
    }
   ],
   "source": [
    "# 1303 전투\n",
    "#W가 내편\n",
    "#W의 숫자에서 제곱 \n",
    "from collections import deque\n",
    "\n",
    "#dfs 함수 생성\n",
    "dy = [1,0,-1,0]\n",
    "dx = [0,1,0,-1]\n",
    "\n",
    "def bfs(y, x, word):\n",
    "    rs =1\n",
    "    q = deque()\n",
    "    q.append((y,x))\n",
    "    while q: \n",
    "        ey,ex = q.popleft()\n",
    "        for k in range(4):\n",
    "            ny = ey+ dy[k]\n",
    "            nx = ex+ dx[k]\n",
    "            if 0<=ny<m and 0<=nx<n:\n",
    "                if map[ny][nx] == word and chk[ny][nx] == False:\n",
    "                    rs +=1\n",
    "                    chk[ny][nx] = True\n",
    "                    q.append((ny,nx))\n",
    "    return rs\n",
    "\n",
    "\n",
    "#map, chk 만들기 \n",
    "n,m= map(int, input().split())\n",
    "map= []\n",
    "for _ in range(m):\n",
    "    map.append(list(input()))\n",
    "\n",
    "chk = [[False]*n for _ in range(m)]\n",
    "your_power = 0\n",
    "enemy_power = 0\n",
    "\n",
    "for i in range(m):\n",
    "    for j in range(n):\n",
    "        if map[i][j] == \"W\" and chk[i][j] == False:\n",
    "            chk[i][j] = True\n",
    "            your_power += (bfs(i,j,\"W\")**2)\n",
    "        elif map[i][j] ==\"B\" and chk[i][j] == False:\n",
    "            chk[i][j] = True\n",
    "            enemy_power += (bfs(i,j,\"B\")**2)\n",
    "        \n",
    "print(your_power, enemy_power)\n",
    "\n",
    "\n",
    "\n",
    "\n",
    "\n",
    "\n",
    "\n",
    "            \n",
    "\n",
    "\n",
    "\n"
   ]
  },
  {
   "cell_type": "code",
   "execution_count": null,
   "metadata": {},
   "outputs": [],
   "source": []
  }
 ],
 "metadata": {
  "kernelspec": {
   "display_name": "base",
   "language": "python",
   "name": "python3"
  },
  "language_info": {
   "codemirror_mode": {
    "name": "ipython",
    "version": 3
   },
   "file_extension": ".py",
   "mimetype": "text/x-python",
   "name": "python",
   "nbconvert_exporter": "python",
   "pygments_lexer": "ipython3",
   "version": "3.11.4"
  },
  "orig_nbformat": 4
 },
 "nbformat": 4,
 "nbformat_minor": 2
}
