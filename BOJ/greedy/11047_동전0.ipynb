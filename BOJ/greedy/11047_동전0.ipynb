{
 "cells": [
  {
   "cell_type": "code",
   "execution_count": 13,
   "metadata": {},
   "outputs": [
    {
     "name": "stdout",
     "output_type": "stream",
     "text": [
      "6\n"
     ]
    }
   ],
   "source": [
    "#11047 동전0\n",
    "N, K = map(int, input().split())\n",
    "\n",
    "coins = []\n",
    "for _ in range(N):\n",
    "    coin = int(input())\n",
    "    coins.append(coin)\n",
    "coins = sorted(coins, reverse = True)\n",
    "\n",
    "\n",
    "coin_cnt = 0\n",
    "\n",
    "for i in coins:\n",
    "    coin_cnt += K//i\n",
    "    K = K%i\n",
    "\n",
    "print(coin_cnt)\n"
   ]
  }
 ],
 "metadata": {
  "kernelspec": {
   "display_name": "base",
   "language": "python",
   "name": "python3"
  },
  "language_info": {
   "codemirror_mode": {
    "name": "ipython",
    "version": 3
   },
   "file_extension": ".py",
   "mimetype": "text/x-python",
   "name": "python",
   "nbconvert_exporter": "python",
   "pygments_lexer": "ipython3",
   "version": "3.11.4"
  },
  "orig_nbformat": 4
 },
 "nbformat": 4,
 "nbformat_minor": 2
}
