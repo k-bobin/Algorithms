{
 "cells": [
  {
   "cell_type": "code",
   "execution_count": 1,
   "metadata": {},
   "outputs": [],
   "source": [
    "import sys\n",
    "\n",
    "N = int(sys.stdin.readline())\n",
    "\n",
    "time = [[0]*2 for _ in range(N)]\n",
    "for i in range(N):\n",
    "    s, e = map(int, sys.stdin.readline().split())\n",
    "    time[i][0] = s\n",
    "    time[i][1] = e\n",
    "\n",
    "time.sort(key = lambda x: (x[1], x[0]))\n",
    "\n",
    "cnt = 1\n",
    "end_time = time[0][1]\n",
    "for i in range(1, N):\n",
    "    if time[i][0] >= end_time:\n",
    "        cnt += 1\n",
    "        end_time = time[i][1]\n",
    "\n",
    "print(cnt)"
   ]
  },
  {
   "cell_type": "code",
   "execution_count": null,
   "metadata": {},
   "outputs": [],
   "source": []
  }
 ],
 "metadata": {
  "kernelspec": {
   "display_name": "base",
   "language": "python",
   "name": "python3"
  },
  "language_info": {
   "codemirror_mode": {
    "name": "ipython",
    "version": 3
   },
   "file_extension": ".py",
   "mimetype": "text/x-python",
   "name": "python",
   "nbconvert_exporter": "python",
   "pygments_lexer": "ipython3",
   "version": "3.11.4"
  },
  "orig_nbformat": 4
 },
 "nbformat": 4,
 "nbformat_minor": 2
}
