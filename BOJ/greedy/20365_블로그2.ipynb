{
 "cells": [
  {
   "cell_type": "code",
   "execution_count": 21,
   "metadata": {},
   "outputs": [
    {
     "name": "stdout",
     "output_type": "stream",
     "text": [
      "2\n"
     ]
    }
   ],
   "source": [
    "# import sys\n",
    "# input = sys.stdin.readline\n",
    " \n",
    "n = int(input())\n",
    "data = input()\n",
    "\n",
    "data = list(data.replace('BR', 'B R').replace('RB', 'R B').split())\n",
    "\n",
    "color = {'R':0 , 'B':0}\n",
    "\n",
    "for i in range(len(data)):\n",
    "    if data[i].startswith('B'):\n",
    "        color['B'] +=1\n",
    "    else:\n",
    "        color['R'] +=1 \n",
    "\n",
    "mins = min(color.values())\n",
    "ans = 1+mins\n",
    "print(ans)\n"
   ]
  },
  {
   "cell_type": "code",
   "execution_count": null,
   "metadata": {},
   "outputs": [],
   "source": [
    "5\n",
    "RRBBB\n",
    "\n",
    "\n",
    "#2 "
   ]
  }
 ],
 "metadata": {
  "kernelspec": {
   "display_name": "base",
   "language": "python",
   "name": "python3"
  },
  "language_info": {
   "codemirror_mode": {
    "name": "ipython",
    "version": 3
   },
   "file_extension": ".py",
   "mimetype": "text/x-python",
   "name": "python",
   "nbconvert_exporter": "python",
   "pygments_lexer": "ipython3",
   "version": "3.11.4"
  },
  "orig_nbformat": 4
 },
 "nbformat": 4,
 "nbformat_minor": 2
}
