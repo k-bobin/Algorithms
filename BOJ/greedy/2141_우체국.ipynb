{
 "cells": [
  {
   "cell_type": "code",
   "execution_count": 13,
   "metadata": {},
   "outputs": [
    {
     "name": "stdout",
     "output_type": "stream",
     "text": [
      "6\n"
     ]
    }
   ],
   "source": [
    "import sys\n",
    "input = sys.stdin.readline\n",
    "\n",
    "villiage = []\n",
    "all_people = 0\n",
    "\n",
    "N = int(input())\n",
    "\n",
    "for i in range(N):\n",
    "    n_viliage, people = map(int, input().split())\n",
    "    villiage.append([n_viliage, people])\n",
    "    all_people += people\n",
    "\n",
    "villiage.sort(key= lambda x: x[0])\n",
    "\n",
    "count = 0\n",
    "for i in range(N):\n",
    "    count += villiage[i] [1]\n",
    "    if count >= all_people/2:\n",
    "        print (villiage[i][0])\n",
    "        break\n"
   ]
  }
 ],
 "metadata": {
  "kernelspec": {
   "display_name": "base",
   "language": "python",
   "name": "python3"
  },
  "language_info": {
   "codemirror_mode": {
    "name": "ipython",
    "version": 3
   },
   "file_extension": ".py",
   "mimetype": "text/x-python",
   "name": "python",
   "nbconvert_exporter": "python",
   "pygments_lexer": "ipython3",
   "version": "3.11.4"
  },
  "orig_nbformat": 4
 },
 "nbformat": 4,
 "nbformat_minor": 2
}
