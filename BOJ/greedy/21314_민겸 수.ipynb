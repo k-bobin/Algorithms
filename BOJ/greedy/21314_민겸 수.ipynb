{
 "cells": [
  {
   "cell_type": "code",
   "execution_count": 50,
   "metadata": {},
   "outputs": [
    {
     "name": "stdout",
     "output_type": "stream",
     "text": [
      "5000000000005555555555\n",
      "1000000000055555555555\n"
     ]
    }
   ],
   "source": [
    "data = input()\n",
    "max = \"\" #최댓값 결과\n",
    "min = \"\" #최솟값 결과\n",
    "m = 0\n",
    "\n",
    "for i in range(len(data)):\n",
    "    if data[i] == 'M':\n",
    "        m += 1 #M이 나온다면 m을 증가\n",
    "    elif data[i] == 'K':\n",
    "        if m: #M후에 K가 연속해서 나온 경우라면\n",
    "            min += str(10**m + 5) #최솟값의 경우 5를 더해주고\n",
    "            max += str(5 * (10**m)) #최댓값의 경우 5를 곱해준다\n",
    "        else: #만일 K만 두번이상 연속된 경우\n",
    "            min += \"5\" \n",
    "            max += \"5\"\n",
    "        m = 0\n",
    "if m: #'K'없이 'M'들로 문자열이 끝난 경우\n",
    "    min += str(10 ** (m-1))\n",
    "    while m:\n",
    "        max += \"1\"\n",
    "        m -= 1\n",
    "print(max)\n",
    "print(min)  "
   ]
  },
  {
   "cell_type": "code",
   "execution_count": null,
   "metadata": {},
   "outputs": [],
   "source": []
  },
  {
   "cell_type": "markdown",
   "metadata": {},
   "source": []
  }
 ],
 "metadata": {
  "kernelspec": {
   "display_name": "base",
   "language": "python",
   "name": "python3"
  },
  "language_info": {
   "codemirror_mode": {
    "name": "ipython",
    "version": 3
   },
   "file_extension": ".py",
   "mimetype": "text/x-python",
   "name": "python",
   "nbconvert_exporter": "python",
   "pygments_lexer": "ipython3",
   "version": "3.11.4"
  },
  "orig_nbformat": 4
 },
 "nbformat": 4,
 "nbformat_minor": 2
}
