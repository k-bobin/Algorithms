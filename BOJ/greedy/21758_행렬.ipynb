{
 "cells": [
  {
   "cell_type": "code",
   "execution_count": 1,
   "metadata": {},
   "outputs": [],
   "source": [
    "import sys\n",
    "\n",
    "input = sys.stdin.readline\n",
    " \n",
    "n = int(input()) \n",
    "data = list(map(int,input().split())) \n",
    "\n",
    "#최대값 저장 변수\n",
    "ans=0\n",
    "\n",
    "#i번째 원소까지의 누적합\n",
    "sum=[] \n",
    "sum.append(data[0]) \n",
    "\n",
    "for i in range(1,n): \n",
    "    sum.append(sum[i-1]+data[i]) \n",
    "    \n",
    "    \n",
    "#case1 - left\n",
    "for i in range(1,n-1): \n",
    "    ans=max(ans,sum[n-2]+sum[i-1]-data[i])\n",
    "    #왼쪽 끝에 벌통\n",
    "    #오른쪽 끝에 벌1, i번쨰 위치에 벌2\n",
    " \n",
    "#case2 - right\n",
    "for i in range(1, n-1): \n",
    "    ans = max(ans, sum[n-1] - data[0] - data[i] + sum[n-1] - sum[i]) \n",
    "    #오른쪽 끝에 벌통\n",
    "    #왼쪽 끝에 벌1, i번째 위치에 벌2\n",
    "   \n",
    "#case3 - middle\n",
    "for i in range(1,n-1): \n",
    "    ans=max(ans,sum[n-2] - data[0] + data[i])\n",
    "    #왼쪽 끝에 벌1, 오른쪽 끝에 벌2\n",
    "    #i번째 위치에 벌통\n",
    "       \n",
    "print(ans)"
   ]
  },
  {
   "cell_type": "code",
   "execution_count": null,
   "metadata": {},
   "outputs": [],
   "source": []
  }
 ],
 "metadata": {
  "kernelspec": {
   "display_name": "base",
   "language": "python",
   "name": "python3"
  },
  "language_info": {
   "codemirror_mode": {
    "name": "ipython",
    "version": 3
   },
   "file_extension": ".py",
   "mimetype": "text/x-python",
   "name": "python",
   "nbconvert_exporter": "python",
   "pygments_lexer": "ipython3",
   "version": "3.11.4"
  },
  "orig_nbformat": 4
 },
 "nbformat": 4,
 "nbformat_minor": 2
}
