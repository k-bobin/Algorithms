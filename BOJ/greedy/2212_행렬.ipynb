{
 "cells": [
  {
   "cell_type": "code",
   "execution_count": 1,
   "metadata": {},
   "outputs": [],
   "source": [
    "# import sys\n",
    "# input = sys.stdin.readline\n",
    "\n",
    "N = int(input())\n",
    "K = int(input())\n",
    "\n",
    "#집중국의 개수가 센서 개수 이상인 경우,\n",
    "if K >= N: print(0)\n",
    "\n",
    "#집중국의 개수가 센서 개수보다 적은 경우,\n",
    "else:\n",
    "\t#센서 좌표들을 오름차순 정렬\n",
    "    sensors = sorted(list(map(int, input().split())))\n",
    "    \n",
    "    #센서 사이의 거리들을 구하여 dis 리스트에 담는다\n",
    "    dis = list()\n",
    "    for i in range(N-1):\n",
    "        dis.append(sensors[i+1]-sensors[i])\n",
    "        \n",
    "    #센서 사이의 거리들을 내림차순 정렬\n",
    "    dis.sort(reverse=True)\n",
    "    \n",
    "    #가장 거리가 먼 K-1개를 제외한 \n",
    "    print(sum(dis[K-1:]))"
   ]
  }
 ],
 "metadata": {
  "kernelspec": {
   "display_name": "base",
   "language": "python",
   "name": "python3"
  },
  "language_info": {
   "codemirror_mode": {
    "name": "ipython",
    "version": 3
   },
   "file_extension": ".py",
   "mimetype": "text/x-python",
   "name": "python",
   "nbconvert_exporter": "python",
   "pygments_lexer": "ipython3",
   "version": "3.11.4"
  },
  "orig_nbformat": 4
 },
 "nbformat": 4,
 "nbformat_minor": 2
}
