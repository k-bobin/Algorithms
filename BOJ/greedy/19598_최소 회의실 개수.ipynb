{
 "cells": [
  {
   "cell_type": "code",
   "execution_count": 13,
   "metadata": {},
   "outputs": [
    {
     "name": "stdout",
     "output_type": "stream",
     "text": [
      "1\n"
     ]
    }
   ],
   "source": [
    "# import sys\n",
    "# input = sys.stdin.readline\n",
    " \n",
    "import sys\n",
    "import heapq\n",
    "input = sys.stdin.readline\n",
    "\n",
    "n = int(input().rstrip())  #회의 갯수 n\n",
    "\n",
    "con = []  # 회의\n",
    "for x in range(n) :\n",
    "  start, end = map(int, input().split())\n",
    "  con.append([start, end])  #시작시간, 끝나는시간 넣어주기\n",
    "\n",
    "con.sort()  #정렬\n",
    "\n",
    "rooms = []\n",
    "heapq.heappush(rooms, con[0][1])  # 가장 첫 회의의 끝나는 시간을 넣어줌\n",
    "\n",
    "for y in range(1,n):  # 첫 요소는 썼으니 1부터 시작\n",
    "  if con[y][0] < rooms[0] : # 시작 시간이 현재 회의 끝나는 시간보다 빠르면\n",
    "    heapq.heappush(rooms, con[y][1])  #끝나는 시간을 넣어줌(회의실+1)\n",
    "  else:  # 시작 시간이 현재 회의 끝나는 시간보다 늦으면(이어서 쓸 수 있으면)\n",
    "    heapq.heappop(rooms)  #이어하는 회의의 끝나는 시간으로 push\n",
    "    heapq.heappush(rooms, con[y][1])\n",
    "\n",
    "print(len(rooms))"
   ]
  }
 ],
 "metadata": {
  "kernelspec": {
   "display_name": "base",
   "language": "python",
   "name": "python3"
  },
  "language_info": {
   "codemirror_mode": {
    "name": "ipython",
    "version": 3
   },
   "file_extension": ".py",
   "mimetype": "text/x-python",
   "name": "python",
   "nbconvert_exporter": "python",
   "pygments_lexer": "ipython3",
   "version": "3.11.4"
  },
  "orig_nbformat": 4
 },
 "nbformat": 4,
 "nbformat_minor": 2
}
