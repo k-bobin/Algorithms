{
 "cells": [
  {
   "cell_type": "code",
   "execution_count": 15,
   "metadata": {},
   "outputs": [
    {
     "name": "stdout",
     "output_type": "stream",
     "text": [
      "BB.AAAAAAAABB..AAAAAAAA...AAAABB\n"
     ]
    }
   ],
   "source": [
    "board = list(input().replace('.', ' . ').split())\n",
    "ans = ''\n",
    "\n",
    "\n",
    "for i in board:\n",
    "    tmp = i.count('X')\n",
    "    if i != '.' and tmp % 2 == 0:\n",
    "        ans += ((tmp//4)*'AAAA')+((tmp%4)*'B')\n",
    "\n",
    "    elif i != '.' and tmp % 2 == 1:\n",
    "        ans = -1\n",
    "        break\n",
    "\n",
    "    else:\n",
    "        ans +='.'\n",
    "\n",
    "print(ans)\n",
    "    \n",
    "    \n"
   ]
  },
  {
   "cell_type": "code",
   "execution_count": null,
   "metadata": {},
   "outputs": [],
   "source": []
  }
 ],
 "metadata": {
  "kernelspec": {
   "display_name": "base",
   "language": "python",
   "name": "python3"
  },
  "language_info": {
   "codemirror_mode": {
    "name": "ipython",
    "version": 3
   },
   "file_extension": ".py",
   "mimetype": "text/x-python",
   "name": "python",
   "nbconvert_exporter": "python",
   "pygments_lexer": "ipython3",
   "version": "3.11.4"
  },
  "orig_nbformat": 4
 },
 "nbformat": 4,
 "nbformat_minor": 2
}
