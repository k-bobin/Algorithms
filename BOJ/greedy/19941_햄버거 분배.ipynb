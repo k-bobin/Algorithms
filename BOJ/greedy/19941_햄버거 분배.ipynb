{
 "cells": [
  {
   "cell_type": "code",
   "execution_count": 1,
   "metadata": {},
   "outputs": [
    {
     "name": "stdout",
     "output_type": "stream",
     "text": [
      "8\n"
     ]
    }
   ],
   "source": [
    "# import sys\n",
    "# input = sys.stdin.readline\n",
    "\n",
    "n, k = map(int, input().split())\n",
    "S = input().rstrip()\n",
    "list_s = list(S)\n",
    "cnt = 0\n",
    "for i in range(len(list_s)):\n",
    "    if list_s[i] == \"P\":\n",
    "        for j in range(i-k, i+k+1):\n",
    "            if 0 <= j < n and list_s[j] == \"H\":\n",
    "                cnt += 1\n",
    "                list_s[j] = \"X\"\n",
    "                break\n",
    "\n",
    "print(cnt)\n",
    "\n",
    "\n"
   ]
  },
  {
   "cell_type": "code",
   "execution_count": null,
   "metadata": {},
   "outputs": [],
   "source": []
  }
 ],
 "metadata": {
  "kernelspec": {
   "display_name": "base",
   "language": "python",
   "name": "python3"
  },
  "language_info": {
   "codemirror_mode": {
    "name": "ipython",
    "version": 3
   },
   "file_extension": ".py",
   "mimetype": "text/x-python",
   "name": "python",
   "nbconvert_exporter": "python",
   "pygments_lexer": "ipython3",
   "version": "3.11.4"
  },
  "orig_nbformat": 4
 },
 "nbformat": 4,
 "nbformat_minor": 2
}
