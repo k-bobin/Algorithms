{
 "cells": [
  {
   "cell_type": "code",
   "execution_count": 5,
   "metadata": {},
   "outputs": [
    {
     "name": "stdout",
     "output_type": "stream",
     "text": [
      "5\n"
     ]
    }
   ],
   "source": [
    "# import sys\n",
    "# input = sys.stdin.readline\n",
    " \n",
    "n = int(input()) \n",
    "loss = list(map(int,input().split())) \n",
    "loss.sort()\n",
    "\n",
    "total_loss = [] \n",
    "#짝수의 운동기구라면 \n",
    "if n%2 == 0:\n",
    "    left, right = 0, n-1\n",
    "    for _ in range(n//2):\n",
    "        total_loss.append(loss[left] + loss[right])\n",
    "        left += 1\n",
    "        right -=1\n",
    "\n",
    "#홀수라면\n",
    "#중앙값 넣기 \n",
    "else:\n",
    "    left, right = 0, n-2\n",
    "    total_loss.append(loss[-1])\n",
    "    for _ in range((n//2)):\n",
    "        total_loss.append(loss[left] + loss[right])\n",
    "        left += 1\n",
    "        right -=1\n",
    "\n",
    "print(max(total_loss))"
   ]
  }
 ],
 "metadata": {
  "kernelspec": {
   "display_name": "base",
   "language": "python",
   "name": "python3"
  },
  "language_info": {
   "codemirror_mode": {
    "name": "ipython",
    "version": 3
   },
   "file_extension": ".py",
   "mimetype": "text/x-python",
   "name": "python",
   "nbconvert_exporter": "python",
   "pygments_lexer": "ipython3",
   "version": "3.11.4"
  },
  "orig_nbformat": 4
 },
 "nbformat": 4,
 "nbformat_minor": 2
}
