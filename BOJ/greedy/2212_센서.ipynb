{
 "cells": [
  {
   "cell_type": "code",
   "execution_count": 13,
   "metadata": {},
   "outputs": [
    {
     "name": "stdout",
     "output_type": "stream",
     "text": [
      "6\n"
     ]
    }
   ],
   "source": [
    "import sys\n",
    "\n",
    "n = int(sys.stdin.readline())\n",
    "k = int(sys.stdin.readline())\n",
    "pos = sorted(list(map(int, sys.stdin.readline().split())))\n",
    "\n",
    "if k >= n:\n",
    "    print(0)\n",
    "    sys.exit()\n",
    "\n",
    "dist = []\n",
    "for i in range(1, n):\n",
    "    dist.append(pos[i] - pos[i-1])\n",
    "\n",
    "dist.sort(reverse=True)\n",
    "for _ in range(k-1):\n",
    "    dist.pop(0)\n",
    "\n",
    "print(sum(dist))\n"
   ]
  }
 ],
 "metadata": {
  "kernelspec": {
   "display_name": "base",
   "language": "python",
   "name": "python3"
  },
  "language_info": {
   "codemirror_mode": {
    "name": "ipython",
    "version": 3
   },
   "file_extension": ".py",
   "mimetype": "text/x-python",
   "name": "python",
   "nbconvert_exporter": "python",
   "pygments_lexer": "ipython3",
   "version": "3.11.4"
  },
  "orig_nbformat": 4
 },
 "nbformat": 4,
 "nbformat_minor": 2
}
