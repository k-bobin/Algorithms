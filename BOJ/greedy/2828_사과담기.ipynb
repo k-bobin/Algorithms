{
 "cells": [
  {
   "cell_type": "code",
   "execution_count": 1,
   "metadata": {},
   "outputs": [],
   "source": [
    "import sys\n",
    "input = sys.stdin.readline\n",
    "\n",
    "n,m= map(int, sys.stdin.readline().split())\n",
    "j=int(sys.stdin.readline())\n",
    "left=1\n",
    "ans=0\n",
    "for i in range(j):\n",
    "    apple=int(sys.stdin.readline())\n",
    "    if apple<left:\n",
    "        ans+=left-apple\n",
    "        left=apple\n",
    "    elif apple > left+m -1:\n",
    "        ans+= apple-(left+m-1)\n",
    "        left=apple-m+1\n",
    "print(ans)\n",
    "\n"
   ]
  },
  {
   "cell_type": "code",
   "execution_count": null,
   "metadata": {},
   "outputs": [],
   "source": [
    "3 1 5 3"
   ]
  }
 ],
 "metadata": {
  "kernelspec": {
   "display_name": "base",
   "language": "python",
   "name": "python3"
  },
  "language_info": {
   "codemirror_mode": {
    "name": "ipython",
    "version": 3
   },
   "file_extension": ".py",
   "mimetype": "text/x-python",
   "name": "python",
   "nbconvert_exporter": "python",
   "pygments_lexer": "ipython3",
   "version": "3.11.4"
  },
  "orig_nbformat": 4
 },
 "nbformat": 4,
 "nbformat_minor": 2
}
