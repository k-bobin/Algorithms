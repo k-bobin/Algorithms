{
 "cells": [
  {
   "cell_type": "code",
   "execution_count": 1,
   "metadata": {},
   "outputs": [],
   "source": [
    "#7:32 -> \n",
    "\n",
    "import sys\n",
    "input = sys.stdin.readline\n",
    "\n",
    "n=int(input()) \n",
    "km=list(map(int,input().split()))\n",
    "price=list(map(int,input().split()))\n",
    "\n",
    "minPrice=price[0]\n",
    "total=0\n",
    "\n",
    "for i in range(n-1):\n",
    "    if minPrice>price[i]:\n",
    "        minPrice=price[i]\n",
    "\n",
    "    total+=(minPrice*km[i])\n",
    "print(total)\n",
    "\n"
   ]
  }
 ],
 "metadata": {
  "kernelspec": {
   "display_name": "base",
   "language": "python",
   "name": "python3"
  },
  "language_info": {
   "codemirror_mode": {
    "name": "ipython",
    "version": 3
   },
   "file_extension": ".py",
   "mimetype": "text/x-python",
   "name": "python",
   "nbconvert_exporter": "python",
   "pygments_lexer": "ipython3",
   "version": "3.11.4"
  },
  "orig_nbformat": 4
 },
 "nbformat": 4,
 "nbformat_minor": 2
}
