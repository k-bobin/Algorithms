{
 "cells": [
  {
   "cell_type": "code",
   "execution_count": 13,
   "metadata": {},
   "outputs": [
    {
     "name": "stdout",
     "output_type": "stream",
     "text": [
      "6\n"
     ]
    }
   ],
   "source": [
    "from collections import deque\n",
    "\n",
    "n = int(input())\n",
    "\n",
    "S = input()\n",
    "\n",
    "dq = deque(S)\n",
    "\n",
    "R = S.count('R')\n",
    "B = S.count('B')\n",
    "\n",
    "ans = 1e9\n",
    "\n",
    "R_count = 0\n",
    "B_count = 0\n",
    "\n",
    "while R_count < R and dq:\n",
    "    element = dq.popleft()\n",
    "\n",
    "    if element == 'B':\n",
    "        B_count += 1\n",
    "    else :\n",
    "        R_count += 1\n",
    "ans = min(ans, min(R_count, B_count))\n",
    "\n",
    "\n",
    "R_count = 0\n",
    "B_count = 0\n",
    "dq = deque(S)\n",
    "\n",
    "while B_count < B and dq:\n",
    "    element = dq.popleft()\n",
    "\n",
    "    if element == 'B':\n",
    "        B_count += 1\n",
    "    else:\n",
    "        R_count += 1\n",
    "ans = min(ans, min(R_count, B_count))\n",
    "\n",
    "print(ans)"
   ]
  }
 ],
 "metadata": {
  "kernelspec": {
   "display_name": "base",
   "language": "python",
   "name": "python3"
  },
  "language_info": {
   "codemirror_mode": {
    "name": "ipython",
    "version": 3
   },
   "file_extension": ".py",
   "mimetype": "text/x-python",
   "name": "python",
   "nbconvert_exporter": "python",
   "pygments_lexer": "ipython3",
   "version": "3.11.4"
  },
  "orig_nbformat": 4
 },
 "nbformat": 4,
 "nbformat_minor": 2
}
