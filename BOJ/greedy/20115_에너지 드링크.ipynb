{
 "cells": [
  {
   "cell_type": "code",
   "execution_count": 11,
   "metadata": {},
   "outputs": [
    {
     "name": "stdout",
     "output_type": "stream",
     "text": [
      "[1, 9, 27, 39, 45, 65, 77, 80, 100, 495]\n",
      "495\n",
      "495.5\n",
      "500.0\n",
      "513.5\n",
      "533.0\n",
      "555.5\n",
      "588.0\n",
      "626.5\n",
      "666.5\n",
      "716.5\n",
      "716.5\n"
     ]
    }
   ],
   "source": [
    "import sys\n",
    "input = sys.stdin.readline\n",
    " \n",
    "n = int(input()) \n",
    "drinks = list(map(int,input().split())) \n",
    "drinks.sort()\n",
    "\n",
    "ans = drinks[-1]\n",
    "\n",
    "for i in range(n-1):\n",
    "    ans += drinks[i]/2\n",
    "\n",
    "print(ans)"
   ]
  }
 ],
 "metadata": {
  "kernelspec": {
   "display_name": "base",
   "language": "python",
   "name": "python3"
  },
  "language_info": {
   "codemirror_mode": {
    "name": "ipython",
    "version": 3
   },
   "file_extension": ".py",
   "mimetype": "text/x-python",
   "name": "python",
   "nbconvert_exporter": "python",
   "pygments_lexer": "ipython3",
   "version": "3.11.4"
  },
  "orig_nbformat": 4
 },
 "nbformat": 4,
 "nbformat_minor": 2
}
