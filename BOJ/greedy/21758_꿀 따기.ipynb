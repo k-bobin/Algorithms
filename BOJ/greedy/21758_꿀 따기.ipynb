{
 "cells": [
  {
   "cell_type": "code",
   "execution_count": 13,
   "metadata": {},
   "outputs": [
    {
     "name": "stdout",
     "output_type": "stream",
     "text": [
      "6\n"
     ]
    }
   ],
   "source": [
    "#11047 동전0\n",
    "import heapq\n",
    "import sys\n",
    "\n",
    "N = int(input())\n",
    "C = []\n",
    "h = []\n",
    "for i in range(N):\n",
    "    C.append(list(map(int, sys.stdin.readline().split())))\n",
    "\n",
    "C = sorted(C,key = lambda x: x[0]) #[시작, 끝나는 시간]\n",
    "\n",
    "for i in range(N):\n",
    "    if len(h) != 0 and h[0]<= C[i][0]:\n",
    "        heapq.heappop(h) \n",
    "    heapq.heappush(h,C[i][1]) #끝나는 시간 \n",
    "    \n",
    "print(len(h))\n"
   ]
  }
 ],
 "metadata": {
  "kernelspec": {
   "display_name": "base",
   "language": "python",
   "name": "python3"
  },
  "language_info": {
   "codemirror_mode": {
    "name": "ipython",
    "version": 3
   },
   "file_extension": ".py",
   "mimetype": "text/x-python",
   "name": "python",
   "nbconvert_exporter": "python",
   "pygments_lexer": "ipython3",
   "version": "3.11.4"
  },
  "orig_nbformat": 4
 },
 "nbformat": 4,
 "nbformat_minor": 2
}
