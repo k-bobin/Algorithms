{
 "cells": [
  {
   "cell_type": "code",
   "execution_count": 13,
   "metadata": {},
   "outputs": [
    {
     "name": "stdout",
     "output_type": "stream",
     "text": [
      "6\n"
     ]
    }
   ],
   "source": [
    "import sys\n",
    "\n",
    "read = sys.stdin.readline\n",
    "\n",
    "N = int(read())\n",
    "cranes = list(map(int, read().split()))\n",
    "\n",
    "M = int(read())\n",
    "boxs = list(map(int, read().split()))\n",
    "\n",
    "cranes.sort(reverse=True)\n",
    "boxs.sort(reverse=True)\n",
    "\n",
    "if boxs[0] > cranes[0]:\n",
    "    print(-1)\n",
    "    sys.exit()\n",
    "else:\n",
    "    time = 0\n",
    "\n",
    "    while boxs:\n",
    "        if not boxs:\n",
    "            break\n",
    "\n",
    "        for crane in cranes:\n",
    "            for box in boxs:\n",
    "                if crane >= box:\n",
    "                    boxs.remove(box)\n",
    "                    break\n",
    "\n",
    "        time += 1\n",
    "\n",
    "    print(time)\n",
    "\n"
   ]
  }
 ],
 "metadata": {
  "kernelspec": {
   "display_name": "base",
   "language": "python",
   "name": "python3"
  },
  "language_info": {
   "codemirror_mode": {
    "name": "ipython",
    "version": 3
   },
   "file_extension": ".py",
   "mimetype": "text/x-python",
   "name": "python",
   "nbconvert_exporter": "python",
   "pygments_lexer": "ipython3",
   "version": "3.11.4"
  },
  "orig_nbformat": 4
 },
 "nbformat": 4,
 "nbformat_minor": 2
}
