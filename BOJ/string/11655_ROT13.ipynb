{
 "cells": [
  {
   "cell_type": "code",
   "execution_count": 38,
   "metadata": {},
   "outputs": [
    {
     "name": "stdout",
     "output_type": "stream",
     "text": [
      "19\n"
     ]
    }
   ],
   "source": [
    "s = list(input())\n",
    "for i in range(len(s)):\n",
    "    if 90 >= ord(s[i]) >= 65:\n",
    "        if (ord(s[i])+13) > 90:\n",
    "            s[i] = chr(ord(s[i])-13)\n",
    "        else:\n",
    "            s[i] = chr(ord(s[i])+13)\n",
    "    elif 122 >= ord(s[i]) >= 97:\n",
    "        if (ord(s[i])+13) > 122:\n",
    "            s[i] = chr(ord(s[i])-13)\n",
    "        else:\n",
    "            s[i] = chr(ord(s[i])+13)\n",
    "print(*s,sep=\"\")"
   ]
  },
  {
   "cell_type": "code",
   "execution_count": null,
   "metadata": {},
   "outputs": [],
   "source": []
  }
 ],
 "metadata": {
  "kernelspec": {
   "display_name": "base",
   "language": "python",
   "name": "python3"
  },
  "language_info": {
   "codemirror_mode": {
    "name": "ipython",
    "version": 3
   },
   "file_extension": ".py",
   "mimetype": "text/x-python",
   "name": "python",
   "nbconvert_exporter": "python",
   "pygments_lexer": "ipython3",
   "version": "3.11.4"
  },
  "orig_nbformat": 4
 },
 "nbformat": 4,
 "nbformat_minor": 2
}
