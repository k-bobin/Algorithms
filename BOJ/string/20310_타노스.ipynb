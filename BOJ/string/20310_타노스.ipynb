{
 "cells": [
  {
   "cell_type": "code",
   "execution_count": 38,
   "metadata": {},
   "outputs": [
    {
     "name": "stdout",
     "output_type": "stream",
     "text": [
      "19\n"
     ]
    }
   ],
   "source": [
    "from collections import Counter \n",
    "ans = ''\n",
    "_list = list(input())\n",
    "counts = sorted(Counter(_list).items())\n",
    "\n",
    "for num, times in counts:\n",
    "    ans += str(num) * (times//2)\n",
    "    \n",
    "print(ans)"
   ]
  },
  {
   "cell_type": "code",
   "execution_count": 31,
   "metadata": {},
   "outputs": [
    {
     "name": "stdout",
     "output_type": "stream",
     "text": [
      "['0', '0', '1']\n"
     ]
    }
   ],
   "source": [
    "name = list(input())\n",
    "\n",
    "zeros = (name.count('0'))//2\n",
    "ones = (name.count('1'))//2\n",
    "\n",
    "#1은 왼쪽에서 부터 찾아 제거 \n",
    "for _ in range(ones):\n",
    "    name.remove('1')\n",
    "\n",
    "name.reverse()\n",
    "#0은 오른쪽에서 부터 찾아 제거 \n",
    "for _ in range(zeros):\n",
    "    name.remove('0')\n",
    "\n",
    "\n",
    "name.reverse()\n",
    "print(\"\".join(name))\n",
    "\n",
    "\n"
   ]
  },
  {
   "cell_type": "code",
   "execution_count": null,
   "metadata": {},
   "outputs": [],
   "source": []
  }
 ],
 "metadata": {
  "kernelspec": {
   "display_name": "base",
   "language": "python",
   "name": "python3"
  },
  "language_info": {
   "codemirror_mode": {
    "name": "ipython",
    "version": 3
   },
   "file_extension": ".py",
   "mimetype": "text/x-python",
   "name": "python",
   "nbconvert_exporter": "python",
   "pygments_lexer": "ipython3",
   "version": "3.11.4"
  },
  "orig_nbformat": 4
 },
 "nbformat": 4,
 "nbformat_minor": 2
}
