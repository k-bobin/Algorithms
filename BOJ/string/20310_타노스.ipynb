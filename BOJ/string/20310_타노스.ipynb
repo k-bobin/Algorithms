{
 "cells": [
  {
   "cell_type": "code",
   "execution_count": 38,
   "metadata": {},
   "outputs": [
    {
     "name": "stdout",
     "output_type": "stream",
     "text": [
      "19\n"
     ]
    }
   ],
   "source": [
    "def solution() :\n",
    "    n = list(input())\n",
    "    zero = n.count('0') // 2\n",
    "    one = n.count('1') // 2\n",
    "    \n",
    "    for _ in range(zero) :\n",
    "        n.pop(-(n[::-1].index('0'))-1)\n",
    "    \n",
    "    for _ in range(one) :\n",
    "        n.pop(n.index('1'))\n",
    "    \n",
    "    print(''.join(n))\n",
    "    \n",
    "solution()"
   ]
  },
  {
   "cell_type": "code",
   "execution_count": null,
   "metadata": {},
   "outputs": [],
   "source": []
  }
 ],
 "metadata": {
  "kernelspec": {
   "display_name": "base",
   "language": "python",
   "name": "python3"
  },
  "language_info": {
   "codemirror_mode": {
    "name": "ipython",
    "version": 3
   },
   "file_extension": ".py",
   "mimetype": "text/x-python",
   "name": "python",
   "nbconvert_exporter": "python",
   "pygments_lexer": "ipython3",
   "version": "3.11.4"
  },
  "orig_nbformat": 4
 },
 "nbformat": 4,
 "nbformat_minor": 2
}
