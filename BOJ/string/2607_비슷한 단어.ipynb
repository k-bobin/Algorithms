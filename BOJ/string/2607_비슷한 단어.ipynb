{
 "cells": [
  {
   "cell_type": "code",
   "execution_count": 11,
   "metadata": {},
   "outputs": [
    {
     "name": "stdout",
     "output_type": "stream",
     "text": [
      "{'append': [1, 6], 'sand': [3, 4], 'apple': [2, 5]}\n",
      "append\n",
      "apple\n",
      "sand\n"
     ]
    }
   ],
   "source": [
    "N = int(input())\n",
    "target = list(input()) # 비교 대상 단어(첫 단어)\n",
    "answer = 0\n",
    "\n",
    "for _ in range(N-1):\n",
    "    compare = target[:] \n",
    "    word = input() # 새로운 단어\n",
    "    cnt = 0\n",
    "\n",
    "    for w in word:\n",
    "        if w in compare:\n",
    "            compare.remove(w)\n",
    "        else:\n",
    "            cnt += 1\n",
    "\n",
    "    if cnt < 2 and len(compare) < 2:\n",
    "        answer += 1\n",
    "\n",
    "print(answer)"
   ]
  }
 ],
 "metadata": {
  "kernelspec": {
   "display_name": "base",
   "language": "python",
   "name": "python3"
  },
  "language_info": {
   "codemirror_mode": {
    "name": "ipython",
    "version": 3
   },
   "file_extension": ".py",
   "mimetype": "text/x-python",
   "name": "python",
   "nbconvert_exporter": "python",
   "pygments_lexer": "ipython3",
   "version": "3.11.4"
  },
  "orig_nbformat": 4
 },
 "nbformat": 4,
 "nbformat_minor": 2
}
