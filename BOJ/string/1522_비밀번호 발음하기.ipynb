{
 "cells": [
  {
   "cell_type": "code",
   "execution_count": 3,
   "metadata": {},
   "outputs": [
    {
     "name": "stdout",
     "output_type": "stream",
     "text": [
      "<a> is acceptable\n",
      "<tv> is not acceptable.\n",
      "<ptoui> is not acceptable.\n",
      "<bontres> is not acceptable.\n",
      "<zoggax> is not acceptable.\n",
      "<wiinq> is not acceptable.\n",
      "<eep> is acceptable\n",
      "<houctuh> is acceptable\n"
     ]
    }
   ],
   "source": [
    "moeum = ['a','e','i','o','u']\n",
    "#모음 +1 #자음 -1 \n",
    "\n",
    "while True:\n",
    "    temp = input()\n",
    "\n",
    "    if temp == 'end':\n",
    "        break\n",
    "\n",
    "    password= list(temp.replace('ee','e').replace('oo','o'))\n",
    "    msg = 'is acceptable'\n",
    "\n",
    "    cnt = 0\n",
    "    #모음개수세기 \n",
    "    for i in password :\n",
    "        if i in moeum :\n",
    "            cnt +=1 \n",
    "    #모음이 없으면 부적합 \n",
    "    if cnt <1 :\n",
    "        print(f'<{\"\".join(temp)}> is not acceptable.')\n",
    "    else:\n",
    "        prev = ''\n",
    "        score = 0\n",
    "        for i in password:\n",
    "            if not len(prev):\n",
    "                prev = i\n",
    "                score += 1\n",
    "            # 같은 글자가 연속적으로 두번 오면\n",
    "            elif len(prev) and prev == i:\n",
    "                msg= 'is not acceptable.'\n",
    "                break\n",
    "            elif len(prev) and prev in moeum and i not in moeum:\n",
    "                score = 1\n",
    "            elif len(prev) and prev not in moeum and i in moeum:\n",
    "                score = 1\n",
    "            elif len(prev) and prev in moeum and i in moeum:\n",
    "                score += 1 \n",
    "            elif len(prev) and prev not in moeum and i not in moeum:\n",
    "                score += 1\n",
    "            prev = i\n",
    "\n",
    "            if score >= 3:\n",
    "                msg = 'is not acceptable.'\n",
    "                break\n",
    "        print(f'<{temp}>'+' '+msg) \n",
    "\n",
    "\n",
    "\n"
   ]
  }
 ],
 "metadata": {
  "kernelspec": {
   "display_name": "base",
   "language": "python",
   "name": "python3"
  },
  "language_info": {
   "codemirror_mode": {
    "name": "ipython",
    "version": 3
   },
   "file_extension": ".py",
   "mimetype": "text/x-python",
   "name": "python",
   "nbconvert_exporter": "python",
   "pygments_lexer": "ipython3",
   "version": "3.11.4"
  },
  "orig_nbformat": 4
 },
 "nbformat": 4,
 "nbformat_minor": 2
}
