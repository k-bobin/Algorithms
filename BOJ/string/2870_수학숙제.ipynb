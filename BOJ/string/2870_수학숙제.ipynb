{
 "cells": [
  {
   "cell_type": "code",
   "execution_count": 31,
   "metadata": {},
   "outputs": [
    {
     "name": "stdout",
     "output_type": "stream",
     "text": [
      "0\n",
      "1\n",
      "2\n",
      "3\n",
      "4\n",
      "7\n"
     ]
    }
   ],
   "source": [
    "m = int(input())\n",
    "ans=[]\n",
    "for _ in range(m):\n",
    "    num = ''\n",
    "    for i in list(input()):\n",
    "        if i.isdigit():\n",
    "            num+=i\n",
    "\n",
    "        elif len(num) and i.isdigit()==False:\n",
    "            ans.append(num)\n",
    "            num = ''\n",
    "    if len(num) != 0:\n",
    "        ans.append(num)\n",
    "\n",
    "numbers = sorted(list(map(int,ans)))\n",
    "for i in numbers:\n",
    "    print(i)"
   ]
  },
  {
   "cell_type": "code",
   "execution_count": null,
   "metadata": {},
   "outputs": [],
   "source": []
  }
 ],
 "metadata": {
  "kernelspec": {
   "display_name": "base",
   "language": "python",
   "name": "python3"
  },
  "language_info": {
   "codemirror_mode": {
    "name": "ipython",
    "version": 3
   },
   "file_extension": ".py",
   "mimetype": "text/x-python",
   "name": "python",
   "nbconvert_exporter": "python",
   "pygments_lexer": "ipython3",
   "version": "3.11.4"
  },
  "orig_nbformat": 4
 },
 "nbformat": 4,
 "nbformat_minor": 2
}
