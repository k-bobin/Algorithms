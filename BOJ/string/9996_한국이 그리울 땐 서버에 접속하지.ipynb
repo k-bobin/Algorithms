{
 "cells": [
  {
   "cell_type": "code",
   "execution_count": 7,
   "metadata": {},
   "outputs": [
    {
     "ename": "SyntaxError",
     "evalue": "invalid syntax (1691393741.py, line 10)",
     "output_type": "error",
     "traceback": [
      "\u001b[0;36m  Cell \u001b[0;32mIn[7], line 10\u001b[0;36m\u001b[0m\n\u001b[0;31m    if pat[0] == '*' and :\u001b[0m\n\u001b[0m                         ^\u001b[0m\n\u001b[0;31mSyntaxError\u001b[0m\u001b[0;31m:\u001b[0m invalid syntax\n"
     ]
    }
   ],
   "source": [
    "n = int(input())\n",
    "pattern = input().split(\"*\")\n",
    "length = len(pattern[0]) + len(pattern[1])\n",
    "\n",
    "for _ in range(n):\n",
    "\tfile = input()\n",
    "\tif length > len(file):\n",
    "\t\tprint(\"NE\")\n",
    "\t\n",
    "    # _list[-n : ]를 해주면 뒤에 n번째 문자부터 끝까지\n",
    "\telse:\n",
    "\t\tif pattern[0] == file[:len(pattern[0])] and pattern[1] == file[-len(pattern[1]):]:\n",
    "\t\t\tprint(\"DA\")\n",
    "\t\telse:\n",
    "\t\t\tprint(\"NE\")"
   ]
  },
  {
   "cell_type": "code",
   "execution_count": null,
   "metadata": {},
   "outputs": [],
   "source": []
  }
 ],
 "metadata": {
  "kernelspec": {
   "display_name": "base",
   "language": "python",
   "name": "python3"
  },
  "language_info": {
   "codemirror_mode": {
    "name": "ipython",
    "version": 3
   },
   "file_extension": ".py",
   "mimetype": "text/x-python",
   "name": "python",
   "nbconvert_exporter": "python",
   "pygments_lexer": "ipython3",
   "version": "3.11.4"
  },
  "orig_nbformat": 4
 },
 "nbformat": 4,
 "nbformat_minor": 2
}
