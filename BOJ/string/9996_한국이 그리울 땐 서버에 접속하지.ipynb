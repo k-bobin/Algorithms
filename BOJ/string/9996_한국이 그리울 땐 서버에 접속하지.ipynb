{
 "cells": [
  {
   "cell_type": "code",
   "execution_count": 38,
   "metadata": {},
   "outputs": [
    {
     "name": "stdout",
     "output_type": "stream",
     "text": [
      "19\n"
     ]
    }
   ],
   "source": [
    "N = int(input())\n",
    "\n",
    "pattern = input().split('*')\n",
    "\n",
    "for _ in range(N):\n",
    "    inputString = input()\n",
    "    \n",
    "    if inputString[:len(pattern[0])] == pattern[0] and inputString[-len(pattern[1]):] == pattern[1] and len(\"\".join(pattern)) <=len(inputString): \n",
    "        print(\"DA\")\n",
    "    else:\n",
    "        print(\"NE\")"
   ]
  },
  {
   "cell_type": "code",
   "execution_count": null,
   "metadata": {},
   "outputs": [],
   "source": []
  }
 ],
 "metadata": {
  "kernelspec": {
   "display_name": "base",
   "language": "python",
   "name": "python3"
  },
  "language_info": {
   "codemirror_mode": {
    "name": "ipython",
    "version": 3
   },
   "file_extension": ".py",
   "mimetype": "text/x-python",
   "name": "python",
   "nbconvert_exporter": "python",
   "pygments_lexer": "ipython3",
   "version": "3.11.4"
  },
  "orig_nbformat": 4
 },
 "nbformat": 4,
 "nbformat_minor": 2
}
