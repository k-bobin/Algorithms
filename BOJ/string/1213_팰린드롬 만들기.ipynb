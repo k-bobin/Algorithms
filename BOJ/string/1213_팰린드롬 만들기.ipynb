{
 "cells": [
  {
   "cell_type": "code",
   "execution_count": 13,
   "metadata": {},
   "outputs": [
    {
     "name": "stdout",
     "output_type": "stream",
     "text": [
      "ABACABA\n"
     ]
    }
   ],
   "source": [
    "from itertools import permutations\n",
    "\n",
    "letters = list(input())\n",
    "n = len(letters)\n",
    "msg = \"I'm Sorry Hansoo\"\n",
    "\n",
    "for i in permutations(letters,n):\n",
    "    if list(i) ==list(reversed(i)):\n",
    "        msg = \"\".join(list(i))\n",
    "        break\n",
    "    \n",
    "print(msg)"
   ]
  }
 ],
 "metadata": {
  "kernelspec": {
   "display_name": "base",
   "language": "python",
   "name": "python3"
  },
  "language_info": {
   "codemirror_mode": {
    "name": "ipython",
    "version": 3
   },
   "file_extension": ".py",
   "mimetype": "text/x-python",
   "name": "python",
   "nbconvert_exporter": "python",
   "pygments_lexer": "ipython3",
   "version": "3.11.4"
  },
  "orig_nbformat": 4
 },
 "nbformat": 4,
 "nbformat_minor": 2
}
