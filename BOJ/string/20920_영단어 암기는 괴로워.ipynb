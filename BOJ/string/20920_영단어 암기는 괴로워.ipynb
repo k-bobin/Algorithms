{
 "cells": [
  {
   "cell_type": "code",
   "execution_count": 38,
   "metadata": {},
   "outputs": [
    {
     "name": "stdout",
     "output_type": "stream",
     "text": [
      "19\n"
     ]
    }
   ],
   "source": [
    "import sys  \n",
    "sys.stdin = open('input.txt')  \n",
    "input = sys.stdin.readline  \n",
    "from collections import defaultdict  \n",
    "\n",
    "\n",
    "count = {i:[] for i in range(1, 100001)}  \n",
    "words = defaultdict(int)  \n",
    "N, M = map(int, input().split())  \n",
    "for _ in range(N):  \n",
    "    word = input().rstrip()  \n",
    "    if len(word) < M:  \n",
    "        continue  \n",
    "    else:  \n",
    "        words[word] += 1  \n",
    "\n",
    "for i in words:  \n",
    "    count[words[i]].append(i)  \n",
    "\n",
    "for j in range(N, 0, -1):  \n",
    "    if count[j]:  \n",
    "        count[j].sort(key=lambda x:(-len(x), x))  \n",
    "        print(*count[j], sep='\\n')"
   ]
  },
  {
   "cell_type": "code",
   "execution_count": null,
   "metadata": {},
   "outputs": [],
   "source": []
  }
 ],
 "metadata": {
  "kernelspec": {
   "display_name": "base",
   "language": "python",
   "name": "python3"
  },
  "language_info": {
   "codemirror_mode": {
    "name": "ipython",
    "version": 3
   },
   "file_extension": ".py",
   "mimetype": "text/x-python",
   "name": "python",
   "nbconvert_exporter": "python",
   "pygments_lexer": "ipython3",
   "version": "3.11.4"
  },
  "orig_nbformat": 4
 },
 "nbformat": 4,
 "nbformat_minor": 2
}
