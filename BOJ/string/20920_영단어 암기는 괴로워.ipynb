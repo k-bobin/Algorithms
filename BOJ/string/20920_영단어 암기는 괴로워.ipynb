{
 "cells": [
  {
   "cell_type": "code",
   "execution_count": 11,
   "metadata": {},
   "outputs": [
    {
     "name": "stdout",
     "output_type": "stream",
     "text": [
      "{'append': [1, 6], 'sand': [3, 4], 'apple': [2, 5]}\n",
      "append\n",
      "apple\n",
      "sand\n"
     ]
    }
   ],
   "source": [
    "import sys\n",
    "input = sys.stdin.readline\n",
    "\n",
    "n,m = map(int, input().split())\n",
    "d = {}\n",
    "for _ in range(n):\n",
    "\tname = input().strip()\n",
    "    \t# 단어길이가 M보다 작으면 패스\n",
    "\tif len(name) < m:\n",
    "\t\tcontinue\n",
    "        # d.get()은 해당 값이 존재하면 값을 반환 없으면 None을 반환\n",
    "\tif d.get(name):\n",
    "    \t\t# 단어가 존재하면 개수 하나 증가\n",
    "\t\td[name][0] += 1\n",
    "\telse:\n",
    "    \t\t# 존재하지 않으면 [개수, 길이, 단어] 추가 \n",
    "\t\td[name] = [1, len(name), name]\n",
    "# 개수, 길이는 내림차순으로 단어는 사전순(오름차순)으로 정렬\n",
    "ans = sorted(d.items(), key= lambda x: (-x[1][0], -x[1][1], x[1][2]))\n",
    "\n",
    "for a in ans:\n",
    "\tprint(a[0])"
   ]
  }
 ],
 "metadata": {
  "kernelspec": {
   "display_name": "base",
   "language": "python",
   "name": "python3"
  },
  "language_info": {
   "codemirror_mode": {
    "name": "ipython",
    "version": 3
   },
   "file_extension": ".py",
   "mimetype": "text/x-python",
   "name": "python",
   "nbconvert_exporter": "python",
   "pygments_lexer": "ipython3",
   "version": "3.11.4"
  },
  "orig_nbformat": 4
 },
 "nbformat": 4,
 "nbformat_minor": 2
}
