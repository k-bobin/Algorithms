{
 "cells": [
  {
   "cell_type": "code",
   "execution_count": 1,
   "metadata": {},
   "outputs": [],
   "source": [
    "import sys\n",
    "from math import ceil\n",
    "input = sys.stdin.readline\n",
    "\n",
    "n, atk = map(int, input().split())\n",
    "info = [list(map(int, input().split())) for _ in range(n)]\n",
    "hp, max_hp = 0, 0\n",
    "for t, a, h in info:\n",
    "    if t == 1:\n",
    "        hp += (ceil(h / atk) - 1) * a\n",
    "    else:\n",
    "        max_hp = max(max_hp, hp)\n",
    "        atk += a\n",
    "        hp -= h\n",
    "        if hp < 0:\n",
    "            hp = 0\n",
    "\n",
    "print(max(max_hp, hp) + 1)"
   ]
  },
  {
   "cell_type": "code",
   "execution_count": null,
   "metadata": {},
   "outputs": [],
   "source": []
  }
 ],
 "metadata": {
  "kernelspec": {
   "display_name": "base",
   "language": "python",
   "name": "python3"
  },
  "language_info": {
   "codemirror_mode": {
    "name": "ipython",
    "version": 3
   },
   "file_extension": ".py",
   "mimetype": "text/x-python",
   "name": "python",
   "nbconvert_exporter": "python",
   "pygments_lexer": "ipython3",
   "version": "3.11.4"
  },
  "orig_nbformat": 4
 },
 "nbformat": 4,
 "nbformat_minor": 2
}
