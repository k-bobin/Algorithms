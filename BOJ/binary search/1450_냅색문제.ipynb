{
 "cells": [
  {
   "cell_type": "code",
   "execution_count": 1,
   "metadata": {},
   "outputs": [],
   "source": [
    "import sys\n",
    "input = sys.stdin.readline\n",
    "\n",
    "n,c = map(int,input().split())\n",
    "w = list(map(int,input().split()))\n",
    "w1,w2 = w[:n//2],w[n//2:]\n",
    "wl,wr = [],[]\n",
    "\n",
    "# 완전 탐색\n",
    "def bf(arr,seq,idx,summ):\n",
    "    if len(arr) == idx:\n",
    "        seq.append(summ)\n",
    "        return seq\n",
    "    \n",
    "    bf(arr,seq,idx+1,summ)\n",
    "    bf(arr,seq,idx+1,summ+arr[idx])\n",
    "    \n",
    "    return seq\n",
    "\n",
    "# 절반씩 탐색\n",
    "wl = bf(w1,wl,0,0)\n",
    "wr = sorted(bf(w2,wr,0,0))\n",
    "r = 0\n",
    "\n",
    "for i in wl:\n",
    "    if c-i < 0:\n",
    "        continue\n",
    "    \n",
    "    # 이분 탐색\n",
    "    start,end = 0,len(wr)\n",
    "    while(start < end):\n",
    "        mid = (start+end)//2\n",
    "        if wr[mid] <= c-i:\n",
    "            start = mid+1\n",
    "        else:\n",
    "            end = mid\n",
    "    r+= start\n",
    "print(r)"
   ]
  },
  {
   "cell_type": "code",
   "execution_count": null,
   "metadata": {},
   "outputs": [],
   "source": []
  }
 ],
 "metadata": {
  "kernelspec": {
   "display_name": "base",
   "language": "python",
   "name": "python3"
  },
  "language_info": {
   "codemirror_mode": {
    "name": "ipython",
    "version": 3
   },
   "file_extension": ".py",
   "mimetype": "text/x-python",
   "name": "python",
   "nbconvert_exporter": "python",
   "pygments_lexer": "ipython3",
   "version": "3.11.4"
  },
  "orig_nbformat": 4
 },
 "nbformat": 4,
 "nbformat_minor": 2
}
