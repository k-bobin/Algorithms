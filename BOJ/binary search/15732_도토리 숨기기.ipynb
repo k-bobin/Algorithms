{
 "cells": [
  {
   "cell_type": "code",
   "execution_count": 1,
   "metadata": {},
   "outputs": [],
   "source": [
    "def box(mid):\n",
    "   dotori = 0\n",
    "   for i in range(K):\n",
    "       A, B, C = ABC[i][0],ABC[i][1], ABC[i][2]\n",
    "       if A <= mid < B:\n",
    "           dotori += (mid - A) // C + 1\n",
    "       elif B <= mid:\n",
    "           dotori += (B - A) // C + 1\n",
    "   if dotori >= D:\n",
    "       return True\n",
    "   else:\n",
    "       return False\n",
    "\n",
    "# 이분탐색\n",
    "def check():\n",
    "   s, e = 1, 10**9\n",
    "   ans = 0\n",
    "   while s <= e:\n",
    "       mid = (s+e)//2\n",
    "       # 조건에 맞으면 정답 후보 (ans)에 저장하고 e 를 줄인다\n",
    "       if box(mid):\n",
    "           e = mid - 1\n",
    "           ans = mid\n",
    "       else:\n",
    "           s = mid + 1\n",
    "   return ans\n",
    "\n",
    "\n",
    "N, K, D = map(int, input().split())\n",
    "ABC = []\n",
    "for _ in range(K):\n",
    "   ABC.append((list(map(int, input().split()))))\n",
    "print(check())"
   ]
  },
  {
   "cell_type": "code",
   "execution_count": null,
   "metadata": {},
   "outputs": [],
   "source": []
  }
 ],
 "metadata": {
  "kernelspec": {
   "display_name": "base",
   "language": "python",
   "name": "python3"
  },
  "language_info": {
   "codemirror_mode": {
    "name": "ipython",
    "version": 3
   },
   "file_extension": ".py",
   "mimetype": "text/x-python",
   "name": "python",
   "nbconvert_exporter": "python",
   "pygments_lexer": "ipython3",
   "version": "3.11.4"
  },
  "orig_nbformat": 4
 },
 "nbformat": 4,
 "nbformat_minor": 2
}
