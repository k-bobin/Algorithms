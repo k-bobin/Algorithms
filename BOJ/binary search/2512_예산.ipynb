{
 "cells": [
  {
   "cell_type": "code",
   "execution_count": 29,
   "metadata": {},
   "outputs": [
    {
     "name": "stdout",
     "output_type": "stream",
     "text": [
      "127\n"
     ]
    }
   ],
   "source": [
    "import sys\n",
    "\n",
    "input = sys.stdin.readline\n",
    "n = int(input())  \n",
    "arr = list(map(int, input().split()))  \n",
    "m = int(input()) \n",
    "start, end = 0, max(arr)\n",
    "while start <= end:  \n",
    "    mid = (start + end) // 2  \n",
    "    curr = 0\n",
    "    for i in arr:\n",
    "        if i >= mid:  \n",
    "            curr += mid  \n",
    "        else:  \n",
    "            curr += i  \n",
    "    if curr <= m: \n",
    "        start = mid + 1\n",
    "    else:  \n",
    "        end = mid - 1\n",
    "\n",
    "print(end)"
   ]
  },
  {
   "cell_type": "code",
   "execution_count": 24,
   "metadata": {},
   "outputs": [
    {
     "name": "stdout",
     "output_type": "stream",
     "text": [
      "64\n"
     ]
    }
   ],
   "source": []
  },
  {
   "cell_type": "code",
   "execution_count": null,
   "metadata": {},
   "outputs": [],
   "source": []
  }
 ],
 "metadata": {
  "kernelspec": {
   "display_name": "base",
   "language": "python",
   "name": "python3"
  },
  "language_info": {
   "codemirror_mode": {
    "name": "ipython",
    "version": 3
   },
   "file_extension": ".py",
   "mimetype": "text/x-python",
   "name": "python",
   "nbconvert_exporter": "python",
   "pygments_lexer": "ipython3",
   "version": "3.11.4"
  },
  "orig_nbformat": 4
 },
 "nbformat": 4,
 "nbformat_minor": 2
}
