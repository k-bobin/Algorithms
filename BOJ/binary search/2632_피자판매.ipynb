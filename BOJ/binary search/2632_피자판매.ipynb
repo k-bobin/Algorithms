{
 "cells": [
  {
   "cell_type": "code",
   "execution_count": 1,
   "metadata": {},
   "outputs": [],
   "source": [
    "import sys\n",
    "from collections import defaultdict\n",
    "def input(): return sys.stdin.readline().rstrip()\n",
    "\n",
    "def find_case(pizza, length):\n",
    "    case = defaultdict(int)\n",
    "    for i in range(length):\n",
    "        temp = pizza[i:] + pizza[:i]\n",
    "        pre = 0\n",
    "        for num in temp:\n",
    "            pre += num\n",
    "            case[pre] += 1\n",
    "    case[sum(pizza)] = 1\n",
    "    return case\n",
    "\n",
    "k = int(input())\n",
    "n, m = map(int,input().split())\n",
    "pizza_a = [int(input()) for _ in range(n)]\n",
    "pizza_b = [int(input()) for _ in range(m)]\n",
    "\n",
    "case1 = find_case(pizza_a, n)\n",
    "case2 = find_case(pizza_b, m)\n",
    "\n",
    "result = case1.get(k, 0) + case2.get(k, 0)\n",
    "for num in case1:\n",
    "    if k-num in case2:\n",
    "        result += case1[num] * case2[k-num]\n",
    "print(result)"
   ]
  },
  {
   "cell_type": "code",
   "execution_count": null,
   "metadata": {},
   "outputs": [],
   "source": []
  }
 ],
 "metadata": {
  "kernelspec": {
   "display_name": "base",
   "language": "python",
   "name": "python3"
  },
  "language_info": {
   "codemirror_mode": {
    "name": "ipython",
    "version": 3
   },
   "file_extension": ".py",
   "mimetype": "text/x-python",
   "name": "python",
   "nbconvert_exporter": "python",
   "pygments_lexer": "ipython3",
   "version": "3.11.4"
  },
  "orig_nbformat": 4
 },
 "nbformat": 4,
 "nbformat_minor": 2
}
