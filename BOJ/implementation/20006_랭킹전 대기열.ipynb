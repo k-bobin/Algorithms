{
 "cells": [
  {
   "cell_type": "code",
   "execution_count": null,
   "metadata": {},
   "outputs": [],
   "source": [
    "p, m = map(int, input().split())\n",
    "people = []\n",
    "for i in range(p):\n",
    "    lv, id = input().split()\n",
    "    people.append([int(lv), id])\n",
    "\n",
    "rooms = []\n",
    "\n",
    "for lv, id in people:\n",
    "    flag = False\n",
    "    for i in range(len(rooms)):\n",
    "        if len(rooms[i][1]) == m:\n",
    "            continue\n",
    "        \n",
    "        # 들어갈 수 있는 방이 있으면 입장\n",
    "        if rooms[i][0] - 10 <= lv <= rooms[i][0] + 10:\n",
    "            flag = True\n",
    "            rooms[i][1].append([lv, id])\n",
    "            break\n",
    "            \n",
    "    # 대기방에 들어 갈 수 없으면 새로운 방 생성\n",
    "    if not flag:\n",
    "        rooms.append([lv, [[lv, id]]])\n",
    "\n",
    "# 방이 생성된 시간 순서로 출력\n",
    "for i in range(len(rooms)):\n",
    "    if len(rooms[i][1]) == m:\n",
    "        print('Started!')\n",
    "        tmp_ids = sorted(rooms[i][1], key=lambda x: x[1])\n",
    "        for j in range(m):\n",
    "            print(*tmp_ids[j])\n",
    "    else:\n",
    "        print('Waiting!')\n",
    "        tmp_ids = sorted(rooms[i][1], key=lambda x: x[1])\n",
    "        for j in range(len(tmp_ids)):\n",
    "            print(*tmp_ids[j])"
   ]
  },
  {
   "cell_type": "code",
   "execution_count": null,
   "metadata": {},
   "outputs": [],
   "source": []
  }
 ],
 "metadata": {
  "kernelspec": {
   "display_name": "base",
   "language": "python",
   "name": "python3"
  },
  "language_info": {
   "codemirror_mode": {
    "name": "ipython",
    "version": 3
   },
   "file_extension": ".py",
   "mimetype": "text/x-python",
   "name": "python",
   "nbconvert_exporter": "python",
   "pygments_lexer": "ipython3",
   "version": "3.11.4"
  },
  "orig_nbformat": 4
 },
 "nbformat": 4,
 "nbformat_minor": 2
}
