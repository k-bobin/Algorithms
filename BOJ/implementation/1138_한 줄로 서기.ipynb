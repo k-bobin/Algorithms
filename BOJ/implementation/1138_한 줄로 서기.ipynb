{
 "cells": [
  {
   "cell_type": "code",
   "execution_count": null,
   "metadata": {},
   "outputs": [],
   "source": [
    "n = int(input())\n",
    "h = list(map(int, input().split()))\n",
    "ans = [0] * n\n",
    "for p in range(1, n+1):\n",
    "    t = h[p-1]\n",
    "    cnt = 0\n",
    "    for i in range(n):\n",
    "        if cnt == t and ans[i] == 0:\n",
    "            ans[i] = p\n",
    "            break\n",
    "        elif ans[i] == 0:\n",
    "            cnt += 1\n",
    "print(*ans)"
   ]
  },
  {
   "cell_type": "code",
   "execution_count": null,
   "metadata": {},
   "outputs": [],
   "source": []
  }
 ],
 "metadata": {
  "kernelspec": {
   "display_name": "base",
   "language": "python",
   "name": "python3"
  },
  "language_info": {
   "codemirror_mode": {
    "name": "ipython",
    "version": 3
   },
   "file_extension": ".py",
   "mimetype": "text/x-python",
   "name": "python",
   "nbconvert_exporter": "python",
   "pygments_lexer": "ipython3",
   "version": "3.11.4"
  },
  "orig_nbformat": 4
 },
 "nbformat": 4,
 "nbformat_minor": 2
}
