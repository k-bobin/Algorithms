{
 "cells": [
  {
   "cell_type": "code",
   "execution_count": 20,
   "metadata": {},
   "outputs": [
    {
     "name": "stdout",
     "output_type": "stream",
     "text": [
      "-1\n"
     ]
    }
   ],
   "source": [
    "#리스트에 있는 점수, 내점수, 랭킹 리스트에 올라 갈 수 있는 점수의 개수 \n",
    "n, mine, p = list(map(int, input().split()))\n",
    "   \n",
    "if n == 0:   #없으면 EOF 에러 발생하기에 매우 중요\n",
    "    print(1)\n",
    "else:\n",
    "    score = list(map(int, input().split()))\n",
    "    score.sort(reverse= True)\n",
    "\n",
    "    if score[-1] >= mine and n==p :\n",
    "        print(-1)\n",
    "    else:\n",
    "        scores = [[i,0] for i in score]\n",
    "        scores.append([mine, 1])\n",
    "\n",
    "        scores.sort(key = lambda x:(x[0],x[1]), reverse = True)\n",
    "\n",
    "        rank = 1\n",
    "\n",
    "        for i in scores:\n",
    "            s, mark = i\n",
    "            if mark == 1:\n",
    "                print(rank)\n",
    "                break\n",
    "            rank += 1\n",
    "\n"
   ]
  },
  {
   "cell_type": "code",
   "execution_count": 11,
   "metadata": {},
   "outputs": [
    {
     "ename": "SyntaxError",
     "evalue": "illegal target for annotation (1645092694.py, line 1)",
     "output_type": "error",
     "traceback": [
      "\u001b[0;36m  Cell \u001b[0;32mIn[11], line 1\u001b[0;36m\u001b[0m\n\u001b[0;31m    1:54\u001b[0m\n\u001b[0m    ^\u001b[0m\n\u001b[0;31mSyntaxError\u001b[0m\u001b[0;31m:\u001b[0m illegal target for annotation\n"
     ]
    }
   ],
   "source": [
    "1:54"
   ]
  },
  {
   "cell_type": "code",
   "execution_count": null,
   "metadata": {},
   "outputs": [],
   "source": []
  }
 ],
 "metadata": {
  "kernelspec": {
   "display_name": "base",
   "language": "python",
   "name": "python3"
  },
  "language_info": {
   "codemirror_mode": {
    "name": "ipython",
    "version": 3
   },
   "file_extension": ".py",
   "mimetype": "text/x-python",
   "name": "python",
   "nbconvert_exporter": "python",
   "pygments_lexer": "ipython3",
   "version": "3.11.4"
  },
  "orig_nbformat": 4
 },
 "nbformat": 4,
 "nbformat_minor": 2
}
