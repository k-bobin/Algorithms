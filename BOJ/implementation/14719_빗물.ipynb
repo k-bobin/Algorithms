{
 "cells": [
  {
   "cell_type": "code",
   "execution_count": 3,
   "metadata": {},
   "outputs": [
    {
     "name": "stdout",
     "output_type": "stream",
     "text": [
      "5\n"
     ]
    }
   ],
   "source": [
    "import sys\n",
    "input = sys.stdin.readline\n",
    "\n",
    "h,w = map(int,input().split())\n",
    "height = list(map(int, (input().split())))\n",
    "water = 0\n",
    "\n",
    "for i in range(1,w-1):\n",
    "    cur = height[i]\n",
    "    left_wall= max(height[:i])\n",
    "    right_wall= max(height[i+1:])\n",
    "\n",
    "    if cur<left_wall and cur<right_wall:\n",
    "        water += min(left_wall, right_wall) - cur\n",
    "    \n",
    "print(water)\n"
   ]
  }
 ],
 "metadata": {
  "kernelspec": {
   "display_name": "base",
   "language": "python",
   "name": "python3"
  },
  "language_info": {
   "codemirror_mode": {
    "name": "ipython",
    "version": 3
   },
   "file_extension": ".py",
   "mimetype": "text/x-python",
   "name": "python",
   "nbconvert_exporter": "python",
   "pygments_lexer": "ipython3",
   "version": "3.11.4"
  },
  "orig_nbformat": 4
 },
 "nbformat": 4,
 "nbformat_minor": 2
}
