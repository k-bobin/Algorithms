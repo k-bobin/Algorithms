{
 "cells": [
  {
   "cell_type": "code",
   "execution_count": 18,
   "metadata": {},
   "outputs": [
    {
     "name": "stdout",
     "output_type": "stream",
     "text": [
      "01:10 31:30\n"
     ]
    }
   ],
   "source": [
    "n=int(input())\n",
    " \n",
    "one_time=0 #1번팀이 이기는 시간\n",
    "two_time=0\n",
    "flag=0\n",
    "for i in range(n):\n",
    "    team, time=input().split()\n",
    "    m,s=map(int, time.split(':'))\n",
    "    if team=='1':\n",
    "        if flag==0: #이제 이기려고 함\n",
    "            one_time+=48*60-(60*m+s)\n",
    "        flag+=1\n",
    "        if flag==0:\n",
    "            if two_time>0:\n",
    "                two_time=two_time-(48*60-(60*m+s))\n",
    "    else: \n",
    "        if flag==0: #이제 이기려고 함\n",
    "            two_time+=48*60-(60*m+s)\n",
    "        flag-=1\n",
    "        if flag==0: #이걸 넣으면 비겨.\n",
    "            if one_time>0:\n",
    "                one_time=one_time-(48*60-(60*m+s))\n",
    " \n",
    "        \n",
    "print('{:0>2}:{:0>2}'.format(one_time//60,one_time%60))\n",
    "print('{:0>2}:{:0>2}'.format(two_time//60,two_time%60))\n"
   ]
  },
  {
   "cell_type": "code",
   "execution_count": null,
   "metadata": {},
   "outputs": [],
   "source": []
  }
 ],
 "metadata": {
  "kernelspec": {
   "display_name": "base",
   "language": "python",
   "name": "python3"
  },
  "language_info": {
   "codemirror_mode": {
    "name": "ipython",
    "version": 3
   },
   "file_extension": ".py",
   "mimetype": "text/x-python",
   "name": "python",
   "nbconvert_exporter": "python",
   "pygments_lexer": "ipython3",
   "version": "3.11.4"
  },
  "orig_nbformat": 4
 },
 "nbformat": 4,
 "nbformat_minor": 2
}
