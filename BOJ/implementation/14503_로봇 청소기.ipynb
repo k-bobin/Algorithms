{
 "cells": [
  {
   "cell_type": "code",
   "execution_count": 22,
   "metadata": {},
   "outputs": [
    {
     "name": "stdout",
     "output_type": "stream",
     "text": [
      "59\n"
     ]
    }
   ],
   "source": [
    "import sys\n",
    "input = sys.stdin.readline\n",
    "\n",
    "N,M = map(int, input().split())\n",
    "y,x,d = map(int, input().split())\n",
    "map = [list(map(int, input().split())) for _ in range(N)]\n",
    "cnt = 0\n",
    "dy = [-1,0,1,0]\n",
    "dx = [0,1,0,-1]\n",
    "\n",
    "while 1:\n",
    "    if map[y][x] == 0:\n",
    "        map[y][x] = 2\n",
    "        cnt += 1\n",
    "    sw = False\n",
    "    # print(\"d\",d)\n",
    "    for i in range(1,5):\n",
    "        # print(\"d-i\", d-i)\n",
    "        ny = y + dy[d-i]\n",
    "        nx = x + dx[d-i]\n",
    "        if 0<=ny<N and 0<=nx<M:\n",
    "            if map[ny][nx] == 0:\n",
    "                d = (d-i+4) %4\n",
    "                y = ny\n",
    "                x = nx\n",
    "                sw = True\n",
    "                break\n",
    "\n",
    "    # 4방향 모두 있지 않은경우\n",
    "    if sw == False:\n",
    "        # 뒤쪽 방향이 막혀있는 지확인\n",
    "        ny = y - dy[d]\n",
    "        nx = x - dx[d]\n",
    "        if 0 <= ny < N and 0 <= nx < M:\n",
    "            if map[ny][nx] == 1:\n",
    "                break\n",
    "            else:\n",
    "                y = ny\n",
    "                x = nx\n",
    "        else:\n",
    "            break\n",
    "\n",
    "print(cnt)\n",
    "\n"
   ]
  },
  {
   "cell_type": "code",
   "execution_count": null,
   "metadata": {},
   "outputs": [],
   "source": []
  }
 ],
 "metadata": {
  "kernelspec": {
   "display_name": "base",
   "language": "python",
   "name": "python3"
  },
  "language_info": {
   "codemirror_mode": {
    "name": "ipython",
    "version": 3
   },
   "file_extension": ".py",
   "mimetype": "text/x-python",
   "name": "python",
   "nbconvert_exporter": "python",
   "pygments_lexer": "ipython3",
   "version": "3.11.4"
  },
  "orig_nbformat": 4
 },
 "nbformat": 4,
 "nbformat_minor": 2
}
