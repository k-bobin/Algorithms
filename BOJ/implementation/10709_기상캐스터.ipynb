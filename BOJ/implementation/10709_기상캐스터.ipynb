{
 "cells": [
  {
   "cell_type": "code",
   "execution_count": 4,
   "metadata": {},
   "outputs": [
    {
     "name": "stdout",
     "output_type": "stream",
     "text": [
      "0 1 2 0\n"
     ]
    }
   ],
   "source": [
    "h,w = list(map(int, input().split()))\n",
    "for _ in range(h):\n",
    "    sky = list(input())\n",
    "    current = ''\n",
    "    stack= [] \n",
    "    for i in range(len(sky)):\n",
    "        if (not current and sky[i] == 'c') or (current =='c' and sky[i] == 'c'):\n",
    "            current = 'c'\n",
    "            stack.append(0)\n",
    "        elif current == 'c' and sky[i] == '.':\n",
    "            stack.append(stack[-1] + 1)\n",
    "        elif not current and sky[i] == '.':\n",
    "            stack.append(-1)\n",
    "    \n",
    "    print(*stack)\n",
    "        "
   ]
  }
 ],
 "metadata": {
  "kernelspec": {
   "display_name": "base",
   "language": "python",
   "name": "python3"
  },
  "language_info": {
   "codemirror_mode": {
    "name": "ipython",
    "version": 3
   },
   "file_extension": ".py",
   "mimetype": "text/x-python",
   "name": "python",
   "nbconvert_exporter": "python",
   "pygments_lexer": "ipython3",
   "version": "3.11.4"
  },
  "orig_nbformat": 4
 },
 "nbformat": 4,
 "nbformat_minor": 2
}
