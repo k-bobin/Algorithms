{
 "cells": [
  {
   "cell_type": "code",
   "execution_count": 15,
   "metadata": {},
   "outputs": [
    {
     "name": "stdout",
     "output_type": "stream",
     "text": [
      "0 1 1 1 0 1 0 1\n",
      "1 0 0 0 1 1 0 1\n"
     ]
    }
   ],
   "source": [
    "#‘1’은 스위치가 켜져 있음을, ‘0’은 꺼져 있음\n",
    "\n",
    "n = int(input())\n",
    "switch = list(map(int, input().split()))\n",
    "\n",
    "p = int(input())\n",
    "for _ in range(p):\n",
    "    # 남학생은 1로, 여학생은 2\n",
    "    sex, num = map(int, input().split())\n",
    "\n",
    "    #남자인 경우 \n",
    "    if sex == 1:\n",
    "        for i in range(1,(n//num)+1):\n",
    "            if switch[(i*num)-1] == 0:\n",
    "                switch[(i*num)-1] = 1\n",
    "            else:\n",
    "                switch[(i*num)-1] = 0\n",
    "    \n",
    "    #여자인 경우 \n",
    "    else: \n",
    "        num -= 1 # 3\n",
    "        cnt = 0 # \n",
    "\n",
    "        #이부분 조건문 다시 복습\n",
    "        while num-cnt >= 0 or num+cnt < n:\n",
    "            if switch[num-cnt] == switch[num+cnt]:\n",
    "                cnt += 1\n",
    "            else:\n",
    "                cnt -= 1\n",
    "                break\n",
    "        \n",
    "        if num-cnt <0 or num+cnt >= n:\n",
    "            cnt -= 1\n",
    "        \n",
    "        for i in range((num-cnt),(num+cnt+1)):\n",
    "            if switch[i] == 1:\n",
    "                switch[i] = 0\n",
    "            else:\n",
    "                switch[i] = 1\n",
    "    \n",
    "for i in range(0, n, 20):\n",
    "    print(*switch[i:i+20])\n",
    "\n",
    "\n",
    "            \n",
    "\n",
    "        \n",
    "\n",
    "        \n"
   ]
  },
  {
   "cell_type": "code",
   "execution_count": 3,
   "metadata": {},
   "outputs": [
    {
     "data": {
      "text/plain": [
       "2"
      ]
     },
     "execution_count": 3,
     "metadata": {},
     "output_type": "execute_result"
    }
   ],
   "source": [
    "k = int(input())\n",
    "switches = list(map(int,input().split()))\n",
    "n = int(input())\n",
    "for i in range(n):\n",
    "    sex,num = map(int,input().split()) # 성별,숫자 입력\n",
    "    if sex == 1: # 남자인 경우\n",
    "        for j in range(num-1,k//num*num,num): # 배수 인덱스\n",
    "            if switches[j] == 0: # 스위치 변환\n",
    "                switches[j] = 1\n",
    "            else: switches[j] = 0\n",
    "    else: # 여자인 경우\n",
    "        num -= 1 # 인덱스 변환\n",
    "        tmp = 0 # 좌우로 넓힐 칸 숫자\n",
    "        # 인덱스 범위를 만족하는 동안 반복\n",
    "        while (num-tmp) >= 0 and (num+tmp) < k:\n",
    "            # 기준 인덱스 좌우가 동일하다면 범위 증가\n",
    "            if switches[num-tmp] == switches[num+tmp]:\n",
    "                tmp += 1\n",
    "            else: # 동일하지 않으면 이전 범위로 축소\n",
    "                tmp -= 1\n",
    "                break\n",
    "        # 인덱스를 벗어나서 중단된 경우 범위 조정\n",
    "        if (num-tmp) < 0 or (num+tmp) >= k:\n",
    "            tmp -= 1\n",
    "        # 기준 인덱스 중심으로 스위치 변환\n",
    "        for j in range(num-tmp,num+tmp+1):\n",
    "            if switches[j] == 0:\n",
    "                switches[j] = 1\n",
    "            else: switches[j] = 0\n",
    "\n",
    "cnt = 0\n",
    "for i in range(len(switches)-1):\n",
    "    print(switches[i],end=' ') # 띄어쓰기 옵션\n",
    "    cnt += 1\n",
    "    # 20개마다 줄 바꾸고 카운트 초기화\n",
    "    if cnt == 20: \n",
    "        cnt = 0\n",
    "        print('')\n",
    "print(switches[-1])"
   ]
  },
  {
   "cell_type": "code",
   "execution_count": null,
   "metadata": {},
   "outputs": [],
   "source": []
  }
 ],
 "metadata": {
  "kernelspec": {
   "display_name": "base",
   "language": "python",
   "name": "python3"
  },
  "language_info": {
   "codemirror_mode": {
    "name": "ipython",
    "version": 3
   },
   "file_extension": ".py",
   "mimetype": "text/x-python",
   "name": "python",
   "nbconvert_exporter": "python",
   "pygments_lexer": "ipython3",
   "version": "3.11.4"
  },
  "orig_nbformat": 4
 },
 "nbformat": 4,
 "nbformat_minor": 2
}
