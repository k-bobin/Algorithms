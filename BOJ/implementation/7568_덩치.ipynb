{
 "cells": [
  {
   "cell_type": "code",
   "execution_count": 30,
   "metadata": {},
   "outputs": [
    {
     "ename": "ValueError",
     "evalue": "too many values to unpack (expected 2)",
     "output_type": "error",
     "traceback": [
      "\u001b[0;31m---------------------------------------------------------------------------\u001b[0m",
      "\u001b[0;31mValueError\u001b[0m                                Traceback (most recent call last)",
      "Cell \u001b[0;32mIn[30], line 5\u001b[0m\n\u001b[1;32m      3\u001b[0m _list \u001b[39m=\u001b[39m []\n\u001b[1;32m      4\u001b[0m \u001b[39mfor\u001b[39;00m i \u001b[39min\u001b[39;00m \u001b[39mrange\u001b[39m(n):\n\u001b[0;32m----> 5\u001b[0m     w,h \u001b[39m=\u001b[39m \u001b[39mmap\u001b[39m(\u001b[39mint\u001b[39m,\u001b[39minput\u001b[39m()\u001b[39m.\u001b[39msplit())\n\u001b[1;32m      6\u001b[0m     _list\u001b[39m.\u001b[39m append([i\u001b[39m+\u001b[39m\u001b[39m1\u001b[39m,w,h])\n\u001b[1;32m      8\u001b[0m _list\u001b[39m.\u001b[39msort(key\u001b[39m=\u001b[39m \u001b[39mlambda\u001b[39;00m x:x[\u001b[39m1\u001b[39m], reverse \u001b[39m=\u001b[39m\u001b[39mTrue\u001b[39;00m)\n",
      "\u001b[0;31mValueError\u001b[0m: too many values to unpack (expected 2)"
     ]
    }
   ],
   "source": [
    "n = int(input())\n",
    "_dict = {i:0 for i in range(1,n+1)}\n",
    "_list = []\n",
    "for i in range(n):\n",
    "    w,h = map(int,input().split())\n",
    "    _list. append([i+1,w,h])\n",
    "\n",
    "_list.sort(key= lambda x:x[1], reverse =True)\n",
    "_list.append([0, 0,0])\n",
    "\n",
    "max_w = _list[0][1]\n",
    "max_h = _list[0][2]\n",
    "\n",
    "idx = 1 \n",
    "tie = 1 \n",
    "print(_list)\n",
    "\n",
    "for i in range(1,n+1):\n",
    "    w, h = _list[i][1], _list[i][2]\n",
    "    \n",
    "    if max_w > w and max_h > h:\n",
    "        _dict[_list[i-1][0]] = idx\n",
    "        max_w = w\n",
    "        max_h = h\n",
    "        tie = idx + 1   \n",
    "    else:\n",
    "        max_w = min(max_w, w)\n",
    "        max_h = min(max_h, h)\n",
    "        _dict[_list[i][0]] = tie\n",
    "    \n",
    "    idx += 1\n",
    "\n",
    "print(_dict)\n",
    "print([i for i in _dict.values()])\n",
    "        "
   ]
  },
  {
   "cell_type": "code",
   "execution_count": 17,
   "metadata": {},
   "outputs": [
    {
     "name": "stdout",
     "output_type": "stream",
     "text": [
      "2 2 1 2 5\n"
     ]
    }
   ],
   "source": [
    "n = int(input())\n",
    "people = []\n",
    "\n",
    "for i in range(n):\n",
    "    w, h = map(int, input().split())\n",
    "    people.append((w, h, i))\n",
    "\n",
    "rank = [1] * n\n",
    "\n",
    "for i in range(n):\n",
    "    for j in range(n):\n",
    "        if i != j:\n",
    "            if people[i][0] < people[j][0] and people[i][1] < people[j][1]:  #weight도 나보다 크고, height\n",
    "                rank[i] += 1\n",
    "\n",
    "result = [str(r) for r in rank]\n",
    "print(\" \".join(result))\n"
   ]
  },
  {
   "cell_type": "markdown",
   "metadata": {},
   "source": []
  }
 ],
 "metadata": {
  "kernelspec": {
   "display_name": "base",
   "language": "python",
   "name": "python3"
  },
  "language_info": {
   "codemirror_mode": {
    "name": "ipython",
    "version": 3
   },
   "file_extension": ".py",
   "mimetype": "text/x-python",
   "name": "python",
   "nbconvert_exporter": "python",
   "pygments_lexer": "ipython3",
   "version": "3.11.4"
  },
  "orig_nbformat": 4
 },
 "nbformat": 4,
 "nbformat_minor": 2
}
