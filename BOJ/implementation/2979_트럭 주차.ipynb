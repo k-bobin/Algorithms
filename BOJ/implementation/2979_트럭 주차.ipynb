{
 "cells": [
  {
   "cell_type": "code",
   "execution_count": 5,
   "metadata": {},
   "outputs": [
    {
     "name": "stdout",
     "output_type": "stream",
     "text": [
      "[[3, 5], [2, 8], [1, 6]]\n"
     ]
    }
   ],
   "source": [
    "a,b,c = map(int,input().split())\n",
    "time = [0]*100\n",
    "\n",
    "for _ in range(3):\n",
    "    start,end = map(int,input().split())\n",
    "    for i in range(start,end):\n",
    "        time[i]+=1\n",
    "\n",
    "price = 0\n",
    "for j in time:\n",
    "    if j==0:\n",
    "        price+=0\n",
    "    elif j==1:\n",
    "        price+=a\n",
    "    elif j==2:\n",
    "        price+=(b*2)\n",
    "    elif j==3:\n",
    "        price+=(c*3)\n",
    "\n",
    "print(price)\n",
    "\n",
    "\n"
   ]
  },
  {
   "cell_type": "code",
   "execution_count": null,
   "metadata": {},
   "outputs": [],
   "source": []
  }
 ],
 "metadata": {
  "kernelspec": {
   "display_name": "base",
   "language": "python",
   "name": "python3"
  },
  "language_info": {
   "codemirror_mode": {
    "name": "ipython",
    "version": 3
   },
   "file_extension": ".py",
   "mimetype": "text/x-python",
   "name": "python",
   "nbconvert_exporter": "python",
   "pygments_lexer": "ipython3",
   "version": "3.11.4"
  },
  "orig_nbformat": 4
 },
 "nbformat": 4,
 "nbformat_minor": 2
}
