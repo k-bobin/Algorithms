{
 "cells": [
  {
   "cell_type": "code",
   "execution_count": 73,
   "metadata": {},
   "outputs": [
    {
     "name": "stdout",
     "output_type": "stream",
     "text": [
      "1+2-3\n",
      "\n",
      "1+2-3+4-5-6+7\n",
      "1+2-3-4+5+6-7\n",
      "1-2 3+4+5+6+7\n",
      "1-2 3-4 5+6 7\n",
      "1-2+3+4-5+6-7\n",
      "1-2-3-4-5+6+7\n",
      "\n"
     ]
    }
   ],
   "source": [
    "import sys\n",
    "input = sys.stdin.readline\n",
    "\n",
    "from itertools import product\n",
    "\n",
    "t = int(input())\n",
    "for _ in range(t):\n",
    "    n = int(input())\n",
    "    nums = [(' '+str(i),str(+i), str(-i)) for i in range(2,n+1)]\n",
    "\n",
    "\n",
    "    result = [] \n",
    "    for i in product(*nums):\n",
    "        comb = [1,]\n",
    "        for j in i:\n",
    "            if j.startswith(' '):\n",
    "                temp = comb.pop()\n",
    "                comb.append(int(str(temp)+j[1]))\n",
    "            else:\n",
    "                comb.append(int(j))\n",
    "        \n",
    "        ans='1'\n",
    "        if sum(comb) == 0:\n",
    "            for j in i:\n",
    "                if len(j) == 1:\n",
    "                    ans += '+'+j\n",
    "                else:\n",
    "                    ans += j\n",
    "            print(ans)\n",
    "    print()"
   ]
  },
  {
   "cell_type": "code",
   "execution_count": 63,
   "metadata": {},
   "outputs": [
    {
     "name": "stdout",
     "output_type": "stream",
     "text": [
      "2\n"
     ]
    }
   ],
   "source": [
    "comb= ' 1'\n",
    "print(len(comb))"
   ]
  },
  {
   "cell_type": "code",
   "execution_count": 55,
   "metadata": {},
   "outputs": [
    {
     "name": "stdout",
     "output_type": "stream",
     "text": [
      "12\n"
     ]
    }
   ],
   "source": [
    "comb ='1'\n",
    "comb2 = '2'\n",
    "test = comb+comb2\n",
    "print(int(test))"
   ]
  },
  {
   "cell_type": "code",
   "execution_count": null,
   "metadata": {},
   "outputs": [],
   "source": []
  }
 ],
 "metadata": {
  "kernelspec": {
   "display_name": "base",
   "language": "python",
   "name": "python3"
  },
  "language_info": {
   "codemirror_mode": {
    "name": "ipython",
    "version": 3
   },
   "file_extension": ".py",
   "mimetype": "text/x-python",
   "name": "python",
   "nbconvert_exporter": "python",
   "pygments_lexer": "ipython3",
   "version": "3.11.4"
  },
  "orig_nbformat": 4
 },
 "nbformat": 4,
 "nbformat_minor": 2
}
