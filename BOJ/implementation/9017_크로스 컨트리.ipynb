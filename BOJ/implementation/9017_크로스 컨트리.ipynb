{
 "cells": [
  {
   "cell_type": "code",
   "execution_count": 19,
   "metadata": {},
   "outputs": [
    {
     "name": "stdout",
     "output_type": "stream",
     "text": [
      "1\n",
      "3\n"
     ]
    }
   ],
   "source": [
    "from collections import Counter\n",
    "\n",
    "t = int(input())\n",
    "for _ in range(t):\n",
    "    n = int(input())\n",
    "    people = list(map(int, input().split()))\n",
    "\n",
    "    #6팀이하인 팀 번호 골라내기 \n",
    "    qualified = []\n",
    "    for k,v in Counter(people).items():\n",
    "        if v == 6:\n",
    "            qualified.append(k)\n",
    "\n",
    "    #6인 팀의 번호, 1,2,3,4,5등 등수 이중 리스트 생성 \n",
    "    teams = {i:[] for i in qualified}\n",
    "\n",
    "    rank = 1 \n",
    "\n",
    "    #들어온 순서중 6인이하의 팀번호 골라넣기\n",
    "    for i in people:\n",
    "        if i in qualified:\n",
    "            teams[i].append(rank)\n",
    "            rank += 1 \n",
    "\n",
    "    # 정렬순서 계산하기 \n",
    "    ranking = [[k,sum(v[0:4]), v[4]] for k,v in teams.items()]\n",
    "    ranking = sorted(ranking, key=lambda x:(x[1],x[2]))\n",
    "    print(ranking[0][0])\n"
   ]
  },
  {
   "cell_type": "code",
   "execution_count": 12,
   "metadata": {},
   "outputs": [
    {
     "name": "stdout",
     "output_type": "stream",
     "text": [
      "{'t': [9, 10]}\n"
     ]
    }
   ],
   "source": []
  },
  {
   "cell_type": "code",
   "execution_count": null,
   "metadata": {},
   "outputs": [],
   "source": []
  }
 ],
 "metadata": {
  "kernelspec": {
   "display_name": "base",
   "language": "python",
   "name": "python3"
  },
  "language_info": {
   "codemirror_mode": {
    "name": "ipython",
    "version": 3
   },
   "file_extension": ".py",
   "mimetype": "text/x-python",
   "name": "python",
   "nbconvert_exporter": "python",
   "pygments_lexer": "ipython3",
   "version": "3.11.4"
  },
  "orig_nbformat": 4
 },
 "nbformat": 4,
 "nbformat_minor": 2
}
