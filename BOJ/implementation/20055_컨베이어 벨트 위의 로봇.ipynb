{
 "cells": [
  {
   "cell_type": "code",
   "execution_count": 22,
   "metadata": {},
   "outputs": [
    {
     "name": "stdout",
     "output_type": "stream",
     "text": [
      "59\n"
     ]
    }
   ],
   "source": [
    "import sys\n",
    "input = sys.stdin.readline\n",
    "\n",
    "from collections import deque\n",
    "\n",
    "n, k = map(int, input().split())\n",
    "belt = deque(list(map(int, input().split())))\n",
    "robot = deque([0]*n)\n",
    "res = 0\n",
    "\n",
    "while 1:\n",
    "    belt.rotate(1)\n",
    "    robot.rotate(1)\n",
    "    robot[-1]=0 #로봇이 내려가는 부분이니 0\n",
    "    if sum(robot): #로봇이 존재하면\n",
    "        for i in range(n-2, -1, -1): #로봇 내려가는 부분 인덱스 i-1 이므로 그 전인 i-2부터\n",
    "            if robot[i] == 1 and robot[i+1] == 0 and belt[i+1]>=1:\n",
    "                robot[i+1] = 1\n",
    "                robot[i] = 0\n",
    "                belt[i+1] -= 1\n",
    "        robot[-1]=0 #이 부분도 로봇 out -> 0임\n",
    "    if robot[0] == 0 and belt[0]>=1:\n",
    "        robot[0] = 1\n",
    "        belt[0] -= 1\n",
    "    res += 1\n",
    "    if belt.count(0) >= k:\n",
    "        break\n",
    "                \n",
    "print(res)\n",
    "\n"
   ]
  },
  {
   "cell_type": "code",
   "execution_count": null,
   "metadata": {},
   "outputs": [],
   "source": []
  }
 ],
 "metadata": {
  "kernelspec": {
   "display_name": "base",
   "language": "python",
   "name": "python3"
  },
  "language_info": {
   "codemirror_mode": {
    "name": "ipython",
    "version": 3
   },
   "file_extension": ".py",
   "mimetype": "text/x-python",
   "name": "python",
   "nbconvert_exporter": "python",
   "pygments_lexer": "ipython3",
   "version": "3.11.4"
  },
  "orig_nbformat": 4
 },
 "nbformat": 4,
 "nbformat_minor": 2
}
