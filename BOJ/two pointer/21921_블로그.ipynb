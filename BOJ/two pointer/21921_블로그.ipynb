{
 "cells": [
  {
   "cell_type": "code",
   "execution_count": 38,
   "metadata": {},
   "outputs": [
    {
     "name": "stdout",
     "output_type": "stream",
     "text": [
      "19\n"
     ]
    }
   ],
   "source": [
    "import sys\n",
    "input = sys.stdin.readline\n",
    "\n",
    "# 21921\n",
    "n, x = map(int, input().split())\n",
    "if (not (1 <= x <= n <= 250000)):\n",
    "    exit()\n",
    "li = list(map(int, input().split()))\n",
    "\n",
    "if max(li) == 0:\n",
    "    print(\"SAD\")\n",
    "else:\n",
    "    li_num = sum(li[0:x])\n",
    "    value = li_num\n",
    "    cnt = 1\n",
    "    for i in range(x, n):\n",
    "        value -= li[i-x]\n",
    "        value += li[i]\n",
    "        if value > li_num:\n",
    "            li_num = value\n",
    "            cnt = 1\n",
    "        elif value == li_num:\n",
    "            cnt += 1\n",
    "    print(li_num)\n",
    "    print(cnt)"
   ]
  },
  {
   "cell_type": "code",
   "execution_count": null,
   "metadata": {},
   "outputs": [],
   "source": []
  }
 ],
 "metadata": {
  "kernelspec": {
   "display_name": "base",
   "language": "python",
   "name": "python3"
  },
  "language_info": {
   "codemirror_mode": {
    "name": "ipython",
    "version": 3
   },
   "file_extension": ".py",
   "mimetype": "text/x-python",
   "name": "python",
   "nbconvert_exporter": "python",
   "pygments_lexer": "ipython3",
   "version": "3.11.4"
  },
  "orig_nbformat": 4
 },
 "nbformat": 4,
 "nbformat_minor": 2
}
