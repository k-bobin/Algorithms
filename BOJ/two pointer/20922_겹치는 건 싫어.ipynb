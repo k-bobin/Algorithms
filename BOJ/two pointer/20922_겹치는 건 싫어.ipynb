{
 "cells": [
  {
   "cell_type": "code",
   "execution_count": 38,
   "metadata": {},
   "outputs": [
    {
     "name": "stdout",
     "output_type": "stream",
     "text": [
      "19\n"
     ]
    }
   ],
   "source": [
    "import sys\n",
    "from collections import deque\n",
    "input = sys.stdin.readline\n",
    "N, K = map(int, input().rstrip().split())\n",
    "numbers = list(map(int, input().rstrip().split()))\n",
    "sequence = set()\n",
    "dup_count = {i:0 for i in range(1, 100001)}\n",
    "answer = 0\n",
    "\n",
    "queue = deque()\n",
    "for number in numbers:\n",
    "    queue.append(number)\n",
    "    dup_count[number] += 1\n",
    "    # number에서 중복 문제 걸림\n",
    "    if dup_count[number] > K:\n",
    "        # number가 나올때까지 queue에서 싹 빼주어야 함.\n",
    "        while queue:\n",
    "            temp = queue.popleft()\n",
    "            dup_count[temp] -= 1\n",
    "            if temp == number:\n",
    "                break\n",
    "    answer = max(answer, len(queue))\n",
    "\n",
    "print(answer)"
   ]
  },
  {
   "cell_type": "code",
   "execution_count": null,
   "metadata": {},
   "outputs": [],
   "source": []
  }
 ],
 "metadata": {
  "kernelspec": {
   "display_name": "base",
   "language": "python",
   "name": "python3"
  },
  "language_info": {
   "codemirror_mode": {
    "name": "ipython",
    "version": 3
   },
   "file_extension": ".py",
   "mimetype": "text/x-python",
   "name": "python",
   "nbconvert_exporter": "python",
   "pygments_lexer": "ipython3",
   "version": "3.11.4"
  },
  "orig_nbformat": 4
 },
 "nbformat": 4,
 "nbformat_minor": 2
}
