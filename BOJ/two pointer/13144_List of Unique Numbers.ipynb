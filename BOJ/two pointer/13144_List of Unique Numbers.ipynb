{
 "cells": [
  {
   "cell_type": "code",
   "execution_count": 38,
   "metadata": {},
   "outputs": [
    {
     "name": "stdout",
     "output_type": "stream",
     "text": [
      "19\n"
     ]
    }
   ],
   "source": [
    "import sys\n",
    "from collections import defaultdict\n",
    "\n",
    "num_dict = defaultdict(list)\n",
    "input = sys.stdin.readline\n",
    "n = int(input().rstrip())\n",
    "\n",
    "num_list = list(map(int, input().split()))\n",
    "\n",
    "result = 0\n",
    "start, end = 0, 0\n",
    "seq = [False for _ in range(1000001)]\n",
    "while start < n and end < n:\n",
    "    if not seq[num_list[end]]:      # start부터 end까지 중복 숫자 없으면\n",
    "        seq[num_list[end]] = True\n",
    "        end += 1\n",
    "        result += (end - start)     # end를 포함하여 만들 수 있는 수열의 개수\n",
    "    else:\n",
    "        seq[num_list[start]] = False\n",
    "        start += 1\n",
    "\n",
    "print(result)\n"
   ]
  },
  {
   "cell_type": "code",
   "execution_count": null,
   "metadata": {},
   "outputs": [],
   "source": []
  }
 ],
 "metadata": {
  "kernelspec": {
   "display_name": "base",
   "language": "python",
   "name": "python3"
  },
  "language_info": {
   "codemirror_mode": {
    "name": "ipython",
    "version": 3
   },
   "file_extension": ".py",
   "mimetype": "text/x-python",
   "name": "python",
   "nbconvert_exporter": "python",
   "pygments_lexer": "ipython3",
   "version": "3.11.4"
  },
  "orig_nbformat": 4
 },
 "nbformat": 4,
 "nbformat_minor": 2
}
