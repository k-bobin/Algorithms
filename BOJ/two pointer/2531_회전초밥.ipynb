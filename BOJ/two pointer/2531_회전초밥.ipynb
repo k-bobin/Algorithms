{
 "cells": [
  {
   "cell_type": "code",
   "execution_count": 38,
   "metadata": {},
   "outputs": [
    {
     "name": "stdout",
     "output_type": "stream",
     "text": [
      "19\n"
     ]
    }
   ],
   "source": [
    "import sys\n",
    "\n",
    "n, d, k, c = map(int, sys.stdin.readline().rsplit())\n",
    "arr = [int(sys.stdin.readline().rstrip()) for _ in range(n)]\n",
    "lp, rp = 0, 0\n",
    "answer = 0\n",
    "\n",
    "while lp != n:\n",
    "    rp = lp + k\n",
    "    case = set()\n",
    "    addable = True\n",
    "    for i in range(lp, rp):\n",
    "        i %= n\n",
    "        case.add(arr[i])\n",
    "        if arr[i] == c: addable = False\n",
    "\n",
    "    cnt = len(case)\n",
    "    if addable: cnt += 1\n",
    "    answer = max(answer, cnt)\n",
    "    lp += 1\n",
    "\n",
    "print(answer)"
   ]
  },
  {
   "cell_type": "code",
   "execution_count": null,
   "metadata": {},
   "outputs": [],
   "source": []
  }
 ],
 "metadata": {
  "kernelspec": {
   "display_name": "base",
   "language": "python",
   "name": "python3"
  },
  "language_info": {
   "codemirror_mode": {
    "name": "ipython",
    "version": 3
   },
   "file_extension": ".py",
   "mimetype": "text/x-python",
   "name": "python",
   "nbconvert_exporter": "python",
   "pygments_lexer": "ipython3",
   "version": "3.11.4"
  },
  "orig_nbformat": 4
 },
 "nbformat": 4,
 "nbformat_minor": 2
}
