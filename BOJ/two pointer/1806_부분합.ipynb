{
 "cells": [
  {
   "cell_type": "code",
   "execution_count": 38,
   "metadata": {},
   "outputs": [
    {
     "name": "stdout",
     "output_type": "stream",
     "text": [
      "19\n"
     ]
    }
   ],
   "source": [
    "import sys\n",
    "\n",
    "N, S = map(int, input().split())\n",
    "numbers = list(map(int, input().split()))\n",
    "\n",
    "left, right = 0, 0 # 두 개의 포인터는 0에서 부터 시작\n",
    "sum = 0 # 합을 저장할 변수\n",
    "min_length = sys.maxsize # 먼저 최대 길이로 지정\n",
    "\n",
    "while True:\n",
    "    # 만약 총 합이 S가 넘는다면, left를 하나씩 옮겨보면서 어디까지 길이가 줄어드나 확인\n",
    "    if sum >= S:\n",
    "        min_length = min(min_length, right - left)\n",
    "        sum -= numbers[left]\n",
    "        left += 1\n",
    "    elif right == N:\n",
    "        break\n",
    "    # 만약 총합이 S를 넘지 않는다면, right 을 오른쪽으로 한칸씩 옮기며 총합이 S를 넘을때까지 더함\n",
    "    else:\n",
    "        sum += numbers[right]\n",
    "        right += 1\n",
    "\n",
    "if min_length == sys.maxsize:\n",
    "    print(0)\n",
    "else:\n",
    "    print(min_length)"
   ]
  },
  {
   "cell_type": "code",
   "execution_count": null,
   "metadata": {},
   "outputs": [],
   "source": []
  }
 ],
 "metadata": {
  "kernelspec": {
   "display_name": "base",
   "language": "python",
   "name": "python3"
  },
  "language_info": {
   "codemirror_mode": {
    "name": "ipython",
    "version": 3
   },
   "file_extension": ".py",
   "mimetype": "text/x-python",
   "name": "python",
   "nbconvert_exporter": "python",
   "pygments_lexer": "ipython3",
   "version": "3.11.4"
  },
  "orig_nbformat": 4
 },
 "nbformat": 4,
 "nbformat_minor": 2
}
