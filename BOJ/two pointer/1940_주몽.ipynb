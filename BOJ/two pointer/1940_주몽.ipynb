{
 "cells": [
  {
   "cell_type": "code",
   "execution_count": 38,
   "metadata": {},
   "outputs": [
    {
     "name": "stdout",
     "output_type": "stream",
     "text": [
      "19\n"
     ]
    }
   ],
   "source": [
    "import sys\n",
    "input = sys.stdin.readline\n",
    "n = int(input())\n",
    "m = int(input())\n",
    "li = sorted(list(map(int, input().split())))\n",
    "left= 0\n",
    "right = len(li) - 1\n",
    "count = 0\n",
    "while left < right:\n",
    "    sum_num = li[left] + li[right]\n",
    "    if sum_num < m:\n",
    "        left += 1\n",
    "    elif sum_num > m:\n",
    "        right -= 1\n",
    "    else:\n",
    "        count += 1\n",
    "        left += 1\n",
    "        right -= 1\n",
    " \n",
    "print(count)"
   ]
  },
  {
   "cell_type": "code",
   "execution_count": null,
   "metadata": {},
   "outputs": [],
   "source": []
  }
 ],
 "metadata": {
  "kernelspec": {
   "display_name": "base",
   "language": "python",
   "name": "python3"
  },
  "language_info": {
   "codemirror_mode": {
    "name": "ipython",
    "version": 3
   },
   "file_extension": ".py",
   "mimetype": "text/x-python",
   "name": "python",
   "nbconvert_exporter": "python",
   "pygments_lexer": "ipython3",
   "version": "3.11.4"
  },
  "orig_nbformat": 4
 },
 "nbformat": 4,
 "nbformat_minor": 2
}
