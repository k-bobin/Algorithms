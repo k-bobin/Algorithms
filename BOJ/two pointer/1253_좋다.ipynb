{
 "cells": [
  {
   "cell_type": "code",
   "execution_count": 38,
   "metadata": {},
   "outputs": [
    {
     "name": "stdout",
     "output_type": "stream",
     "text": [
      "19\n"
     ]
    }
   ],
   "source": [
    "import sys\n",
    "\n",
    "if __name__ == '__main__':\n",
    "    N = int(input())\n",
    "    arr = list(map(int, sys.stdin.readline().split()))\n",
    "    arr.sort()\n",
    "    ans = 0\n",
    "\n",
    "    for i in range(N):\n",
    "        tmp = arr[:i] + arr[i + 1:]\n",
    "        left, right = 0, len(tmp) - 1\n",
    "        while left < right:\n",
    "            t = tmp[left] + tmp[right]\n",
    "            if t == arr[i]:\n",
    "                ans += 1\n",
    "                break\n",
    "            if t < arr[i]: left += 1 # t 를 증가시켜야 하므로 left 증가\n",
    "            else: right -= 1 # t 를 감소시켜야 하므로 right 감소\n",
    "    print(ans)"
   ]
  },
  {
   "cell_type": "code",
   "execution_count": null,
   "metadata": {},
   "outputs": [],
   "source": []
  }
 ],
 "metadata": {
  "kernelspec": {
   "display_name": "base",
   "language": "python",
   "name": "python3"
  },
  "language_info": {
   "codemirror_mode": {
    "name": "ipython",
    "version": 3
   },
   "file_extension": ".py",
   "mimetype": "text/x-python",
   "name": "python",
   "nbconvert_exporter": "python",
   "pygments_lexer": "ipython3",
   "version": "3.11.4"
  },
  "orig_nbformat": 4
 },
 "nbformat": 4,
 "nbformat_minor": 2
}
