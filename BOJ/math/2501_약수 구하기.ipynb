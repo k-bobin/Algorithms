{
 "cells": [
  {
   "cell_type": "code",
   "execution_count": 10,
   "metadata": {},
   "outputs": [
    {
     "name": "stdout",
     "output_type": "stream",
     "text": [
      "1\n"
     ]
    }
   ],
   "source": [
    "import math\n",
    "\n",
    "def divisor(n):\n",
    "    nums = []\n",
    "    for i in range(1,int(math.sqrt(n)+1)):\n",
    "        if n % i == 0:\n",
    "            nums.append(i)\n",
    "            if i != n//i:\n",
    "                nums.append(n//i)\n",
    "    return nums\n",
    "\n",
    "n,k =map(int, input().split())\n",
    "\n",
    "_list = divisor(n)\n",
    "\n",
    "if len(_list)< k: \n",
    "    print(0)\n",
    "else:\n",
    "    _list.sort()\n",
    "    print(_list[k-1])"
   ]
  }
 ],
 "metadata": {
  "kernelspec": {
   "display_name": "base",
   "language": "python",
   "name": "python3"
  },
  "language_info": {
   "codemirror_mode": {
    "name": "ipython",
    "version": 3
   },
   "file_extension": ".py",
   "mimetype": "text/x-python",
   "name": "python",
   "nbconvert_exporter": "python",
   "pygments_lexer": "ipython3",
   "version": "3.11.4"
  },
  "orig_nbformat": 4
 },
 "nbformat": 4,
 "nbformat_minor": 2
}
