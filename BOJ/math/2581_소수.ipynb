{
 "cells": [
  {
   "cell_type": "code",
   "execution_count": 38,
   "metadata": {},
   "outputs": [
    {
     "name": "stdout",
     "output_type": "stream",
     "text": [
      "19\n"
     ]
    }
   ],
   "source": [
    "M = int(input())\n",
    "N = int(input())\n",
    "\n",
    "# process\n",
    "decimal = []\n",
    "for i in range(M, N+1):\n",
    "\tfor j in range(2, i+1):\n",
    "\t\tif j == i:\n",
    "\t\t\tdecimal.append(i)\n",
    "\t\tif i % j == 0:\n",
    "\t\t\tbreak\n",
    "\n",
    "# output\n",
    "if not decimal:\n",
    "\tprint(-1)\n",
    "else:\n",
    "\tprint(sum(decimal))\n",
    "\tprint(decimal[0])"
   ]
  },
  {
   "cell_type": "code",
   "execution_count": null,
   "metadata": {},
   "outputs": [],
   "source": []
  }
 ],
 "metadata": {
  "kernelspec": {
   "display_name": "base",
   "language": "python",
   "name": "python3"
  },
  "language_info": {
   "codemirror_mode": {
    "name": "ipython",
    "version": 3
   },
   "file_extension": ".py",
   "mimetype": "text/x-python",
   "name": "python",
   "nbconvert_exporter": "python",
   "pygments_lexer": "ipython3",
   "version": "3.11.4"
  },
  "orig_nbformat": 4
 },
 "nbformat": 4,
 "nbformat_minor": 2
}
