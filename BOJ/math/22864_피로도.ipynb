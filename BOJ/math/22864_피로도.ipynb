{
 "cells": [
  {
   "cell_type": "code",
   "execution_count": 38,
   "metadata": {},
   "outputs": [
    {
     "name": "stdout",
     "output_type": "stream",
     "text": [
      "19\n"
     ]
    }
   ],
   "source": [
    "a, b, c, m = map(int, input().split())\n",
    "\n",
    "day = 0\n",
    "\n",
    "result = 0\n",
    "count = 0\n",
    "\n",
    "if a > m :\n",
    "  print(0)\n",
    "else :\n",
    "  while day != 24 :\n",
    "    day += 1\n",
    "    if count + a <= m :\n",
    "      result += b\n",
    "      count += a\n",
    "    else :\n",
    "      if count - c >= 0 :\n",
    "        count -= c\n",
    "      else :\n",
    "        count = 0\n",
    "\n",
    "  print(result)\n"
   ]
  },
  {
   "cell_type": "code",
   "execution_count": null,
   "metadata": {},
   "outputs": [],
   "source": []
  }
 ],
 "metadata": {
  "kernelspec": {
   "display_name": "base",
   "language": "python",
   "name": "python3"
  },
  "language_info": {
   "codemirror_mode": {
    "name": "ipython",
    "version": 3
   },
   "file_extension": ".py",
   "mimetype": "text/x-python",
   "name": "python",
   "nbconvert_exporter": "python",
   "pygments_lexer": "ipython3",
   "version": "3.11.4"
  },
  "orig_nbformat": 4
 },
 "nbformat": 4,
 "nbformat_minor": 2
}
