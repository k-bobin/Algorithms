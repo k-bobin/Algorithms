{
 "cells": [
  {
   "cell_type": "code",
   "execution_count": 6,
   "metadata": {},
   "outputs": [
    {
     "name": "stdout",
     "output_type": "stream",
     "text": [
      "6\n",
      "72\n"
     ]
    }
   ],
   "source": [
    "def gcd(a,b):\n",
    "    while b > 0:\n",
    "        a,b = b, a%b\n",
    "    return a\n",
    "\n",
    "def lcm(a,b):\n",
    "    return a*b // gcd(a,b)\n",
    "\n",
    "n,m = map(int, input().split())\n",
    "\n",
    "print(gcd(n,m))\n",
    "print(lcm(n,m))"
   ]
  }
 ],
 "metadata": {
  "kernelspec": {
   "display_name": "base",
   "language": "python",
   "name": "python3"
  },
  "language_info": {
   "codemirror_mode": {
    "name": "ipython",
    "version": 3
   },
   "file_extension": ".py",
   "mimetype": "text/x-python",
   "name": "python",
   "nbconvert_exporter": "python",
   "pygments_lexer": "ipython3",
   "version": "3.11.4"
  },
  "orig_nbformat": 4
 },
 "nbformat": 4,
 "nbformat_minor": 2
}
