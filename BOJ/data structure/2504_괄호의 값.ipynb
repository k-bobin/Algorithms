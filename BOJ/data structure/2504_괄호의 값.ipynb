{
 "cells": [
  {
   "cell_type": "code",
   "execution_count": 3,
   "metadata": {},
   "outputs": [
    {
     "name": "stdout",
     "output_type": "stream",
     "text": [
      "NO\n",
      "NO\n",
      "YES\n",
      "NO\n",
      "YES\n",
      "NO\n"
     ]
    }
   ],
   "source": [
    "import sys\n",
    "input = sys.stdin.readline\n",
    "\n",
    "s = input().rstrip() #'\\n' 제거하기 위함.\n",
    "stack = []\n",
    "tmp = 1\n",
    "result = 0\n",
    "\n",
    "for i in range(len(s)):\n",
    "    if s[i] == '(':\n",
    "        stack.append(s[i])\n",
    "        tmp*=2\n",
    "    elif s[i] == '[':\n",
    "        stack.append(s[i])\n",
    "        tmp*=3\n",
    "    elif s[i] == \")\":\n",
    "        if not stack or stack[-1] == \"[\":\n",
    "            result = 0\n",
    "            break\n",
    "        if s[i-1] == \"(\":\n",
    "            result += tmp\n",
    "        stack.pop()\n",
    "        tmp //= 2\n",
    "    else:\n",
    "        if not stack or stack[-1] == \"(\":\n",
    "            result = 0\n",
    "            break\n",
    "        if s[i-1] == \"[\":\n",
    "            result += tmp\n",
    "        stack.pop()\n",
    "        tmp //= 3  \n",
    "\n",
    "if stack: print(0)\n",
    "else: print(result)"
   ]
  },
  {
   "cell_type": "code",
   "execution_count": null,
   "metadata": {},
   "outputs": [],
   "source": [
    "(11)"
   ]
  },
  {
   "cell_type": "code",
   "execution_count": 3,
   "metadata": {},
   "outputs": [],
   "source": [
    "temp = [1, 0, 3]\n",
    "\n",
    "for i in reversed(range(len(temp),2)):\n",
    "    print(i)"
   ]
  },
  {
   "cell_type": "code",
   "execution_count": 2,
   "metadata": {},
   "outputs": [],
   "source": [
    "for i in reversed(range(len(temp))):\n",
    "    print(i)"
   ]
  },
  {
   "cell_type": "code",
   "execution_count": null,
   "metadata": {},
   "outputs": [],
   "source": []
  }
 ],
 "metadata": {
  "kernelspec": {
   "display_name": "base",
   "language": "python",
   "name": "python3"
  },
  "language_info": {
   "codemirror_mode": {
    "name": "ipython",
    "version": 3
   },
   "file_extension": ".py",
   "mimetype": "text/x-python",
   "name": "python",
   "nbconvert_exporter": "python",
   "pygments_lexer": "ipython3",
   "version": "3.11.4"
  },
  "orig_nbformat": 4
 },
 "nbformat": 4,
 "nbformat_minor": 2
}
