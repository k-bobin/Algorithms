{
 "cells": [
  {
   "cell_type": "code",
   "execution_count": 17,
   "metadata": {},
   "outputs": [
    {
     "name": "stdout",
     "output_type": "stream",
     "text": [
      "2\n"
     ]
    }
   ],
   "source": [
    "#1417 국회의원 선거 \n",
    "import heapq\n",
    "\n",
    "N = int(input())\n",
    "D = int(input())\n",
    "q = []\n",
    "for _ in range(N-1):\n",
    "    n = int(input())\n",
    "    heapq.heappush(q, -n)\n",
    "res = 0\n",
    "while q:\n",
    "    n = -heapq.heappop(q)\n",
    "    if D > n:\n",
    "        break\n",
    "    D += 1\n",
    "    res += 1\n",
    "    heapq.heappush(q, -(n-1))\n",
    "print(res)\n"
   ]
  },
  {
   "cell_type": "code",
   "execution_count": null,
   "metadata": {},
   "outputs": [],
   "source": []
  }
 ],
 "metadata": {
  "kernelspec": {
   "display_name": "base",
   "language": "python",
   "name": "python3"
  },
  "language_info": {
   "codemirror_mode": {
    "name": "ipython",
    "version": 3
   },
   "file_extension": ".py",
   "mimetype": "text/x-python",
   "name": "python",
   "nbconvert_exporter": "python",
   "pygments_lexer": "ipython3",
   "version": "3.11.4"
  },
  "orig_nbformat": 4
 },
 "nbformat": 4,
 "nbformat_minor": 2
}
