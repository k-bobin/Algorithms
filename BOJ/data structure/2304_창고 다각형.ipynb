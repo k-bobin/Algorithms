{
 "cells": [
  {
   "cell_type": "code",
   "execution_count": 2,
   "metadata": {},
   "outputs": [
    {
     "name": "stdout",
     "output_type": "stream",
     "text": [
      "[[2, 4], [4, 6], [5, 3], [8, 10], [11, 4], [13, 6], [15, 8]]\n"
     ]
    }
   ],
   "source": [
    "n = int(input())\n",
    "\n",
    "#세로, 가로\n",
    "_list = [] \n",
    "for _ in range(n):\n",
    "    _list.append(list(map(int, input().split())))\n",
    "\n",
    "\n",
    "#y값이 가장 높은 값을 기준으로 오른쪽, 왼쪽으로 나누기 \n",
    "\n",
    "_list.sort(key = lambda x:(x[0],[1]))\n",
    "\n",
    "\n",
    "\n"
   ]
  },
  {
   "cell_type": "code",
   "execution_count": null,
   "metadata": {},
   "outputs": [],
   "source": []
  }
 ],
 "metadata": {
  "kernelspec": {
   "display_name": "base",
   "language": "python",
   "name": "python3"
  },
  "language_info": {
   "codemirror_mode": {
    "name": "ipython",
    "version": 3
   },
   "file_extension": ".py",
   "mimetype": "text/x-python",
   "name": "python",
   "nbconvert_exporter": "python",
   "pygments_lexer": "ipython3",
   "version": "3.11.4"
  },
  "orig_nbformat": 4
 },
 "nbformat": 4,
 "nbformat_minor": 2
}
