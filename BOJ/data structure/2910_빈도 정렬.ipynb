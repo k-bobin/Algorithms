{
 "cells": [
  {
   "cell_type": "code",
   "execution_count": 34,
   "metadata": {},
   "outputs": [
    {
     "name": "stdout",
     "output_type": "stream",
     "text": [
      "11 11 11 33 33 25 25 77 54\n"
     ]
    }
   ],
   "source": [
    "from collections import Counter \n",
    "\n",
    "n,c = map(int, input().split())\n",
    "msg = list(map(int, input().split()))\n",
    "\n",
    "#숫자: 인덱스 넘버, 갯수(나중에 넣을 예정)\n",
    "_dict = {i : [msg.index(i), 0] for i in set(msg)}\n",
    "\n",
    "\n",
    "#갯수 세기 \n",
    "for k, v  in Counter(msg).items():\n",
    "    _dict[k][1] = v\n",
    "\n",
    "#정렬하기 \n",
    "#중요! 딕셔너리 밸류값으로 정렬하기 \n",
    "# x[1]은 해당 딕셔너리 항목의 값\n",
    "sorted_dict = sorted(_dict.items(), key=lambda x: (-x[1][1], x[1][0])) \n",
    "\n",
    "ans = []\n",
    "for k, v in sorted_dict:\n",
    "    _, times = v\n",
    "    for _ in range(times):\n",
    "        ans.append(k)\n",
    "\n",
    "print(*ans)\n",
    "\n"
   ]
  },
  {
   "cell_type": "code",
   "execution_count": 3,
   "metadata": {},
   "outputs": [
    {
     "name": "stdout",
     "output_type": "stream",
     "text": [
      "1\n"
     ]
    }
   ],
   "source": []
  },
  {
   "cell_type": "code",
   "execution_count": null,
   "metadata": {},
   "outputs": [],
   "source": []
  }
 ],
 "metadata": {
  "kernelspec": {
   "display_name": "base",
   "language": "python",
   "name": "python3"
  },
  "language_info": {
   "codemirror_mode": {
    "name": "ipython",
    "version": 3
   },
   "file_extension": ".py",
   "mimetype": "text/x-python",
   "name": "python",
   "nbconvert_exporter": "python",
   "pygments_lexer": "ipython3",
   "version": "3.11.4"
  },
  "orig_nbformat": 4
 },
 "nbformat": 4,
 "nbformat_minor": 2
}
