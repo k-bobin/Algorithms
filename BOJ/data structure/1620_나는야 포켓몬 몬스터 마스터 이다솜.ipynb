{
 "cells": [
  {
   "cell_type": "code",
   "execution_count": null,
   "metadata": {},
   "outputs": [],
   "source": [
    "from sys import stdin\n",
    "\n",
    "def input():\n",
    "    return stdin.readline().rstrip()\n",
    "\n",
    "\n",
    "n, m = map(int, input().split())\n",
    "by_id = {}\n",
    "by_name = {}\n",
    "for i in range(1, n + 1):\n",
    "    pokemon = input()\n",
    "    by_id[i] = pokemon\n",
    "    by_name[pokemon] = i\n",
    "\n",
    "for _ in range(m):\n",
    "    x = input()\n",
    "    if x.isdigit():\n",
    "        print(by_id[int(x)])\n",
    "    else:\n",
    "        print(by_name[x])"
   ]
  },
  {
   "cell_type": "code",
   "execution_count": null,
   "metadata": {},
   "outputs": [],
   "source": []
  }
 ],
 "metadata": {
  "kernelspec": {
   "display_name": "base",
   "language": "python",
   "name": "python3"
  },
  "language_info": {
   "codemirror_mode": {
    "name": "ipython",
    "version": 3
   },
   "file_extension": ".py",
   "mimetype": "text/x-python",
   "name": "python",
   "nbconvert_exporter": "python",
   "pygments_lexer": "ipython3",
   "version": "3.11.4"
  },
  "orig_nbformat": 4
 },
 "nbformat": 4,
 "nbformat_minor": 2
}
