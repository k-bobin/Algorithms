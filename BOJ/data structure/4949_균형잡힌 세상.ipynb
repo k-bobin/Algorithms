{
 "cells": [
  {
   "cell_type": "code",
   "execution_count": 36,
   "metadata": {},
   "outputs": [
    {
     "name": "stdout",
     "output_type": "stream",
     "text": [
      "yes\n",
      "yes\n",
      "no\n",
      "no\n",
      "no\n",
      "yes\n",
      "yes\n"
     ]
    }
   ],
   "source": [
    "p = ['(', ')', '[', ']', '.']\n",
    "\n",
    "\n",
    "while True:\n",
    "    temp = input()\n",
    "    if temp == '.':\n",
    "        break\n",
    "    \n",
    "    _list = []\n",
    "    for i in list(temp):\n",
    "        if i in p:\n",
    "            _list.append(i)\n",
    "\n",
    "\n",
    "    stack = []     \n",
    "    for i in _list:\n",
    "        if not len(stack):\n",
    "            stack.append(i)\n",
    "        elif len(stack) and stack[-1] == '(' and i == ')':\n",
    "            stack.pop()\n",
    "        elif len(stack) and stack[-1] == '[' and i == ']':\n",
    "            stack.pop()\n",
    "        else:\n",
    "            stack.append(i)\n",
    "\n",
    "    if stack == ['.']:\n",
    "        print('yes')\n",
    "    else:\n",
    "        print('no')\n",
    "    "
   ]
  },
  {
   "cell_type": "code",
   "execution_count": null,
   "metadata": {},
   "outputs": [],
   "source": []
  }
 ],
 "metadata": {
  "kernelspec": {
   "display_name": "base",
   "language": "python",
   "name": "python3"
  },
  "language_info": {
   "codemirror_mode": {
    "name": "ipython",
    "version": 3
   },
   "file_extension": ".py",
   "mimetype": "text/x-python",
   "name": "python",
   "nbconvert_exporter": "python",
   "pygments_lexer": "ipython3",
   "version": "3.11.4"
  },
  "orig_nbformat": 4
 },
 "nbformat": 4,
 "nbformat_minor": 2
}
