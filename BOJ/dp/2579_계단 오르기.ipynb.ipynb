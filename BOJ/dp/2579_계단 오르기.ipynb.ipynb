{
 "cells": [
  {
   "cell_type": "code",
   "execution_count": 2,
   "metadata": {},
   "outputs": [
    {
     "name": "stdout",
     "output_type": "stream",
     "text": [
      "[10, 20, 15, 25, 10, 20]\n"
     ]
    }
   ],
   "source": [
    "# 2579 계단 오르기\n",
    "#[10, 20, 15, 25, 10, 20]\n",
    "#1 10,20\n",
    "#2 10+20, 10+15, 20+15, 20+25\n",
    "\n",
    "T= int(input())\n",
    "stairs = []\n",
    "for i in range(T):\n",
    "    s = int(input())\n",
    "    stairs.append(s)\n",
    "print(stairs)\n"
   ]
  },
  {
   "cell_type": "code",
   "execution_count": null,
   "metadata": {},
   "outputs": [],
   "source": []
  }
 ],
 "metadata": {
  "kernelspec": {
   "display_name": "base",
   "language": "python",
   "name": "python3"
  },
  "language_info": {
   "codemirror_mode": {
    "name": "ipython",
    "version": 3
   },
   "file_extension": ".py",
   "mimetype": "text/x-python",
   "name": "python",
   "nbconvert_exporter": "python",
   "pygments_lexer": "ipython3",
   "version": "3.11.4"
  },
  "orig_nbformat": 4
 },
 "nbformat": 4,
 "nbformat_minor": 2
}
