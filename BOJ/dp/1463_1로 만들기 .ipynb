{
 "cells": [
  {
   "cell_type": "code",
   "execution_count": 2,
   "metadata": {},
   "outputs": [
    {
     "name": "stdout",
     "output_type": "stream",
     "text": [
      "3\n"
     ]
    }
   ],
   "source": [
    "# 1463 1로 만들기 \n",
    "\n",
    "# 1 -> 0\n",
    "# 2 -> 1 (-1)\n",
    "# 3 -> 1 (/3)\n",
    "# 4 -> 2 (/2, /2)\n",
    "# 5 -> 3 1 +f(4)\n",
    "# 6->  2  \n",
    "n = int(input())\n",
    "dp = [0] * (n+1)\n",
    "\n",
    "\n",
    "for i in range(2,n+1):\n",
    "    dp[i] = dp[i-1] + 1\n",
    "\n",
    "    if i% 3 ==0:\n",
    "        dp[i] = min(dp[i], dp[i // 3] + 1)\n",
    "    if i % 2 == 0:\n",
    "        dp[i] = min(dp[i], dp[i // 2] + 1)\n",
    "\n",
    "print(dp[n])\n",
    "\n",
    "\n",
    "\n",
    "\n"
   ]
  },
  {
   "cell_type": "code",
   "execution_count": null,
   "metadata": {},
   "outputs": [],
   "source": []
  },
  {
   "cell_type": "markdown",
   "metadata": {},
   "source": []
  }
 ],
 "metadata": {
  "kernelspec": {
   "display_name": "base",
   "language": "python",
   "name": "python3"
  },
  "language_info": {
   "codemirror_mode": {
    "name": "ipython",
    "version": 3
   },
   "file_extension": ".py",
   "mimetype": "text/x-python",
   "name": "python",
   "nbconvert_exporter": "python",
   "pygments_lexer": "ipython3",
   "version": "3.11.4"
  },
  "orig_nbformat": 4
 },
 "nbformat": 4,
 "nbformat_minor": 2
}
