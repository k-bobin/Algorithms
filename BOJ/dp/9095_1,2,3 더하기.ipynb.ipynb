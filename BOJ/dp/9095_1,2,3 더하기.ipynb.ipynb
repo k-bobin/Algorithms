{
 "cells": [
  {
   "cell_type": "code",
   "execution_count": 11,
   "metadata": {},
   "outputs": [
    {
     "name": "stdout",
     "output_type": "stream",
     "text": [
      "7\n",
      "44\n",
      "274\n"
     ]
    }
   ],
   "source": [
    "# 9095 1,2,3 더하기 \n",
    "# 1->  [1]   -> 1\n",
    "# 2 -> [1, 1][2] -> 2\n",
    "# 3 -> [1 1 1][1 2][2 1][3] ->4\n",
    "# 4 -> [1 1 1 1][2 2][1 1 2][1 2 1][1 1 2][1 3][3 1][4]   ->7\n",
    "# 5 -> [1 1 1 1 1][1 1 1 2][1 1 2 1][1 2 1 1][2 1 1 1][2 2 1][2 1 2][1 2 2]\n",
    "\n",
    "\n",
    "\n",
    "T = int(input())\n",
    "\n",
    "for i in range(T) :\n",
    "    n = int(input())\n",
    "    dp = [0]*(n+1)\n",
    "    if n == 1 :\n",
    "        print(1)\n",
    "    elif n == 2 :\n",
    "        print(2)\n",
    "    elif n == 3 :\n",
    "        print(4)\n",
    "    else :\n",
    "        dp[1] = 1\n",
    "        dp[2] = 2\n",
    "        dp[3] = 4\n",
    "        for j in range(4,n+1) :\n",
    "            dp[j] = dp[j-1] + dp[j-2] + dp[j-3]\n",
    "        print(dp[n])"
   ]
  },
  {
   "cell_type": "code",
   "execution_count": null,
   "metadata": {},
   "outputs": [],
   "source": []
  },
  {
   "cell_type": "markdown",
   "metadata": {},
   "source": []
  }
 ],
 "metadata": {
  "kernelspec": {
   "display_name": "base",
   "language": "python",
   "name": "python3"
  },
  "language_info": {
   "codemirror_mode": {
    "name": "ipython",
    "version": 3
   },
   "file_extension": ".py",
   "mimetype": "text/x-python",
   "name": "python",
   "nbconvert_exporter": "python",
   "pygments_lexer": "ipython3",
   "version": "3.11.4"
  },
  "orig_nbformat": 4
 },
 "nbformat": 4,
 "nbformat_minor": 2
}
