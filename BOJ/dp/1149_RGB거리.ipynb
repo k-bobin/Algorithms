{
 "cells": [
  {
   "cell_type": "code",
   "execution_count": 13,
   "metadata": {},
   "outputs": [
    {
     "name": "stdout",
     "output_type": "stream",
     "text": [
      "[[0, 0], ['3', '10'], ['5', '20'], ['1', '10']]\n"
     ]
    }
   ],
   "source": [
    "n = int(input())\n",
    "a = [0]*n\n",
    "\n",
    "for i in range(n):\n",
    "    a[i] = list(map(int,input().split()))\n",
    "    \n",
    "for i in range(1,n): # 1부터 시작하는 이유는 다음 입력값이 이전 입력값의 최소값을 사용하기때문이다\n",
    "    a[i][0]= min(a[i-1][1],a[i-1][2]) + a[i][0]\n",
    "    a[i][1]= min(a[i-1][0],a[i-1][2]) + a[i][1]\n",
    "    a[i][2]= min(a[i-1][0],a[i-1][1]) + a[i][2]\n",
    "\n",
    "print(min(a[n-1][0],a[n-1][1],a[n-1][2]))\n"
   ]
  },
  {
   "cell_type": "code",
   "execution_count": null,
   "metadata": {},
   "outputs": [],
   "source": []
  }
 ],
 "metadata": {
  "kernelspec": {
   "display_name": "base",
   "language": "python",
   "name": "python3"
  },
  "language_info": {
   "codemirror_mode": {
    "name": "ipython",
    "version": 3
   },
   "file_extension": ".py",
   "mimetype": "text/x-python",
   "name": "python",
   "nbconvert_exporter": "python",
   "pygments_lexer": "ipython3",
   "version": "3.11.4"
  },
  "orig_nbformat": 4
 },
 "nbformat": 4,
 "nbformat_minor": 2
}
