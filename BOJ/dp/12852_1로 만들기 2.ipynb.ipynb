{
 "cells": [
  {
   "cell_type": "code",
   "execution_count": 2,
   "metadata": {},
   "outputs": [
    {
     "name": "stdout",
     "output_type": "stream",
     "text": [
      "3\n"
     ]
    }
   ],
   "source": [
    "# 12852 1로 만들기 2\n",
    "import sys\n",
    "\n",
    "n = int(sys.stdin.readline())\n",
    "\n",
    "# DP 테이블 (x를 만드는 최소 연산의 수, [x를 최소 연산으로 만드는 방법])\n",
    "dp = [[0, []] for _ in range(n+1)]\n",
    "\n",
    "# DP 테이블에 f(1)의 경우를 초기화\n",
    "dp[1][0] = 0\n",
    "dp[1][1] = [1]\n",
    "\n",
    "for x in range(2, n+1):\n",
    "\n",
    "    # 먼저, f(x-1) + 1를 사용해 DP 테이블 채우기\n",
    "    dp[x][0] = dp[x-1][0] + 1\n",
    "    dp[x][1] = dp[x-1][1] + [x]\n",
    "\n",
    "    # 이후, x가 2로 나눠지는 경우, \n",
    "    if (x % 2 == 0):\n",
    "        # f(x//2) + 1과 기존 DP 테이블의 값을 비교해, 최솟값으로 변환\n",
    "        if (dp[x][0] > dp[x//2][0] + 1):\n",
    "            dp[x][0] = dp[x//2][0] + 1\n",
    "            dp[x][1] = dp[x//2][1] + [x]\n",
    "\n",
    "    # 이후, x가 3으로 나눠지는 경우, \n",
    "    if (x % 3 == 0):\n",
    "        # f(x//3) + 1과 기존 DP 테이블의 값을 비교해, 최솟값으로 변환\n",
    "        if (dp[x][0] > dp[x//3][0] + 1):\n",
    "            dp[x][0] = dp[x//3][0] + 1\n",
    "            dp[x][1] = dp[x//3][1] + [x]\n",
    "\n",
    "# x를 만드는 최소 연산의 수\n",
    "print(dp[n][0])\n",
    "# x를 최소 연산으로 만드는 방법\n",
    "for i in dp[n][1][::-1]:\n",
    "    print(i, end=\" \")"
   ]
  },
  {
   "cell_type": "code",
   "execution_count": null,
   "metadata": {},
   "outputs": [],
   "source": []
  },
  {
   "cell_type": "markdown",
   "metadata": {},
   "source": []
  }
 ],
 "metadata": {
  "kernelspec": {
   "display_name": "base",
   "language": "python",
   "name": "python3"
  },
  "language_info": {
   "codemirror_mode": {
    "name": "ipython",
    "version": 3
   },
   "file_extension": ".py",
   "mimetype": "text/x-python",
   "name": "python",
   "nbconvert_exporter": "python",
   "pygments_lexer": "ipython3",
   "version": "3.11.4"
  },
  "orig_nbformat": 4
 },
 "nbformat": 4,
 "nbformat_minor": 2
}
