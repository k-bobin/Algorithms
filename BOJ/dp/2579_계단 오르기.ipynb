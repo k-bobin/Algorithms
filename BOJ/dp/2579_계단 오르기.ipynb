{
 "cells": [
  {
   "cell_type": "code",
   "execution_count": 12,
   "metadata": {},
   "outputs": [
    {
     "name": "stdout",
     "output_type": "stream",
     "text": [
      "75\n"
     ]
    }
   ],
   "source": [
    "# 2579 계단 오르기\n",
    "#1 10,20\n",
    "#2 10+20, 10+15, 20+15, 20+25\n",
    "\n",
    "n= int(input())\n",
    "\n",
    "dp = [0] * (n+1)\n",
    "stairs = [0]* (n+1)\n",
    "\n",
    "for i in range(1,n+1):\n",
    "    stairs[i] =int(input())\n",
    "\n",
    "if n ==1:\n",
    "    print(stairs[1])\n",
    "    exit()\n",
    "elif n ==2:\n",
    "    print(sum(stairs[:3]))\n",
    "    exit()\n",
    "\n",
    "dp[1] = stairs[1]\n",
    "dp[2] = stairs[1]+stairs[2]\n",
    "\n",
    "for i in range(3,n+1):\n",
    "    dp[i] = max(dp[i-2]+stairs[i], dp[i-3]+stairs[i-1]+stairs[i])\n",
    "print(dp[-1])\n",
    "    "
   ]
  },
  {
   "cell_type": "code",
   "execution_count": null,
   "metadata": {},
   "outputs": [],
   "source": []
  }
 ],
 "metadata": {
  "kernelspec": {
   "display_name": "base",
   "language": "python",
   "name": "python3"
  },
  "language_info": {
   "codemirror_mode": {
    "name": "ipython",
    "version": 3
   },
   "file_extension": ".py",
   "mimetype": "text/x-python",
   "name": "python",
   "nbconvert_exporter": "python",
   "pygments_lexer": "ipython3",
   "version": "3.11.4"
  },
  "orig_nbformat": 4
 },
 "nbformat": 4,
 "nbformat_minor": 2
}
