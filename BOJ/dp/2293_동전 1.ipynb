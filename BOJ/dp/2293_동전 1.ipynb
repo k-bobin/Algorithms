{
 "cells": [
  {
   "cell_type": "code",
   "execution_count": 13,
   "metadata": {},
   "outputs": [
    {
     "name": "stdout",
     "output_type": "stream",
     "text": [
      "[[0, 0], ['3', '10'], ['5', '20'], ['1', '10']]\n"
     ]
    }
   ],
   "source": [
    "n, k = map(int, input().split())\n",
    "coins = [int(input()) for _ in range(n)]\n",
    "\n",
    "dp = [0] * (k+1)\n",
    "dp[0] = 1\n",
    "# dp[i] -> i원을 만들 때 가능한 경우의 수\n",
    "# dp[0] -> 동전 하나를 사용하는 경우 (coin이 3일 때, dp[3 - 3] = 1로 맞춰줌으로써 0원에서 3원을 더해 3원을 만드는 경우라고 생각)\n",
    "\n",
    "for coin in coins:\n",
    "    for i in range(coin, k+1):\n",
    "        # coin원 동전으로 i원 만들기 -> i - coin원을 만든 후 coin원을 추가하는 것과 같음\n",
    "        # 즉, coin원으로 동전을 만드는 경우의 수 -> dp[i - coin]원\n",
    "        possible_cases = dp[i - coin]\n",
    "        dp[i] += possible_cases\n",
    "\n",
    "print(dp[k])\n"
   ]
  },
  {
   "cell_type": "code",
   "execution_count": null,
   "metadata": {},
   "outputs": [],
   "source": []
  }
 ],
 "metadata": {
  "kernelspec": {
   "display_name": "base",
   "language": "python",
   "name": "python3"
  },
  "language_info": {
   "codemirror_mode": {
    "name": "ipython",
    "version": 3
   },
   "file_extension": ".py",
   "mimetype": "text/x-python",
   "name": "python",
   "nbconvert_exporter": "python",
   "pygments_lexer": "ipython3",
   "version": "3.11.4"
  },
  "orig_nbformat": 4
 },
 "nbformat": 4,
 "nbformat_minor": 2
}
