{
 "cells": [
  {
   "cell_type": "code",
   "execution_count": 13,
   "metadata": {},
   "outputs": [
    {
     "name": "stdout",
     "output_type": "stream",
     "text": [
      "[[0, 0], ['3', '10'], ['5', '20'], ['1', '10']]\n"
     ]
    }
   ],
   "source": [
    "# 15486 퇴사\n",
    "\n",
    "\n",
    "N = int(input())\n",
    "dp = [0] * (N+1)\n",
    "point = [[0,0]  for _ in range(N+1)]\n",
    "\n",
    "for i in range(1,N+1):\n",
    "    point[i][0], point[i][1] = input().split()\n",
    "\n"
   ]
  },
  {
   "cell_type": "code",
   "execution_count": null,
   "metadata": {},
   "outputs": [],
   "source": []
  }
 ],
 "metadata": {
  "kernelspec": {
   "display_name": "base",
   "language": "python",
   "name": "python3"
  },
  "language_info": {
   "codemirror_mode": {
    "name": "ipython",
    "version": 3
   },
   "file_extension": ".py",
   "mimetype": "text/x-python",
   "name": "python",
   "nbconvert_exporter": "python",
   "pygments_lexer": "ipython3",
   "version": "3.11.4"
  },
  "orig_nbformat": 4
 },
 "nbformat": 4,
 "nbformat_minor": 2
}
