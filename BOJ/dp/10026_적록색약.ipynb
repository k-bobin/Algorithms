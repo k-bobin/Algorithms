{
 "cells": [
  {
   "cell_type": "code",
   "execution_count": 13,
   "metadata": {},
   "outputs": [
    {
     "name": "stdout",
     "output_type": "stream",
     "text": [
      "[[0, 0], ['3', '10'], ['5', '20'], ['1', '10']]\n"
     ]
    }
   ],
   "source": [
    "\n",
    "import sys\n",
    "sys.setrecursionlimit(1000000)\n",
    "input = sys.stdin.readline\n",
    "\n",
    "n = int(input().rstrip())\n",
    "matrix = [list(input().rstrip()) for _ in range(n)]\n",
    "visited = [[False] * n for _ in range(n)]\n",
    "\n",
    "three_cnt, two_cnt = 0, 0\n",
    "dx = [-1,1,0,0]\n",
    "dy = [0,0,-1,1]\n",
    "\n",
    "def dfs(x,y):\n",
    "    #현재 색상 좌표를 방문해준다.\n",
    "    visited[x][y] = True\n",
    "    current_color = matrix[x][y]\n",
    "\n",
    "    for k in range(4):\n",
    "        nx = x + dx[k]\n",
    "        ny = y + dy[k]\n",
    "        if (0 <= nx < n) and (0 <= ny < n):\n",
    "            #현재 좌표의 색상과 상하좌우 좌표에 있는 색상이 같으면 dfs로 넣어준다.\n",
    "            if visited[nx][ny]==False:\n",
    "                if matrix[nx][ny] == current_color:\n",
    "                    dfs(nx,ny)\n",
    "\n",
    "for i in range(n):\n",
    "    for j in range(n):\n",
    "        # 방문하지 않은 좌표이면 dfs로 넣어준다.\n",
    "        if visited[i][j]==False:\n",
    "            dfs(i,j)\n",
    "            three_cnt += 1\n",
    "\n",
    "#R을 G로 바꾸어준다. --> 적록색약은 같은 색으로 보기 때문에\n",
    "for i in range(n):\n",
    "    for j in range(n):\n",
    "        if matrix[i][j]=='R':\n",
    "            matrix[i][j]='G'\n",
    "\n",
    "visited = [[False] * n for _ in range(n)]\n",
    "\n",
    "for i in range(n):\n",
    "    for j in range(n):\n",
    "        if visited[i][j] == False:\n",
    "            dfs(i,j)\n",
    "            two_cnt += 1\n",
    "\n",
    "print(three_cnt,two_cnt)"
   ]
  },
  {
   "cell_type": "code",
   "execution_count": null,
   "metadata": {},
   "outputs": [],
   "source": []
  }
 ],
 "metadata": {
  "kernelspec": {
   "display_name": "base",
   "language": "python",
   "name": "python3"
  },
  "language_info": {
   "codemirror_mode": {
    "name": "ipython",
    "version": 3
   },
   "file_extension": ".py",
   "mimetype": "text/x-python",
   "name": "python",
   "nbconvert_exporter": "python",
   "pygments_lexer": "ipython3",
   "version": "3.11.4"
  },
  "orig_nbformat": 4
 },
 "nbformat": 4,
 "nbformat_minor": 2
}
