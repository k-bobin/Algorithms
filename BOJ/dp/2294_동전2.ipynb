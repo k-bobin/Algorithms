{
 "cells": [
  {
   "cell_type": "code",
   "execution_count": 13,
   "metadata": {},
   "outputs": [
    {
     "name": "stdout",
     "output_type": "stream",
     "text": [
      "[[0, 0], ['3', '10'], ['5', '20'], ['1', '10']]\n"
     ]
    }
   ],
   "source": [
    "from sys import stdin\n",
    "\n",
    "n, k = map(int, stdin.readline().split())\n",
    "\n",
    "li =[]\n",
    "\n",
    "for i in range(n):\n",
    "   li.append(int(stdin.readline().rstrip()))\n",
    "\n",
    "dp = [10001] * (k+1)\n",
    "dp[0] = 0\n",
    "\n",
    "for num in li:\n",
    "   for i in range(num, k+1):\n",
    "       dp[i] = min(dp[i],dp[i-num]+1)\n",
    "if dp[k] == 10001:\n",
    "   print(-1)\n",
    "else:\n",
    "   print(dp[k])"
   ]
  },
  {
   "cell_type": "code",
   "execution_count": null,
   "metadata": {},
   "outputs": [],
   "source": []
  }
 ],
 "metadata": {
  "kernelspec": {
   "display_name": "base",
   "language": "python",
   "name": "python3"
  },
  "language_info": {
   "codemirror_mode": {
    "name": "ipython",
    "version": 3
   },
   "file_extension": ".py",
   "mimetype": "text/x-python",
   "name": "python",
   "nbconvert_exporter": "python",
   "pygments_lexer": "ipython3",
   "version": "3.11.4"
  },
  "orig_nbformat": 4
 },
 "nbformat": 4,
 "nbformat_minor": 2
}
