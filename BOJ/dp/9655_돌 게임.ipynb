{
 "cells": [
  {
   "cell_type": "code",
   "execution_count": 1,
   "metadata": {},
   "outputs": [
    {
     "name": "stdout",
     "output_type": "stream",
     "text": [
      "SK\n"
     ]
    }
   ],
   "source": [
    "# 게임은 상근이가 먼저 시작\n",
    "# 상근이가 게임을 이기면 SK를, 창영이가 게임을 이기면 CY을 출력\n",
    "\n",
    "#2 이하로 하나를 고르기, 그보다 많다면 3개 고르기 \n",
    "\n",
    "n = int(input())\n",
    "\n",
    "win = [-1]*10001\n",
    "\n",
    "win[1] = 1 #SK\n",
    "win[2] = 0 #CY\n",
    "win[3] = 1 #SK\n",
    "\n",
    "for i in range(4,n+1):\n",
    "    if win[i-1] == 1 or win[i-3] == 1:\n",
    "        win[i] = 0\n",
    "    else:\n",
    "        win[i] = 1\n",
    "\n",
    "if win[n]==1:\n",
    "    print('SK')\n",
    "else:\n",
    "    print('CY')"
   ]
  }
 ],
 "metadata": {
  "kernelspec": {
   "display_name": "base",
   "language": "python",
   "name": "python3"
  },
  "language_info": {
   "codemirror_mode": {
    "name": "ipython",
    "version": 3
   },
   "file_extension": ".py",
   "mimetype": "text/x-python",
   "name": "python",
   "nbconvert_exporter": "python",
   "pygments_lexer": "ipython3",
   "version": "3.11.4"
  },
  "orig_nbformat": 4
 },
 "nbformat": 4,
 "nbformat_minor": 2
}
