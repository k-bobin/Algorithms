{
 "cells": [
  {
   "cell_type": "code",
   "execution_count": 30,
   "metadata": {},
   "outputs": [
    {
     "name": "stdout",
     "output_type": "stream",
     "text": [
      "-1\n",
      "2\n",
      "3\n",
      "-1\n"
     ]
    }
   ],
   "source": [
    "# 14235 크리스마스 선물\n",
    "import heapq\n",
    "\n",
    "n = int(input())\n",
    "gift = []\n",
    "\n",
    "for i in range(n):\n",
    "    a = list(map(int, input().split()))\n",
    "    if a[0] == 0:\n",
    "        if len(gift) == 0:\n",
    "            print(-1)\n",
    "        else:\n",
    "            tmp = -heapq.heappop(gift)\n",
    "            print(tmp)\n",
    "    else:\n",
    "        for j in range(a[0]):\n",
    "            heapq.heappush(gift, -a[j+1])\n"
   ]
  }
 ],
 "metadata": {
  "kernelspec": {
   "display_name": "base",
   "language": "python",
   "name": "python3"
  },
  "language_info": {
   "codemirror_mode": {
    "name": "ipython",
    "version": 3
   },
   "file_extension": ".py",
   "mimetype": "text/x-python",
   "name": "python",
   "nbconvert_exporter": "python",
   "pygments_lexer": "ipython3",
   "version": "3.11.4"
  },
  "orig_nbformat": 4
 },
 "nbformat": 4,
 "nbformat_minor": 2
}
