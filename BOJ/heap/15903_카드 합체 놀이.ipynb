{
 "cells": [
  {
   "cell_type": "code",
   "execution_count": 38,
   "metadata": {},
   "outputs": [
    {
     "name": "stdout",
     "output_type": "stream",
     "text": [
      "19\n"
     ]
    }
   ],
   "source": [
    "# 카드 합체 놀이 \n",
    "import heapq\n",
    "\n",
    "N, M = list(map(int, input().split()))\n",
    "_list = list(map(int, input().split()))\n",
    "_list.sort()\n",
    "\n",
    "for _ in range(M):\n",
    "    temp1 = heapq.heappop(_list)\n",
    "    temp2 = heapq.heappop(_list)\n",
    "\n",
    "    heapq.heappush(_list, temp1+temp2)\n",
    "    heapq.heappush(_list, temp1+temp2)\n",
    "\n",
    "print(sum(_list))\n"
   ]
  },
  {
   "cell_type": "code",
   "execution_count": null,
   "metadata": {},
   "outputs": [],
   "source": []
  }
 ],
 "metadata": {
  "kernelspec": {
   "display_name": "base",
   "language": "python",
   "name": "python3"
  },
  "language_info": {
   "codemirror_mode": {
    "name": "ipython",
    "version": 3
   },
   "file_extension": ".py",
   "mimetype": "text/x-python",
   "name": "python",
   "nbconvert_exporter": "python",
   "pygments_lexer": "ipython3",
   "version": "3.11.4"
  },
  "orig_nbformat": 4
 },
 "nbformat": 4,
 "nbformat_minor": 2
}
