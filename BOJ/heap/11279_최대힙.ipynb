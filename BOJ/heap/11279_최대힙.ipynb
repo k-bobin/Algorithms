{
 "cells": [
  {
   "cell_type": "code",
   "execution_count": null,
   "metadata": {},
   "outputs": [],
   "source": [
    "# 11279 최대힙\n",
    "import heapq\n",
    "import sys\n",
    "\n",
    "N = int(input())\n",
    "h = []\n",
    "for i in range(N):\n",
    "    num = int(sys.stdin.readline()) \n",
    "    if num == 0 :\n",
    "        if h:\n",
    "            print((-1)*heapq.heappop(h))\n",
    "        else:\n",
    "            print(0)\n",
    "    else:\n",
    "        heapq.heappush(h,-(1*num))"
   ]
  }
 ],
 "metadata": {
  "kernelspec": {
   "display_name": "base",
   "language": "python",
   "name": "python3"
  },
  "language_info": {
   "codemirror_mode": {
    "name": "ipython",
    "version": 3
   },
   "file_extension": ".py",
   "mimetype": "text/x-python",
   "name": "python",
   "nbconvert_exporter": "python",
   "pygments_lexer": "ipython3",
   "version": "3.11.4"
  },
  "orig_nbformat": 4
 },
 "nbformat": 4,
 "nbformat_minor": 2
}
