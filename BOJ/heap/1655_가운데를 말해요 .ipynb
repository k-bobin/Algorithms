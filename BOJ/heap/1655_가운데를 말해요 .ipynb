{
 "cells": [
  {
   "cell_type": "code",
   "execution_count": 13,
   "metadata": {},
   "outputs": [
    {
     "name": "stdout",
     "output_type": "stream",
     "text": [
      "[-1]\n",
      "[-5]\n",
      "leftmaxvalue -1\n",
      "rightminvalue -5\n",
      "left [5]\n",
      "right [1]\n",
      "[-2, 5]\n",
      "leftmaxvalue -2\n",
      "rightminvalue 1\n",
      "left [-1, 5]\n",
      "right [2]\n"
     ]
    },
    {
     "ename": "ValueError",
     "evalue": "invalid literal for int() with base 10: ''",
     "output_type": "error",
     "traceback": [
      "\u001b[0;31m---------------------------------------------------------------------------\u001b[0m",
      "\u001b[0;31mValueError\u001b[0m                                Traceback (most recent call last)",
      "Cell \u001b[0;32mIn[13], line 13\u001b[0m\n\u001b[1;32m     10\u001b[0m right_h \u001b[39m=\u001b[39m []\n\u001b[1;32m     12\u001b[0m \u001b[39mfor\u001b[39;00m i \u001b[39min\u001b[39;00m \u001b[39mrange\u001b[39m(N):\n\u001b[0;32m---> 13\u001b[0m     num \u001b[39m=\u001b[39m \u001b[39mint\u001b[39;49m(\u001b[39minput\u001b[39;49m())\n\u001b[1;32m     14\u001b[0m     \u001b[39mif\u001b[39;00m \u001b[39mlen\u001b[39m(left_h) \u001b[39m==\u001b[39m \u001b[39mlen\u001b[39m(right_h):\n\u001b[1;32m     15\u001b[0m         heapq\u001b[39m.\u001b[39mheappush(left_h, \u001b[39m-\u001b[39mnum)\n",
      "\u001b[0;31mValueError\u001b[0m: invalid literal for int() with base 10: ''"
     ]
    }
   ],
   "source": [
    "# 1655 가운데를 말해요 \n",
    "import sys\n",
    "import heapq\n",
    "\n",
    "N= int(input())\n",
    "left_h = []\n",
    "right_h = []\n",
    "\n",
    "for i in range(N):\n",
    "    num = int(input())\n",
    "    if len(left_h) == len(right_h):\n",
    "        heapq.heappush(left_h, -num)\n",
    "        # print(left_h)\n",
    "    else:\n",
    "        heapq.heappush(right_h, num)\n",
    "        # print(right_h)\n",
    "\n",
    "    if left_h and right_h and left_h[0] *-1 > right_h[0]:\n",
    "        max_value = heapq.heappop(left_h)\n",
    "        # print('leftmaxvalue', max_value)\n",
    "        min_value = heapq.heappop(right_h)\n",
    "        # print('rightminvalue', min_value)\n",
    "\n",
    "        heapq.heappush(left_h, min_value *-1)\n",
    "        heapq.heappush(right_h, max_value *-1)\n",
    "        # print('left', left_h)\n",
    "        # print('right', right_h)\n",
    "\n",
    "    print(left_h[0] * -1)\n"
   ]
  },
  {
   "cell_type": "code",
   "execution_count": null,
   "metadata": {},
   "outputs": [],
   "source": []
  }
 ],
 "metadata": {
  "kernelspec": {
   "display_name": "base",
   "language": "python",
   "name": "python3"
  },
  "language_info": {
   "codemirror_mode": {
    "name": "ipython",
    "version": 3
   },
   "file_extension": ".py",
   "mimetype": "text/x-python",
   "name": "python",
   "nbconvert_exporter": "python",
   "pygments_lexer": "ipython3",
   "version": "3.11.4"
  },
  "orig_nbformat": 4
 },
 "nbformat": 4,
 "nbformat_minor": 2
}
