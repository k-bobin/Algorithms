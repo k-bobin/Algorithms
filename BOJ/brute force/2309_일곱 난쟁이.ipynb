{
 "cells": [
  {
   "cell_type": "code",
   "execution_count": 1,
   "metadata": {},
   "outputs": [],
   "source": [
    "data=[]\n",
    "one=0\n",
    "two=0\n",
    "\n",
    "for _ in range(9):\n",
    "  data.append(int(input()))\n",
    "  \n",
    "sum_val=sum(data)\n",
    "for i in range(8):\n",
    "  for j in range(i+1, 9):\n",
    "    # 데이터 합에서 2개 골라 뺏을때 100이면\n",
    "    if sum_val-(data[i]+data[j])==100:\n",
    "      one=data[i]\n",
    "      two=data[j]\n",
    "\n",
    "# 리스트에서 고른값 제거\n",
    "data.remove(one)\n",
    "data.remove(two)\n",
    "data.sort()\n",
    "\n",
    "# 오름차순 정렬 후 출력\n",
    "for i in data:\n",
    "  print(i)"
   ]
  },
  {
   "cell_type": "code",
   "execution_count": null,
   "metadata": {},
   "outputs": [],
   "source": []
  }
 ],
 "metadata": {
  "kernelspec": {
   "display_name": "base",
   "language": "python",
   "name": "python3"
  },
  "language_info": {
   "codemirror_mode": {
    "name": "ipython",
    "version": 3
   },
   "file_extension": ".py",
   "mimetype": "text/x-python",
   "name": "python",
   "nbconvert_exporter": "python",
   "pygments_lexer": "ipython3",
   "version": "3.11.4"
  },
  "orig_nbformat": 4
 },
 "nbformat": 4,
 "nbformat_minor": 2
}
