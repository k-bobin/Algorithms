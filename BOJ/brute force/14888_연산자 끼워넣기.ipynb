{
 "cells": [
  {
   "cell_type": "code",
   "execution_count": 13,
   "metadata": {},
   "outputs": [
    {
     "name": "stdout",
     "output_type": "stream",
     "text": [
      "54\n",
      "-24\n"
     ]
    }
   ],
   "source": [
    "# import sys\n",
    "# input = sys.stdin.readline\n",
    "from itertools import permutations\n",
    "\n",
    "data =['+', '-', 'x', '/']\n",
    "\n",
    "n = int(input())\n",
    "nums = list(map(int, input().split()))\n",
    "temp = list(map(int, input().split()))\n",
    "\n",
    "ops = []\n",
    "for i in range(len(temp)):\n",
    "    if temp[i] > 0:\n",
    "        ops.extend([data[i]] * temp[i]) #중요중요 \n",
    "\n",
    "# print(ops)\n",
    "ans = []\n",
    "maxv, minv = -1000000001, 1000000001\n",
    "\n",
    "for i in permutations(ops):\n",
    "    operators = i\n",
    "    \n",
    "    result = nums[0]\n",
    "    for n in range(1, len(nums)):\n",
    "        if operators[n-1] == '+':\n",
    "            result = result + nums[n]\n",
    "\n",
    "        elif operators[n-1] == '-':\n",
    "            result = result - nums[n]\n",
    "\n",
    "        elif operators[n-1] == 'x':\n",
    "            result = result * nums[n]\n",
    "            \n",
    "        elif operators[n-1] == '/':\n",
    "            result = int(result /nums[n])\n",
    "    \n",
    "    ans.append(result)\n",
    "\n",
    "print(max(ans))\n",
    "print(min(ans))\n",
    "\n",
    "\n",
    "\n"
   ]
  },
  {
   "cell_type": "code",
   "execution_count": 12,
   "metadata": {},
   "outputs": [
    {
     "data": {
      "text/plain": [
       "2"
      ]
     },
     "execution_count": 12,
     "metadata": {},
     "output_type": "execute_result"
    }
   ],
   "source": [
    "int(5/2)"
   ]
  },
  {
   "cell_type": "code",
   "execution_count": null,
   "metadata": {},
   "outputs": [],
   "source": []
  }
 ],
 "metadata": {
  "kernelspec": {
   "display_name": "base",
   "language": "python",
   "name": "python3"
  },
  "language_info": {
   "codemirror_mode": {
    "name": "ipython",
    "version": 3
   },
   "file_extension": ".py",
   "mimetype": "text/x-python",
   "name": "python",
   "nbconvert_exporter": "python",
   "pygments_lexer": "ipython3",
   "version": "3.11.4"
  },
  "orig_nbformat": 4
 },
 "nbformat": 4,
 "nbformat_minor": 2
}
