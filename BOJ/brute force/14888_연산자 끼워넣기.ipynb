{
 "cells": [
  {
   "cell_type": "code",
   "execution_count": 1,
   "metadata": {},
   "outputs": [],
   "source": [
    "from itertools import permutations\n",
    "n = int(input())\n",
    "number = list(map(int, input().split()))\n",
    "op = list(map(int, input().split()));\n",
    "operator = '+' * op[0] + '-' * op[1] + '*' * op[2] + '/' * op[3]\n",
    "operator_perm = permutations(operator, n-1)\n",
    "\n",
    "max_result = - int(1e9)\n",
    "min_result = int(1e9)\n",
    "for perm in operator_perm:\n",
    "    result = number[0]\n",
    "    for i in range(1, n):\n",
    "        if perm[i-1] == '+':\n",
    "            result += number[i]\n",
    "        elif perm[i-1] == '-':\n",
    "            result -= number[i]\n",
    "        elif perm[i-1] == '*':\n",
    "            result *= number[i]\n",
    "        elif perm[i-1] == '/':\n",
    "            if result < 0 and number[i] > 0: \n",
    "                result = -1*( result*(-1) // number[i])\n",
    "            else:\n",
    "                result //= number[i]\n",
    "    max_result = max(max_result, result)\n",
    "    min_result = min(min_result, result)\n",
    "\n",
    "print(max_result)\n",
    "print(min_result)\n"
   ]
  },
  {
   "cell_type": "code",
   "execution_count": null,
   "metadata": {},
   "outputs": [],
   "source": []
  }
 ],
 "metadata": {
  "kernelspec": {
   "display_name": "base",
   "language": "python",
   "name": "python3"
  },
  "language_info": {
   "codemirror_mode": {
    "name": "ipython",
    "version": 3
   },
   "file_extension": ".py",
   "mimetype": "text/x-python",
   "name": "python",
   "nbconvert_exporter": "python",
   "pygments_lexer": "ipython3",
   "version": "3.11.4"
  },
  "orig_nbformat": 4
 },
 "nbformat": 4,
 "nbformat_minor": 2
}
