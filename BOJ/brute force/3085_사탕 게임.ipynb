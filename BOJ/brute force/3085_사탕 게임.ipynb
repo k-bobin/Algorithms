{
 "cells": [
  {
   "cell_type": "code",
   "execution_count": 13,
   "metadata": {},
   "outputs": [
    {
     "name": "stdout",
     "output_type": "stream",
     "text": [
      "29\n"
     ]
    }
   ],
   "source": [
    "n = int(input())\n",
    "\n",
    "array = []\n",
    "for _ in range(n):\n",
    "    colors = list(map(str, input()))\n",
    "    array.append(colors)\n",
    "\n",
    "maxCount = 0 #최대 사탕 개수를 초기화\n",
    "\n",
    "# 배열의 행 마다 같은 색의 사탕이 몇개 있는지 계산\n",
    "def width():\n",
    "    global  maxCount\n",
    "    \n",
    "    for k in range(n):\n",
    "        countRow = 1 #초기 개수를 1로 초기화\n",
    "        for l in range(n - 1):\n",
    "            if array[k][l] == array[k][l + 1]: #만약 같은 열의 사탕의 색이 같다면\n",
    "                countRow += 1 #사탕 개수 1 증가\n",
    "                maxCount = max(maxCount,countRow) #증가시킨 값과 최대 사탕개수를 비교하여 큰값을 대입\n",
    "            else: #만약 같은 열의 사탕 개수가 다르다면\n",
    "                countRow = 1 #개수를 1로 초기화\n",
    "\n",
    "\n",
    "# 배열의 열마다 같은 색의 사탕이 몇개 있는지 계산\n",
    "def height():\n",
    "    for k in range(n):\n",
    "        global maxCount\n",
    "        \n",
    "        countColumn = 1 #초기 개수를 1로 초기화\n",
    "        for l in range(n - 1):\n",
    "            if array[l][k] == array[l + 1][k]: #만약 같은 행의 사탕의 색이 같다면\n",
    "                countColumn += 1 #사탕 개수를 1개씩 증가시켜주고\n",
    "                maxCount = max(maxCount,countColumn) #증가시킨 값과 최대 사탕개수를 비교하여 큰값을 대입\n",
    "            else: #만약 같은 행의 색이 다르다면\n",
    "                countColumn = 1 #개수를 1로 초기화\n",
    "\n",
    "\n",
    "for i in range(n):\n",
    "    for j in range(n - 1):\n",
    "        # 만약 입력 받은 배열의 행의 원소가 다르다면\n",
    "        if array[i][j] != array[i][j + 1]:\n",
    "            array[i][j], array[i][j + 1] = array[i][j + 1], array[i][j]\n",
    "            width()\n",
    "            height()\n",
    "            array[i][j + 1], array[i][j] = array[i][j], array[i][j + 1]\n",
    "        # 만약 입력 받은 배열의 열의 원소가 다르다면\n",
    "        if array[j][i] != array[j + 1][i]:\n",
    "            array[j][i], array[j + 1][i] = array[j + 1][i], array[j][i]\n",
    "            width()\n",
    "            height()\n",
    "            array[j + 1][i], array[j][i] = array[j][i], array[j + 1][i]\n",
    "\n",
    "print(maxCount) #색이 같은 사탕개수 최대값을 출력"
   ]
  },
  {
   "cell_type": "code",
   "execution_count": null,
   "metadata": {},
   "outputs": [],
   "source": []
  }
 ],
 "metadata": {
  "kernelspec": {
   "display_name": "base",
   "language": "python",
   "name": "python3"
  },
  "language_info": {
   "codemirror_mode": {
    "name": "ipython",
    "version": 3
   },
   "file_extension": ".py",
   "mimetype": "text/x-python",
   "name": "python",
   "nbconvert_exporter": "python",
   "pygments_lexer": "ipython3",
   "version": "3.11.4"
  },
  "orig_nbformat": 4
 },
 "nbformat": 4,
 "nbformat_minor": 2
}
