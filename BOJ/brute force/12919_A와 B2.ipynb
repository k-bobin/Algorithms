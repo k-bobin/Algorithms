{
 "cells": [
  {
   "cell_type": "code",
   "execution_count": 31,
   "metadata": {},
   "outputs": [
    {
     "name": "stdout",
     "output_type": "stream",
     "text": [
      "0\n"
     ]
    }
   ],
   "source": [
    "from collections import deque\n",
    "s = input()\n",
    "t = input()\n",
    "\n",
    "def find(t):\n",
    "    if len(t)==len(s):\n",
    "        return t==s\n",
    "    if t[0] == 'B' and find(t[:0:-1]): #뒤집이서 0번째 빼고 출력 \n",
    "        return True\n",
    "    if t[-1] == 'A' and find(t[:-1]): #추가한 A빼고 \n",
    "        return True\n",
    "    \n",
    "print(1 if find(t) else 0)\n",
    "    \n",
    "\n"
   ]
  },
  {
   "cell_type": "code",
   "execution_count": null,
   "metadata": {},
   "outputs": [],
   "source": []
  }
 ],
 "metadata": {
  "kernelspec": {
   "display_name": "base",
   "language": "python",
   "name": "python3"
  },
  "language_info": {
   "codemirror_mode": {
    "name": "ipython",
    "version": 3
   },
   "file_extension": ".py",
   "mimetype": "text/x-python",
   "name": "python",
   "nbconvert_exporter": "python",
   "pygments_lexer": "ipython3",
   "version": "3.11.4"
  },
  "orig_nbformat": 4
 },
 "nbformat": 4,
 "nbformat_minor": 2
}
