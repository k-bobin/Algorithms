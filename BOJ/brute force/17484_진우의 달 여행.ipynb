{
 "cells": [
  {
   "cell_type": "code",
   "execution_count": 13,
   "metadata": {},
   "outputs": [
    {
     "name": "stdout",
     "output_type": "stream",
     "text": [
      "29\n"
     ]
    }
   ],
   "source": [
    "n, m = map(int, input().split())\n",
    "board = [list(map(int, input().split())) for _ in range(n)]\n",
    "\n",
    "dp = [[101]*m for _ in range(n)]\n",
    "for i in range(1):\n",
    "    for j in range(m):\n",
    "        dp[i][j] = board[i][j]\n",
    "\n",
    "# -1:위왼쪽 0:바로위 1:위오른쪽\n",
    "dx = [-1,0,1]\n",
    "\n",
    "#전 방향 저장하는 변수 \n",
    "dir = [False] * m\n",
    "\n",
    "for i in range(1, n):\n",
    "    for j in range(m):\n",
    "        #4방향 돌기 \n",
    "        for k in range(3):\n",
    "            #이전 방향과 같은지 확인 \n",
    "            if dir[j] != dx[k] and 0<=j+dx[k]<m:\n",
    "                if dp[i][j] > board[i][j]+ dp[i-1][j+dx[k]]:\n",
    "                    dp[i][j] = board[i][j]+ dp[i-1][j+dx[k]]\n",
    "                    dir[j] = dx[k]\n",
    "\n",
    "\n",
    "print(min(dp[-1]))\n",
    "        "
   ]
  },
  {
   "cell_type": "code",
   "execution_count": null,
   "metadata": {},
   "outputs": [],
   "source": []
  }
 ],
 "metadata": {
  "kernelspec": {
   "display_name": "base",
   "language": "python",
   "name": "python3"
  },
  "language_info": {
   "codemirror_mode": {
    "name": "ipython",
    "version": 3
   },
   "file_extension": ".py",
   "mimetype": "text/x-python",
   "name": "python",
   "nbconvert_exporter": "python",
   "pygments_lexer": "ipython3",
   "version": "3.11.4"
  },
  "orig_nbformat": 4
 },
 "nbformat": 4,
 "nbformat_minor": 2
}
