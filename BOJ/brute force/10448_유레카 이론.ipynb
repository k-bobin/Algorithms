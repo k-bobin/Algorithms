{
 "cells": [
  {
   "cell_type": "code",
   "execution_count": 1,
   "metadata": {},
   "outputs": [],
   "source": [
    "value = 2000000000\n",
    "N = int(input())\n",
    "x, y = 0, 0\n",
    "l = 0\n",
    "r = N - 1\n",
    "\n",
    "dragon_liquid = [int(x) for x in input().split()]\n",
    "# 문제에서 이미 오름차순으로 정렬\n",
    "\n",
    "while l < r:\n",
    "    cur_value = dragon_liquid[l] + dragon_liquid[r]\n",
    "\n",
    "    if abs(cur_value) <= value:\n",
    "        x = dragon_liquid[l]\n",
    "        y = dragon_liquid[r]\n",
    "        value = abs(cur_value)\n",
    "\n",
    "    if cur_value <= 0:\n",
    "        l += 1\n",
    "\n",
    "    else: # cur_value > 0\n",
    "        r -= 1\n",
    "\n",
    "print(x, y)"
   ]
  },
  {
   "cell_type": "code",
   "execution_count": null,
   "metadata": {},
   "outputs": [],
   "source": []
  }
 ],
 "metadata": {
  "kernelspec": {
   "display_name": "base",
   "language": "python",
   "name": "python3"
  },
  "language_info": {
   "codemirror_mode": {
    "name": "ipython",
    "version": 3
   },
   "file_extension": ".py",
   "mimetype": "text/x-python",
   "name": "python",
   "nbconvert_exporter": "python",
   "pygments_lexer": "ipython3",
   "version": "3.11.4"
  },
  "orig_nbformat": 4
 },
 "nbformat": 4,
 "nbformat_minor": 2
}
