{
 "cells": [
  {
   "cell_type": "code",
   "execution_count": 26,
   "metadata": {},
   "outputs": [
    {
     "name": "stdout",
     "output_type": "stream",
     "text": [
      "33\n"
     ]
    }
   ],
   "source": [
    "# 시간초과 \n",
    "n = int(input())\n",
    "_list = list(map(int, input().split()))\n",
    "\n",
    "max_num = -1001\n",
    "for i in range(n):\n",
    "    for j in range(i+1, len(_list)+1):\n",
    "        if max_num < sum(_list[i:j]):\n",
    "            max_num = sum(_list[i:j])\n",
    "    \n",
    "print(max_num)"
   ]
  },
  {
   "cell_type": "code",
   "execution_count": 27,
   "metadata": {},
   "outputs": [
    {
     "name": "stdout",
     "output_type": "stream",
     "text": [
      "[-1, -2, -3, -4, -5]\n",
      "[0, 0, 0, 0, 0]\n"
     ]
    }
   ],
   "source": [
    "n = int(input())\n",
    "_list = list(map(int, input().split()))\n",
    "\n",
    "max_sum = -1001\n",
    "current_sum = 0\n",
    "\n",
    "for i in range(n):\n",
    "    current_sum = max(_list[i], current_sum + _list[i])\n",
    "    max_sum = max(max_sum, current_sum)\n",
    "\n",
    "print(max_sum)\n"
   ]
  },
  {
   "cell_type": "code",
   "execution_count": null,
   "metadata": {},
   "outputs": [],
   "source": []
  }
 ],
 "metadata": {
  "kernelspec": {
   "display_name": "base",
   "language": "python",
   "name": "python3"
  },
  "language_info": {
   "codemirror_mode": {
    "name": "ipython",
    "version": 3
   },
   "file_extension": ".py",
   "mimetype": "text/x-python",
   "name": "python",
   "nbconvert_exporter": "python",
   "pygments_lexer": "ipython3",
   "version": "3.11.4"
  },
  "orig_nbformat": 4
 },
 "nbformat": 4,
 "nbformat_minor": 2
}
