{
 "cells": [
  {
   "cell_type": "code",
   "execution_count": 1,
   "metadata": {},
   "outputs": [],
   "source": [
    "n, m, K = map(int, input().split())\n",
    "graph = [list(input()) for _ in range(n)]\n",
    "answer = 0\n",
    "\n",
    "def rec_fun(x, y, k):\n",
    "    global answer\n",
    "    if k == K:\n",
    "        if (x, y) == (0, m - 1): answer += 1\n",
    "    else:\n",
    "        for dx, dy in ((1, 0), (-1, 0), (0, 1), (0, -1)):\n",
    "            nx, ny = x + dx, y + dy\n",
    "            if 0 <= nx < n and 0 <= ny < m and graph[nx][ny] != 'T':\n",
    "                graph[nx][ny] = 'T'\n",
    "                rec_fun(nx, ny, k + 1)\n",
    "                graph[nx][ny] = '.'\n",
    "\n",
    "graph[n - 1][0] = 'T' # 시작 지점 방문 처리\n",
    "rec_fun(n - 1, 0, 1)\n",
    "print(answer)"
   ]
  },
  {
   "cell_type": "code",
   "execution_count": null,
   "metadata": {},
   "outputs": [],
   "source": []
  }
 ],
 "metadata": {
  "kernelspec": {
   "display_name": "base",
   "language": "python",
   "name": "python3"
  },
  "language_info": {
   "codemirror_mode": {
    "name": "ipython",
    "version": 3
   },
   "file_extension": ".py",
   "mimetype": "text/x-python",
   "name": "python",
   "nbconvert_exporter": "python",
   "pygments_lexer": "ipython3",
   "version": "3.11.4"
  },
  "orig_nbformat": 4
 },
 "nbformat": 4,
 "nbformat_minor": 2
}
