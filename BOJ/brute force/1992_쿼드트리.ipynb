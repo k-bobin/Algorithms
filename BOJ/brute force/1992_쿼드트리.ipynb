{
 "cells": [
  {
   "cell_type": "code",
   "execution_count": 1,
   "metadata": {},
   "outputs": [],
   "source": [
    "def division(start_row, start_col, size):\n",
    "    if size == 1:   # 픽셀 하나일 때 \n",
    "        print(arr[start_row][start_col], end=\"\")\n",
    "        return\n",
    "    num = arr[start_row][start_col]\n",
    "\n",
    "    for row in range(start_row, start_row + size):\n",
    "        for col in range(start_col, start_col + size):\n",
    "            if num != arr[row][col]:\n",
    "                print(\"(\", end=\"\")\n",
    "                size //= 2\n",
    "                division(start_row, start_col, size)\n",
    "                division(start_row, start_col + size, size)\n",
    "                division(start_row + size, start_col, size)\n",
    "                division(start_row + size, start_col + size, size)\n",
    "                print(\")\", end=\"\")\n",
    "                return\n",
    "\n",
    "    print(arr[start_row][start_col], end=\"\")\n",
    "    return\n",
    "\n",
    "\n",
    "n = int(input())\n",
    "arr = []\n",
    "for _ in range(n):\n",
    "    arr.append(list(map(int, list(input().rstrip()))))\n",
    "\n",
    "division(0, 0, n)\n"
   ]
  },
  {
   "cell_type": "code",
   "execution_count": null,
   "metadata": {},
   "outputs": [],
   "source": []
  }
 ],
 "metadata": {
  "kernelspec": {
   "display_name": "base",
   "language": "python",
   "name": "python3"
  },
  "language_info": {
   "codemirror_mode": {
    "name": "ipython",
    "version": 3
   },
   "file_extension": ".py",
   "mimetype": "text/x-python",
   "name": "python",
   "nbconvert_exporter": "python",
   "pygments_lexer": "ipython3",
   "version": "3.11.4"
  },
  "orig_nbformat": 4
 },
 "nbformat": 4,
 "nbformat_minor": 2
}
